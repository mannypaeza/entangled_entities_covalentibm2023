{
 "cells": [
  {
   "cell_type": "code",
   "execution_count": 63,
   "id": "312bbd4b-3be6-48f1-ad38-4cd063874a75",
   "metadata": {},
   "outputs": [
    {
     "name": "stderr",
     "output_type": "stream",
     "text": [
      "ibmqfactory.load_account:WARNING:2023-01-29 06:32:24,527: Credentials are already in use. The existing account in the session will be replaced.\n"
     ]
    }
   ],
   "source": [
    "import numpy as np\n",
    "\n",
    "# Importing standard Qiskit libraries\n",
    "from qiskit import QuantumCircuit, transpile, Aer, IBMQ\n",
    "from qiskit.tools.jupyter import *\n",
    "from qiskit.visualization import *\n",
    "from ibm_quantum_widgets import *\n",
    "from qiskit.providers.aer import QasmSimulator\n",
    "\n",
    "# Loading your IBM Quantum account(s)\n",
    "provider = IBMQ.load_account()"
   ]
  },
  {
   "cell_type": "code",
   "execution_count": 64,
   "id": "d8a36215-0bbf-4c49-b363-85a321c0d6c4",
   "metadata": {},
   "outputs": [
    {
     "name": "stdout",
     "output_type": "stream",
     "text": [
      "Overwriting train_power_classifier.py\n"
     ]
    }
   ],
   "source": [
    "%%writefile train_power_classifier.py\n",
    "import numpy as np\n",
    "import pandas as pd\n",
    "# Importing standard Qiskit libraries\n",
    "from qiskit import QuantumCircuit, transpile, Aer, IBMQ, execute\n",
    "from qiskit.visualization import *\n",
    "from qiskit_ibm_runtime.program import UserMessenger\n",
    "from scipy.optimize import dual_annealing\n",
    "import statistics\n",
    "\n",
    "\n",
    "def main(backend, user_messenger, data, num_gate_layers, maxiter):\n",
    "    results = {}\n",
    "    training_result = dual_annealing(lambda param: loss_function(param, backend=backend, user_messenger=user_messenger, data=data), [(0, 1)] * num_gate_layers * 3, maxiter=maxiter)\n",
    "    results[str(n) + \", \" + str(i)] = {\"num_params\": num_gate_layers, \"maxiter\": maxiter, \"training\":training_result}\n",
    "    return results\n",
    "\n",
    "iteration_count = 0\n",
    "\n",
    "def loss_function(parameters, backend=None, user_messenger=None, data=None):\n",
    "    \"\"\"\n",
    "\n",
    "    :param parameters: A 1D array of parameters\n",
    "    :param data: A Dataframe of training examples\n",
    "    :return: Average classification error over all examples in the data.\n",
    "    \"\"\"\n",
    "    \n",
    "    np.random.shuffle(data)\n",
    "    examples = data[:10]\n",
    "    losses = []\n",
    "    for ex in examples:\n",
    "        losses.append(compute_single_loss(parameters, ex, backend))\n",
    "    loss = statistics.mean(losses)\n",
    "    global iteration_count\n",
    "    iteration_count += 1\n",
    "    return loss\n",
    "\n",
    "def compute_single_loss(parameters, example, backend):\n",
    "    \"\"\"\n",
    "    Example includes features and label. Returns classification error [0.0, 1.0]\n",
    "    \"\"\"\n",
    "    qc = QuantumCircuit(3)\n",
    "    embed_example(qc, example)\n",
    "    apply_parameters(qc, parameters)\n",
    "    result = run_circuit(qc, backend)\n",
    "    return compute_loss(result, example)\n",
    "\n",
    "def embed_example(circuit, example):\n",
    "    circuit.rx(np.pi * example[0], 0)\n",
    "    circuit.rx(np.pi * example[1], 1)\n",
    "    circuit.rx(np.pi * example[2], 2)\n",
    "\n",
    "def apply_parameters(circuit, parameters):\n",
    "    # TODO: use full range\n",
    "    layers = np.reshape(parameters, (int(len(parameters)/3), 3))\n",
    "    layer_count = 1\n",
    "    for layer in layers:\n",
    "        for gate in range(len(layer)):\n",
    "            if layer_count % 3 == 0:\n",
    "                circuit.rx(np.pi * layer[gate], gate)\n",
    "            elif layer_count % 3 == 1:\n",
    "                circuit.ry(np.pi * layer[gate], gate)\n",
    "            else:\n",
    "                circuit.rz(np.pi * layer[gate], gate)\n",
    "        circuit.cx(0,1)\n",
    "        circuit.cx(1,2)\n",
    "        circuit.cx(2,0)\n",
    "        layer_count += 1\n",
    "        circuit.barrier()\n",
    "    circuit.measure_all()\n",
    "\n",
    "def run_circuit(circuit, backend):\n",
    "\n",
    "    num_shots = 1024\n",
    "    job = execute(circuit,\n",
    "                  shots=num_shots,\n",
    "                  backend=backend)\n",
    "\n",
    "    # Return the measured counts\n",
    "    return job.result().get_counts()\n",
    "\n",
    "def compute_loss(result, example):\n",
    "    \"\"\"\n",
    "    Gives percentage of classification error based on quantum computer predictions\n",
    "    \"\"\"\n",
    "    correct_count = 0\n",
    "    # Majority vote, compute # of runs that vote for the right label across all measurements\n",
    "    for measurement in result:\n",
    "        # Determine vote\n",
    "        vote = 0\n",
    "        if measurement.count('1') > measurement.count('0'):\n",
    "            vote = 1\n",
    "        if vote == example[3]:\n",
    "            correct_count += result[measurement]\n",
    "\n",
    "    total_count = sum(result.values())\n",
    "    return (total_count - correct_count) / total_count"
   ]
  },
  {
   "cell_type": "code",
   "execution_count": 65,
   "id": "0a6aa015-60c5-474b-975c-063e5f65a34d",
   "metadata": {},
   "outputs": [],
   "source": [
    "# from qiskit_ibm_runtime import QiskitRuntimeService\n",
    "\n",
    "# service = QiskitRuntimeService()\n",
    "# meta = {\n",
    "#     \"name\": \"power-danger-binary\",\n",
    "#     \"description\": \"Parameterized by num parameters and max iterations of dual annealing.\",\n",
    "#     \"max_execution_time\": 300000,\n",
    "#     \"spec\": {},\n",
    "# }\n",
    "# program_id = service.upload_program(data=\"train_power_classifier.py\", metadata=meta)\n",
    "# print(program_id)"
   ]
  },
  {
   "cell_type": "code",
   "execution_count": 66,
   "id": "7b274cd7-8366-445d-b26c-a7764e954a2e",
   "metadata": {},
   "outputs": [
    {
     "name": "stdout",
     "output_type": "stream",
     "text": [
      "power-danger-binary-56jewxa2XV:\n",
      "  Name: power-danger-binary\n",
      "  Description: Parameterized by num parameters and max iterations of dual annealing.\n",
      "  Creation date: 2023-01-29T06:08:45.142275Z\n",
      "  Update date: 2023-01-29T06:32:33.720382Z\n",
      "  Max execution time: 300000\n",
      "  Backend requirements:\n",
      "    none\n",
      "  Input parameters:\n",
      "    none\n",
      "  Interim results:\n",
      "    none\n",
      "  Returns:\n",
      "    none\n"
     ]
    }
   ],
   "source": [
    "service = QiskitRuntimeService()\n",
    "meta = {\n",
    "    \"name\": \"power-danger-binary\",\n",
    "    \"description\": \"Parameterized by num parameters and max iterations of dual annealing.\",\n",
    "    \"max_execution_time\": 300000,\n",
    "    \"spec\": {},\n",
    "}\n",
    "prog_id = 'power-danger-binary-56jewxa2XV'\n",
    "service.update_program(prog_id, data=\"train_power_classifier.py\", metadata=meta)\n",
    "prog = service.program(prog_id)\n",
    "print(prog)"
   ]
  },
  {
   "cell_type": "code",
   "execution_count": 67,
   "id": "24ab5bba-ec1b-4ed8-b35f-a0865d14130f",
   "metadata": {},
   "outputs": [
    {
     "name": "stdout",
     "output_type": "stream",
     "text": [
      "[[ 0.57527275  0.08224729 -1.23076435]\n",
      " [-0.33391741 -0.45231781  0.18188075]\n",
      " [-0.13007259 -1.55370375 -0.28671736]\n",
      " [-0.01791477 -0.71276368 -0.05739586]\n",
      " [-2.3166851  -0.19425537  1.60066718]\n",
      " [ 1.30286007  0.04542252 -1.2460973 ]\n",
      " [ 0.76006083 -1.32699332  0.5612395 ]\n",
      " [-2.58308449 -0.32520964 -0.77430997]\n",
      " [-1.1228882   0.07078341 -0.87484126]\n",
      " [-0.55518824 -0.45258028  0.9240625 ]]\n",
      "[[0 0 1 0 1 1 1 0 1 1]]\n"
     ]
    },
    {
     "data": {
      "text/plain": [
       "array([[ 0.57527275,  0.08224729, -1.23076435,  0.        ],\n",
       "       [-0.33391741, -0.45231781,  0.18188075,  0.        ],\n",
       "       [-0.13007259, -1.55370375, -0.28671736,  1.        ],\n",
       "       [-0.01791477, -0.71276368, -0.05739586,  0.        ],\n",
       "       [-2.3166851 , -0.19425537,  1.60066718,  1.        ],\n",
       "       [ 1.30286007,  0.04542252, -1.2460973 ,  1.        ],\n",
       "       [ 0.76006083, -1.32699332,  0.5612395 ,  1.        ],\n",
       "       [-2.58308449, -0.32520964, -0.77430997,  0.        ],\n",
       "       [-1.1228882 ,  0.07078341, -0.87484126,  1.        ],\n",
       "       [-0.55518824, -0.45258028,  0.9240625 ,  1.        ]])"
      ]
     },
     "execution_count": 67,
     "metadata": {},
     "output_type": "execute_result"
    }
   ],
   "source": [
    "fake_train_data = np.random.randn(10,3)\n",
    "print(fake_train_data)\n",
    "\n",
    "fake_labels = np.array([np.random.randint(2, size=10)])\n",
    "print(fake_labels)\n",
    "\n",
    "np.concatenate((fake_train_data, fake_labels.T), axis=1)"
   ]
  },
  {
   "cell_type": "code",
   "execution_count": 69,
   "id": "b492d911-2217-4e25-94c3-391eaa2ed32e",
   "metadata": {},
   "outputs": [],
   "source": [
    "inputs = {}\n",
    "inputs[\"data\"] = np.concatenate((fake_train_data, fake_labels.T), axis=1)\n",
    "inputs[\"num_gate_layers\"] = 10\n",
    "inputs[\"maxiter\"] = 2\n",
    "interim_results = []\n",
    "def vqe_callback(job_id, data):\n",
    "    interim_results.append(data)\n",
    "\n",
    "options = {\"backend_name\": \"ibmq_qasm_simulator\"}"
   ]
  },
  {
   "cell_type": "code",
   "execution_count": 70,
   "id": "bc02e491-aa05-4a9f-ac2d-3dbefc77def1",
   "metadata": {},
   "outputs": [],
   "source": [
    "job = service.run(prog_id, options=options, inputs=inputs, callback=vqe_callback)"
   ]
  },
  {
   "cell_type": "code",
   "execution_count": 71,
   "id": "796f5d4f-8dff-4026-b979-01dfb352353f",
   "metadata": {},
   "outputs": [],
   "source": [
    "job.result()"
   ]
  },
  {
   "cell_type": "code",
   "execution_count": 99,
   "id": "ec897a6d-7bad-4710-bfd5-0196853e1881",
   "metadata": {},
   "outputs": [],
   "source": [
    "import numpy as np\n",
    "import pandas as pd\n",
    "# Importing standard Qiskit libraries\n",
    "from qiskit import QuantumCircuit, transpile, Aer, IBMQ, execute\n",
    "from qiskit.visualization import *\n",
    "from qiskit_ibm_runtime.program import UserMessenger\n",
    "from scipy.optimize import dual_annealing\n",
    "import statistics\n",
    "\n",
    "\n",
    "def main(backend, user_messenger, data, num_gate_layers, maxiter):\n",
    "    results = {}\n",
    "    training_result = dual_annealing(lambda param: loss_function(param, backend=backend, user_messenger=user_messenger, data=data), [(0, 1)] * num_gate_layers * 3, maxiter=maxiter)\n",
    "    results[str(num_gate_layers) + \", \" + str(maxiter)] = {\"num_params\": num_gate_layers, \"maxiter\": maxiter, \"training\":training_result}\n",
    "    return results\n",
    "\n",
    "iteration_count = 0\n",
    "\n",
    "def loss_function(parameters, backend=None, user_messenger=None, data=None):\n",
    "    \"\"\"\n",
    "\n",
    "    :param parameters: A 1D array of parameters\n",
    "    :param data: A Dataframe of training examples\n",
    "    :return: Average classification error over all examples in the data.\n",
    "    \"\"\"\n",
    "    np.random.shuffle(data)\n",
    "    examples = data[:10]\n",
    "    losses = []\n",
    "    for ex in examples:\n",
    "        losses += [compute_single_loss(parameters, ex, backend)]\n",
    "    loss = statistics.mean(losses)\n",
    "    global iteration_count\n",
    "    iteration_count += 1\n",
    "    if iteration_count % 20 == 0:\n",
    "        print(\"loss func iteration\", iteration_count)\n",
    "        print(loss)\n",
    "    return loss\n",
    "\n",
    "def compute_single_loss(parameters, example, backend):\n",
    "    \"\"\"\n",
    "    Example includes features and label. Returns classification error [0.0, 1.0]\n",
    "    \"\"\"\n",
    "    qc = QuantumCircuit(3)\n",
    "    embed_example(qc, example)\n",
    "    apply_parameters(qc, parameters)\n",
    "    result = run_circuit(qc, backend)\n",
    "    return compute_loss(result, example)\n",
    "\n",
    "def embed_example(circuit, example):\n",
    "    circuit.rx(np.pi * example[0], 0)\n",
    "    circuit.rx(np.pi * example[1], 1)\n",
    "    circuit.rx(np.pi * example[2], 2)\n",
    "\n",
    "def apply_parameters(circuit, parameters):\n",
    "    # TODO: use full range\n",
    "    layers = np.reshape(parameters, (int(len(parameters)/3), 3))\n",
    "    layer_count = 1\n",
    "    for layer in layers:\n",
    "        for gate in range(len(layer)):\n",
    "            if layer_count % 3 == 0:\n",
    "                circuit.rx(np.pi * layer[gate], gate)\n",
    "            elif layer_count % 3 == 1:\n",
    "                circuit.ry(np.pi * layer[gate], gate)\n",
    "            else:\n",
    "                circuit.rz(np.pi * layer[gate], gate)\n",
    "        circuit.cx(0,1)\n",
    "        circuit.cx(1,2)\n",
    "        circuit.cx(2,0)\n",
    "        layer_count += 1\n",
    "        circuit.barrier()\n",
    "    circuit.measure_all()\n",
    "\n",
    "def run_circuit(circuit, backend):\n",
    "\n",
    "    num_shots = 500\n",
    "    job = execute(circuit,\n",
    "                  shots=num_shots,\n",
    "                  backend=backend)\n",
    "\n",
    "    # Return the measured counts\n",
    "    return job.result().get_counts()\n",
    "\n",
    "def compute_loss(result, example):\n",
    "    \"\"\"\n",
    "    Gives percentage of classification error based on quantum computer predictions\n",
    "    \"\"\"\n",
    "    correct_count = 0\n",
    "    # Majority vote, compute # of runs that vote for the right label across all measurements\n",
    "    for measurement in result:\n",
    "        # Determine vote\n",
    "        vote = 0\n",
    "        if measurement.count('1') > measurement.count('0'):\n",
    "            vote = 1\n",
    "        if vote == example[3]:\n",
    "            correct_count += result[measurement]\n",
    "\n",
    "    total_count = sum(result.values())\n",
    "    return (total_count - correct_count) / total_count"
   ]
  },
  {
   "cell_type": "code",
   "execution_count": 100,
   "id": "291ce9ee-d66e-4361-8456-a43d0f550194",
   "metadata": {},
   "outputs": [
    {
     "data": {
      "text/plain": [
       "(100, 4)"
      ]
     },
     "execution_count": 100,
     "metadata": {},
     "output_type": "execute_result"
    }
   ],
   "source": [
    "from sklearn import datasets\n",
    "iris = datasets.load_iris()\n",
    "X = iris.data[:, :2][:100]  # we only take the first two features.\n",
    "y = iris.target[:100]\n",
    "\n",
    "X_extra = np.concatenate((X, np.array([[0]*100]).T), axis=1)\n",
    "\n",
    "iris_data = np.concatenate((X_extra, np.array([y]).T), axis=1) \n",
    "iris_data.shape"
   ]
  },
  {
   "cell_type": "code",
   "execution_count": 101,
   "id": "117716f4-f781-4c08-a777-3ff8d818ec89",
   "metadata": {},
   "outputs": [
    {
     "name": "stdout",
     "output_type": "stream",
     "text": [
      "loss func iteration 20\n",
      "0.429\n",
      "loss func iteration 40\n",
      "0.5612\n",
      "loss func iteration 60\n",
      "0.5946\n",
      "loss func iteration 80\n",
      "0.4158\n",
      "loss func iteration 100\n",
      "0.4954\n",
      "loss func iteration 120\n",
      "0.5196\n",
      "loss func iteration 140\n",
      "0.5478\n",
      "loss func iteration 160\n",
      "0.4946\n",
      "loss func iteration 180\n",
      "0.388\n",
      "loss func iteration 200\n",
      "0.431\n",
      "loss func iteration 220\n",
      "0.3612\n",
      "loss func iteration 240\n",
      "0.4446\n",
      "loss func iteration 260\n",
      "0.4622\n",
      "loss func iteration 280\n",
      "0.43119999999999997\n",
      "loss func iteration 300\n",
      "0.579\n",
      "loss func iteration 320\n",
      "0.4638\n",
      "loss func iteration 340\n",
      "0.525\n",
      "loss func iteration 360\n",
      "0.6258\n"
     ]
    },
    {
     "data": {
      "text/plain": [
       "{'4, 2': {'num_params': 4,\n",
       "  'maxiter': 2,\n",
       "  'training':      fun: 0.3446\n",
       "   message: ['Maximum number of iteration reached']\n",
       "      nfev: 361\n",
       "      nhev: 0\n",
       "       nit: 2\n",
       "      njev: 24\n",
       "    status: 0\n",
       "   success: True\n",
       "         x: array([0.8683269 , 0.39393166, 0.47681407, 0.30033276, 0.97830805,\n",
       "         0.52097628, 0.99194506, 0.92128744, 0.57695905, 0.36047569,\n",
       "         0.83097868, 0.47035325])}}"
      ]
     },
     "execution_count": 101,
     "metadata": {},
     "output_type": "execute_result"
    }
   ],
   "source": [
    "# inputs = {}\n",
    "# inputs[\"data\"] = np.concatenate((fake_train_data, fake_labels.T), axis=1)\n",
    "# inputs[\"num_gate_layers\"] = 10\n",
    "# inputs[\"maxiter\"] = 20\n",
    "# interim_results = []\n",
    "# def vqe_callback(job_id, data):\n",
    "#     interim_results.append(data)\n",
    "\n",
    "# options = {\"backend_name\": \"ibmq_qasm_simulator\"}\n",
    "# main(Aer.get_backend('aer_simulator'), None, np.concatenate((fake_train_data, fake_labels.T), axis=1), 2, 2)\n",
    "main(Aer.get_backend('aer_simulator'), None, iris_data, 4, 2)"
   ]
  },
  {
   "cell_type": "code",
   "execution_count": 103,
   "id": "2db06081-fc52-4172-9f75-1fc7f5babf38",
   "metadata": {},
   "outputs": [
    {
     "name": "stdout",
     "output_type": "stream",
     "text": [
      "Traceback \u001b[1;36m(most recent call last)\u001b[0m:\n",
      "\u001b[1;36m  Input \u001b[1;32mIn [103]\u001b[1;36m in \u001b[1;35m<cell line: 10>\u001b[1;36m\u001b[0m\n",
      "\u001b[1;33m    plt.xlim(x_min, x_max)\u001b[0m\n",
      "\u001b[1;31mNameError\u001b[0m\u001b[1;31m:\u001b[0m name 'x_min' is not defined\n",
      "\n",
      "Use %tb to get the full traceback.\n"
     ]
    },
    {
     "data": {
      "text/html": [
       "\n",
       "<style>\n",
       ".button {\n",
       "  border: none;\n",
       "  color: white;\n",
       "  padding: 4px 8px;\n",
       "  text-align: center;\n",
       "  text-decoration: none;\n",
       "  display: inline-block;\n",
       "  font-size: 12px;\n",
       "  margin: 4px 2px;\n",
       "  transition-duration: 0.2s;\n",
       "  cursor: pointer;\n",
       "}\n",
       ".iqx-button {\n",
       "  background-color: #0f62fe; \n",
       "  color: white; \n",
       "}\n",
       ".iqx-button:hover {\n",
       "  background-color: #0043ce;\n",
       "  color: white;\n",
       "}\n",
       "</style>\n",
       "<a href=\"https://stackoverflow.com/search?q=NameError: name 'x_min' is not defined\" target='_blank'><button class='button iqx-button'>Search for solution online</button></a>\n"
      ],
      "text/plain": [
       "<IPython.core.display.HTML object>"
      ]
     },
     "metadata": {},
     "output_type": "display_data"
    },
    {
     "data": {
      "image/png": "[encoded data removed]",
      "text/plain": [
       "<Figure size 576x432 with 1 Axes>"
      ]
     },
     "metadata": {
      "needs_background": "light"
     },
     "output_type": "display_data"
    }
   ],
   "source": [
    "import matplotlib.pyplot as plt\n",
    "plt.figure(2, figsize=(8, 6))\n",
    "plt.clf()\n",
    "\n",
    "# Plot the training points\n",
    "plt.scatter(X[:, 0], X[:, 1], c=y, cmap=plt.cm.Set1, edgecolor=\"k\")\n",
    "plt.xlabel(\"Sepal length\")\n",
    "plt.ylabel(\"Sepal width\")\n",
    "\n",
    "plt.xlim(x_min, x_max)\n",
    "plt.ylim(y_min, y_max)\n",
    "plt.xticks(())\n",
    "plt.yticks(())"
   ]
  },
  {
   "cell_type": "code",
   "execution_count": 104,
   "id": "8a684c54-b5ac-4d6d-992a-d8965ba52f2a",
   "metadata": {},
   "outputs": [
    {
     "name": "stdout",
     "output_type": "stream",
     "text": [
      "Writing predict_power_classifier.py\n"
     ]
    }
   ],
   "source": [
    "%%writefile predict_power_classifier.py\n",
    "\n",
    "def predict_trouble(parameters = [0.8683269 , 0.39393166, 0.47681407, 0.30033276, 0.97830805, 0.52097628, 0.99194506, 0.92128744, 0.57695905, 0.36047569,0.83097868, 0.47035325], \n",
    "                    example):\n",
    "    qc = QuantumCircuit(3)\n",
    "    embed_example(qc, example)\n",
    "    apply_parameters(qc, parameters)\n",
    "    result = run_circuit(qc, Aer.get_backend(\"aer_simulator\"))\n",
    "    return make_prediction(result)\n",
    "                        \n",
    "\n",
    "def embed_example(circuit, example):\n",
    "    circuit.rx(np.pi * example[0], 0)\n",
    "    circuit.rx(np.pi * example[1], 1)\n",
    "    circuit.rx(np.pi * example[2], 2)\n",
    "\n",
    "def apply_parameters(circuit, parameters):\n",
    "    # TODO: use full range\n",
    "    layers = np.reshape(parameters, (int(len(parameters)/3), 3))\n",
    "    layer_count = 1\n",
    "    for layer in layers:\n",
    "        for gate in range(len(layer)):\n",
    "            if layer_count % 3 == 0:\n",
    "                circuit.rx(np.pi * layer[gate], gate)\n",
    "            elif layer_count % 3 == 1:\n",
    "                circuit.ry(np.pi * layer[gate], gate)\n",
    "            else:\n",
    "                circuit.rz(np.pi * layer[gate], gate)\n",
    "        circuit.cx(0,1)\n",
    "        circuit.cx(1,2)\n",
    "        circuit.cx(2,0)\n",
    "        layer_count += 1\n",
    "        circuit.barrier()\n",
    "    circuit.measure_all()\n",
    "\n",
    "def run_circuit(circuit, backend):\n",
    "\n",
    "    num_shots = 500\n",
    "    job = execute(circuit,\n",
    "                  shots=num_shots,\n",
    "                  backend=backend)\n",
    "\n",
    "    # Return the measured counts\n",
    "    return job.result().get_counts()\n",
    "\n",
    "def make_prediction(result):\n",
    "    count_0 = 0\n",
    "    count_1 = 0\n",
    "    for measurement in result:\n",
    "        # Determine vote\n",
    "        if measurement.count('1') > measurement.count('0'):\n",
    "            count_1 += result[measurement]\n",
    "        else:\n",
    "            count0 += result[measurement]\n",
    "    if count_1 > count_0:\n",
    "        return 1\n",
    "    else:\n",
    "        return 0"
   ]
  },
  {
   "cell_type": "code",
   "execution_count": null,
   "id": "62d89435-e054-410e-bbbc-96c6e8340b78",
   "metadata": {},
   "outputs": [],
   "source": []
  }
 ],
 "metadata": {
  "kernelspec": {
   "display_name": "Python 3 (ipykernel)",
   "language": "python",
   "name": "python3"
  },
  "language_info": {
   "codemirror_mode": {
    "name": "ipython",
    "version": 3
   },
   "file_extension": ".py",
   "mimetype": "text/x-python",
   "name": "python",
   "nbconvert_exporter": "python",
   "pygments_lexer": "ipython3",
   "version": "3.8.13"
  },
  "widgets": {
   "application/vnd.jupyter.widget-state+json": {
    "state": {
     "00321c84fd9949beb9b053628f09bd89": {
      "model_module": "@jupyter-widgets/base",
      "model_module_version": "1.2.0",
      "model_name": "LayoutModel",
      "state": {
       "max_width": "700px",
       "min_width": "700px"
      }
     },
     "00dc4f28bb66466f8557c2b071182853": {
      "model_module": "@jupyter-widgets/base",
      "model_module_version": "1.2.0",
      "model_name": "LayoutModel",
      "state": {
       "overflow_x": "scroll"
      }
     },
     "034af90e7dc74d64b35c4bc8fdeaf33e": {
      "model_module": "@jupyter-widgets/base",
      "model_module_version": "1.2.0",
      "model_name": "LayoutModel",
      "state": {
       "width": "95px"
      }
     },
     "0447bdcac90f4df59d9b15aed2e24c0d": {
      "model_module": "@jupyter-widgets/base",
      "model_module_version": "1.2.0",
      "model_name": "LayoutModel",
      "state": {
       "width": "95px"
      }
     },
     "04ba7bc9419343149646bc9e16a47f4d": {
      "model_module": "@jupyter-widgets/controls",
      "model_module_version": "1.5.0",
      "model_name": "HTMLModel",
      "state": {
       "layout": "IPY_MODEL_b9c739db4dbc4da1b42794ec263d1782",
       "style": "IPY_MODEL_086881c90f9b48d68c39b57aa4cb836e",
       "value": "<font style='color:#34BC6E'>DONE</font>"
      }
     },
     "04d32e0d7a334fcf92bc548518eeb94e": {
      "model_module": "@jupyter-widgets/controls",
      "model_module_version": "1.5.0",
      "model_name": "HTMLModel",
      "state": {
       "layout": "IPY_MODEL_4ac29030cdb743f79bfa9fa23fa1772a",
       "style": "IPY_MODEL_29e256f245be42138ef5bd633a4a7095",
       "value": "63d61262958cc04d659d0b3f"
      }
     },
     "066c829a209f4619817d78de3435c774": {
      "model_module": "@jupyter-widgets/controls",
      "model_module_version": "1.5.0",
      "model_name": "DescriptionStyleModel",
      "state": {
       "description_width": ""
      }
     },
     "06e757aca3bb44f99ed673fbc5e788aa": {
      "model_module": "@jupyter-widgets/base",
      "model_module_version": "1.2.0",
      "model_name": "LayoutModel",
      "state": {
       "max_width": "700px",
       "min_width": "700px"
      }
     },
     "07172fe44976450a98e1c24623832279": {
      "model_module": "@jupyter-widgets/base",
      "model_module_version": "1.2.0",
      "model_name": "LayoutModel",
      "state": {
       "overflow_x": "scroll"
      }
     },
     "0798e45e2061498682cca7a30de1cbbb": {
      "model_module": "@jupyter-widgets/base",
      "model_module_version": "1.2.0",
      "model_name": "LayoutModel",
      "state": {
       "width": "145px"
      }
     },
     "07e83b3fab1048859c7429ba8e0a87c5": {
      "model_module": "@jupyter-widgets/base",
      "model_module_version": "1.2.0",
      "model_name": "LayoutModel",
      "state": {
       "margin": "0px 5px 0px 0px",
       "width": "32px"
      }
     },
     "0819845c4f494518bc8f8a1929642fae": {
      "model_module": "@jupyter-widgets/controls",
      "model_module_version": "1.5.0",
      "model_name": "DescriptionStyleModel",
      "state": {
       "description_width": ""
      }
     },
     "082c11f832fb49b5bf49a1995250abb1": {
      "model_module": "@jupyter-widgets/controls",
      "model_module_version": "1.5.0",
      "model_name": "HBoxModel",
      "state": {
       "children": [
        "IPY_MODEL_fb1f80d551654135bee7a27af196106f",
        "IPY_MODEL_f38b81c2d2234ba19038a84ca4cd7218",
        "IPY_MODEL_fb6f53a1d4d240f1b7f8a19d444bd173",
        "IPY_MODEL_4f30605c71394e31af822d247775837e",
        "IPY_MODEL_d993c9a866f646f3996314d95f6e1f1f",
        "IPY_MODEL_81ecee58e5d84825bb91fa72d5c9da75"
       ],
       "layout": "IPY_MODEL_8c4dbd603f20416dbc106f0041694e71"
      }
     },
     "083d4c7ec14346448a1fe1d9eb3e0ef6": {
      "model_module": "@jupyter-widgets/controls",
      "model_module_version": "1.5.0",
      "model_name": "HTMLModel",
      "state": {
       "layout": "IPY_MODEL_13e157a0cb5d4f1e896783318a83860f",
       "style": "IPY_MODEL_8b9b53f46ad6461ea1ce42c15bbd8200",
       "value": "ibmq_qasm_simulator"
      }
     },
     "086881c90f9b48d68c39b57aa4cb836e": {
      "model_module": "@jupyter-widgets/controls",
      "model_module_version": "1.5.0",
      "model_name": "DescriptionStyleModel",
      "state": {
       "description_width": ""
      }
     },
     "08a723861e874066a0f1e39c53ab1c1a": {
      "model_module": "@jupyter-widgets/controls",
      "model_module_version": "1.5.0",
      "model_name": "HBoxModel",
      "state": {
       "children": [
        "IPY_MODEL_60b08563a18b4219b766289cf197b5ce",
        "IPY_MODEL_b323da2bd5b044999ecc0798555dd584",
        "IPY_MODEL_f541dfd20a5d4c769f9fc4d9521fd676",
        "IPY_MODEL_1f2b6c3640b54873a77fc50f5943bc3e",
        "IPY_MODEL_23a6fd48acfd4e4e8a23c48826359f9b",
        "IPY_MODEL_f73ea41db2c34df0b6036233b94ad900"
       ],
       "layout": "IPY_MODEL_32c8e7ee04ef4896b43580d3e87c7e12"
      }
     },
     "08f155e52a6d49c2a52ce28381791d86": {
      "model_module": "@jupyter-widgets/controls",
      "model_module_version": "1.5.0",
      "model_name": "ButtonStyleModel",
      "state": {
       "button_color": "white"
      }
     },
     "098b39f5c6994b30a92d2f7b0f41e57d": {
      "model_module": "@jupyter-widgets/base",
      "model_module_version": "1.2.0",
      "model_name": "LayoutModel",
      "state": {
       "width": "145px"
      }
     },
     "0adc8a0c5fe04a3393fc386d11be3f23": {
      "model_module": "@jupyter-widgets/controls",
      "model_module_version": "1.5.0",
      "model_name": "ButtonModel",
      "state": {
       "icon": "close",
       "layout": "IPY_MODEL_645546df700b4f308462dba711f21fd7",
       "style": "IPY_MODEL_e9e9df7e47114f7bbca75d76e2c66490"
      }
     },
     "0b56323fdf1449d28fa1ea74c1b3ac43": {
      "model_module": "@jupyter-widgets/controls",
      "model_module_version": "1.5.0",
      "model_name": "HTMLModel",
      "state": {
       "layout": "IPY_MODEL_50a4885153174b17a69f2c10ddc704e9",
       "style": "IPY_MODEL_c17fe489c42148dbb2d05adc71af531f",
       "value": "-"
      }
     },
     "0c46c0b425c34f39a2a281709673efa8": {
      "model_module": "@jupyter-widgets/controls",
      "model_module_version": "1.5.0",
      "model_name": "ButtonModel",
      "state": {
       "icon": "close",
       "layout": "IPY_MODEL_f15867a04abb4affa9305142f3b8355b",
       "style": "IPY_MODEL_2d87ed58ef8b4a79ac0b9efef77718a2"
      }
     },
     "0c9f4cdd7cc247aba40bac729eaf0a45": {
      "model_module": "@jupyter-widgets/base",
      "model_module_version": "1.2.0",
      "model_name": "LayoutModel",
      "state": {
       "overflow_x": "scroll"
      }
     },
     "0d652ac71e334f7081d9fb72ab33002a": {
      "model_module": "@jupyter-widgets/controls",
      "model_module_version": "1.5.0",
      "model_name": "HBoxModel",
      "state": {
       "children": [
        "IPY_MODEL_790a20123ca546f3baeaf960de3dad5a",
        "IPY_MODEL_bec8a71173bd4b8ca17a6698ef87d14e",
        "IPY_MODEL_1cbbe46dfb1b4656ad3a8124124ea2d7",
        "IPY_MODEL_631a3956db34462bbdfcaa739ea55f5d",
        "IPY_MODEL_771e609203084a038861c45197d56552",
        "IPY_MODEL_e13823069c6b4c2f950dda6751a1b2f0"
       ],
       "layout": "IPY_MODEL_6957567540ef4dc99c949dfd6ee26718"
      }
     },
     "0e30efd9e0de479b87d6440dfc8bd91c": {
      "model_module": "@jupyter-widgets/base",
      "model_module_version": "1.2.0",
      "model_name": "LayoutModel",
      "state": {
       "margin": "0px 5px 0px 0px",
       "width": "32px"
      }
     },
     "0e7c707e053c4245b47aec5e948885ff": {
      "model_module": "@jupyter-widgets/controls",
      "model_module_version": "1.5.0",
      "model_name": "HTMLModel",
      "state": {
       "layout": "IPY_MODEL_daef571c3ec54231b47c4aaf0c37ac1f",
       "style": "IPY_MODEL_51594bead89a49f4b20c7f1924db87a7",
       "value": "job has successfully run"
      }
     },
     "0f13d1fb8e104cfd992fa9b7eb786b8d": {
      "model_module": "@jupyter-widgets/controls",
      "model_module_version": "1.5.0",
      "model_name": "DescriptionStyleModel",
      "state": {
       "description_width": ""
      }
     },
     "0f4e538861124a79b1788f7343cc9aeb": {
      "model_module": "@jupyter-widgets/base",
      "model_module_version": "1.2.0",
      "model_name": "LayoutModel",
      "state": {
       "width": "145px"
      }
     },
     "0f75e3f4cc294fe7abac48ea0f5dd42c": {
      "model_module": "@jupyter-widgets/controls",
      "model_module_version": "1.5.0",
      "model_name": "ButtonModel",
      "state": {
       "icon": "close",
       "layout": "IPY_MODEL_a7346299d3314837bd0a15d82d453fc2",
       "style": "IPY_MODEL_fcec2a9684ba4e76af276068280155c4"
      }
     },
     "0ff4d764ad954537acda53b323fe2a59": {
      "model_module": "@jupyter-widgets/base",
      "model_module_version": "1.2.0",
      "model_name": "LayoutModel",
      "state": {
       "width": "145px"
      }
     },
     "10239f91cf17429eaa1ce65b771c4282": {
      "model_module": "@jupyter-widgets/base",
      "model_module_version": "1.2.0",
      "model_name": "LayoutModel",
      "state": {
       "margin": "0px 5px 0px 0px",
       "width": "32px"
      }
     },
     "10425cc5ebc74985807f3485ba542af3": {
      "model_module": "@jupyter-widgets/base",
      "model_module_version": "1.2.0",
      "model_name": "LayoutModel",
      "state": {
       "width": "145px"
      }
     },
     "1053b4ab04c6420ea342e74e9f8d20fb": {
      "model_module": "@jupyter-widgets/controls",
      "model_module_version": "1.5.0",
      "model_name": "HTMLModel",
      "state": {
       "layout": "IPY_MODEL_098b39f5c6994b30a92d2f7b0f41e57d",
       "style": "IPY_MODEL_e6fd03eb52304a9f81db3fba0b39e3ed",
       "value": "ibmq_qasm_simulator"
      }
     },
     "114fede2f7a547ecb3e21877831197ea": {
      "model_module": "@jupyter-widgets/controls",
      "model_module_version": "1.5.0",
      "model_name": "ButtonStyleModel",
      "state": {
       "button_color": "white"
      }
     },
     "13117e8ca89f441c9daef95e5c9cb702": {
      "model_module": "@jupyter-widgets/controls",
      "model_module_version": "1.5.0",
      "model_name": "ButtonModel",
      "state": {
       "icon": "close",
       "layout": "IPY_MODEL_3c5770cf57f44127a55fffcdc2ec979d",
       "style": "IPY_MODEL_1723f95a0cb142e7a4e6b18dba97316a"
      }
     },
     "1337993a80dd4abba3a1926810ada574": {
      "model_module": "@jupyter-widgets/base",
      "model_module_version": "1.2.0",
      "model_name": "LayoutModel",
      "state": {
       "width": "95px"
      }
     },
     "139c51e3e5a74f059f9a2b2f68aa9cd5": {
      "model_module": "@jupyter-widgets/controls",
      "model_module_version": "1.5.0",
      "model_name": "HTMLModel",
      "state": {
       "layout": "IPY_MODEL_269698d6fffe471b9f603184942b1dbc",
       "style": "IPY_MODEL_54cfb6a840644505bfab8dc15e904533",
       "value": "<font style='color:#34BC6E'>DONE</font>"
      }
     },
     "13e157a0cb5d4f1e896783318a83860f": {
      "model_module": "@jupyter-widgets/base",
      "model_module_version": "1.2.0",
      "model_name": "LayoutModel",
      "state": {
       "width": "145px"
      }
     },
     "14f67de025f24001b39db7e3f8f65bd8": {
      "model_module": "@jupyter-widgets/base",
      "model_module_version": "1.2.0",
      "model_name": "LayoutModel",
      "state": {
       "margin": "0px 5px 0px 0px",
       "width": "32px"
      }
     },
     "151c15a6d2824bbf95f96a0e42197b91": {
      "model_module": "@jupyter-widgets/controls",
      "model_module_version": "1.5.0",
      "model_name": "ButtonModel",
      "state": {
       "icon": "close",
       "layout": "IPY_MODEL_cee8b5bef91c40a2b6377074592ad549",
       "style": "IPY_MODEL_1d231c4bd567401a9985844882f67e40"
      }
     },
     "153d91a4e635490cb074da76ddd10231": {
      "model_module": "@jupyter-widgets/base",
      "model_module_version": "1.2.0",
      "model_name": "LayoutModel",
      "state": {
       "overflow_x": "scroll"
      }
     },
     "154e676eed824c22959f15d28088cb31": {
      "model_module": "@jupyter-widgets/controls",
      "model_module_version": "1.5.0",
      "model_name": "DescriptionStyleModel",
      "state": {
       "description_width": ""
      }
     },
     "16fa29a3f20d4656ba836fad1d82c6e8": {
      "model_module": "@jupyter-widgets/base",
      "model_module_version": "1.2.0",
      "model_name": "LayoutModel",
      "state": {
       "grid_area": "right",
       "padding": "0px 0px 0px 0px",
       "width": "70px"
      }
     },
     "1723f95a0cb142e7a4e6b18dba97316a": {
      "model_module": "@jupyter-widgets/controls",
      "model_module_version": "1.5.0",
      "model_name": "ButtonStyleModel",
      "state": {
       "button_color": "white"
      }
     },
     "183fed07bd164bfdb7a05e8813c22f6f": {
      "model_module": "@jupyter-widgets/controls",
      "model_module_version": "1.5.0",
      "model_name": "DescriptionStyleModel",
      "state": {
       "description_width": ""
      }
     },
     "18e0afafb343427db4ff7350582d71ef": {
      "model_module": "@jupyter-widgets/controls",
      "model_module_version": "1.5.0",
      "model_name": "HTMLModel",
      "state": {
       "layout": "IPY_MODEL_a57af2483c1b4347af93de92574a0572",
       "style": "IPY_MODEL_59c84cefd90a4275a256a8f015b3f770",
       "value": "<font style='color:#34BC6E'>DONE</font>"
      }
     },
     "1919c1f1ae7f432eaf4e27dbfebeda68": {
      "model_module": "@jupyter-widgets/controls",
      "model_module_version": "1.5.0",
      "model_name": "DescriptionStyleModel",
      "state": {
       "description_width": ""
      }
     },
     "194c55039e984d77a0a5a049dcee95c4": {
      "model_module": "@jupyter-widgets/controls",
      "model_module_version": "1.5.0",
      "model_name": "HTMLModel",
      "state": {
       "layout": "IPY_MODEL_c7adbabcf2ef4d5aa0b940e836819f49",
       "style": "IPY_MODEL_7d2690edf9a1468a9cffe11070c3a9a4",
       "value": "63d6122e33d85065d005889e"
      }
     },
     "196f5e3eba9347a2a0125e1fb2305e27": {
      "model_module": "@jupyter-widgets/controls",
      "model_module_version": "1.5.0",
      "model_name": "DescriptionStyleModel",
      "state": {
       "description_width": ""
      }
     },
     "19cbf58cab8f4c629d03a31d79faef70": {
      "model_module": "@jupyter-widgets/base",
      "model_module_version": "1.2.0",
      "model_name": "LayoutModel",
      "state": {
       "overflow_x": "scroll"
      }
     },
     "1a410d3a9e1e4491be007b3137a89f6c": {
      "model_module": "@jupyter-widgets/controls",
      "model_module_version": "1.5.0",
      "model_name": "ButtonStyleModel",
      "state": {
       "button_color": "white"
      }
     },
     "1ac0b1111ef64d2284580c6504246603": {
      "model_module": "@jupyter-widgets/base",
      "model_module_version": "1.2.0",
      "model_name": "LayoutModel",
      "state": {
       "width": "145px"
      }
     },
     "1b40e0643bbd4fc2a85b91d878d4d571": {
      "model_module": "@jupyter-widgets/controls",
      "model_module_version": "1.5.0",
      "model_name": "HBoxModel",
      "state": {
       "children": [
        "IPY_MODEL_b9306ac97d9e4fb0972467eb1aa965ca",
        "IPY_MODEL_f8b4737a7c3d48d2b9131f9b4f549429",
        "IPY_MODEL_24e86d5e4b9d4d70af1d6f75811222c9",
        "IPY_MODEL_2351286493b04b88a052e23885c85f7d",
        "IPY_MODEL_743fe8c46aa84639ad6b545b4e97f424",
        "IPY_MODEL_4c0cdab7cb644f2cba568701fedde2ed"
       ],
       "layout": "IPY_MODEL_06e757aca3bb44f99ed673fbc5e788aa"
      }
     },
     "1bbc0565c13541cbbe11eaa0ea995cc9": {
      "model_module": "@jupyter-widgets/controls",
      "model_module_version": "1.5.0",
      "model_name": "DescriptionStyleModel",
      "state": {
       "description_width": ""
      }
     },
     "1c6d4be3bd93487abbf46bfe52bfcc09": {
      "model_module": "@jupyter-widgets/base",
      "model_module_version": "1.2.0",
      "model_name": "LayoutModel",
      "state": {
       "width": "190px"
      }
     },
     "1cbbe46dfb1b4656ad3a8124124ea2d7": {
      "model_module": "@jupyter-widgets/controls",
      "model_module_version": "1.5.0",
      "model_name": "HTMLModel",
      "state": {
       "layout": "IPY_MODEL_ec128608528941db9a036ad686432f9d",
       "style": "IPY_MODEL_bf4f69b653c04f0196cd1cfbfaec3de1",
       "value": "ibmq_qasm_simulator"
      }
     },
     "1d231c4bd567401a9985844882f67e40": {
      "model_module": "@jupyter-widgets/controls",
      "model_module_version": "1.5.0",
      "model_name": "ButtonStyleModel",
      "state": {
       "button_color": "white"
      }
     },
     "1ddc77ae07854f6aad6346b89b263257": {
      "model_module": "@jupyter-widgets/base",
      "model_module_version": "1.2.0",
      "model_name": "LayoutModel",
      "state": {
       "width": "95px"
      }
     },
     "1e07bf94d1104094bfb031e480b6ec0d": {
      "model_module": "@jupyter-widgets/controls",
      "model_module_version": "1.5.0",
      "model_name": "DescriptionStyleModel",
      "state": {
       "description_width": ""
      }
     },
     "1e223556a31d4c6d83dc99d81d72063a": {
      "model_module": "@jupyter-widgets/base",
      "model_module_version": "1.2.0",
      "model_name": "LayoutModel",
      "state": {
       "width": "145px"
      }
     },
     "1e92c59b8e4a414f979fdde647ba86e5": {
      "model_module": "@jupyter-widgets/controls",
      "model_module_version": "1.5.0",
      "model_name": "HTMLModel",
      "state": {
       "layout": "IPY_MODEL_33b80571255c488db24aa31fe666bfd6",
       "style": "IPY_MODEL_478621f013a44477bd0fd1c815442e3a",
       "value": "<font style='color:#34BC6E'>DONE</font>"
      }
     },
     "1f079fc865ce434f8507e9ecaf4fc77b": {
      "model_module": "@jupyter-widgets/controls",
      "model_module_version": "1.5.0",
      "model_name": "DescriptionStyleModel",
      "state": {
       "description_width": ""
      }
     },
     "1f2b6c3640b54873a77fc50f5943bc3e": {
      "model_module": "@jupyter-widgets/controls",
      "model_module_version": "1.5.0",
      "model_name": "HTMLModel",
      "state": {
       "layout": "IPY_MODEL_48ce1e64607c41b2af6da10d61da92a0",
       "style": "IPY_MODEL_6dd8a7f3dadf41279b05585b71095e5f",
       "value": "<font style='color:#34BC6E'>DONE</font>"
      }
     },
     "1f946aee845c45bd9a88cf5c636553bd": {
      "model_module": "@jupyter-widgets/controls",
      "model_module_version": "1.5.0",
      "model_name": "ButtonStyleModel",
      "state": {
       "button_color": "white"
      }
     },
     "1fcc32709ca74774ad8553dbbc732cc9": {
      "model_module": "@jupyter-widgets/controls",
      "model_module_version": "1.5.0",
      "model_name": "DescriptionStyleModel",
      "state": {
       "description_width": ""
      }
     },
     "205976c912c84238bc90f22f02b3eef0": {
      "model_module": "@jupyter-widgets/controls",
      "model_module_version": "1.5.0",
      "model_name": "DescriptionStyleModel",
      "state": {
       "description_width": ""
      }
     },
     "20a1bfc5dd7a481fbd4ba8c17229d513": {
      "model_module": "@jupyter-widgets/controls",
      "model_module_version": "1.5.0",
      "model_name": "HTMLModel",
      "state": {
       "layout": "IPY_MODEL_0f4e538861124a79b1788f7343cc9aeb",
       "style": "IPY_MODEL_28fd47a7ff0e4f86bc621a68afc0fa43",
       "value": "ibmq_qasm_simulator"
      }
     },
     "20e2b2091238410698991a8b7310b26e": {
      "model_module": "@jupyter-widgets/controls",
      "model_module_version": "1.5.0",
      "model_name": "DescriptionStyleModel",
      "state": {
       "description_width": ""
      }
     },
     "2166960ce56f4311906f2d2ffb1016ff": {
      "model_module": "@jupyter-widgets/base",
      "model_module_version": "1.2.0",
      "model_name": "LayoutModel",
      "state": {
       "margin": "0px 5px 0px 0px",
       "width": "32px"
      }
     },
     "216bc745468b4bfcac2191130971aa94": {
      "model_module": "@jupyter-widgets/controls",
      "model_module_version": "1.5.0",
      "model_name": "HTMLModel",
      "state": {
       "layout": "IPY_MODEL_cb094a73882345eb8d21df5eb3da7938",
       "style": "IPY_MODEL_41a8fa59524746f487b61d35b782095b",
       "value": "63d6122a958cc04a8f9d0b3b"
      }
     },
     "2181489106c1482aa925b823f512d4ab": {
      "model_module": "@jupyter-widgets/base",
      "model_module_version": "1.2.0",
      "model_name": "LayoutModel",
      "state": {
       "width": "145px"
      }
     },
     "21f6e0d6a3564a7596b82e896520616a": {
      "model_module": "@jupyter-widgets/base",
      "model_module_version": "1.2.0",
      "model_name": "LayoutModel",
      "state": {
       "width": "190px"
      }
     },
     "2351286493b04b88a052e23885c85f7d": {
      "model_module": "@jupyter-widgets/controls",
      "model_module_version": "1.5.0",
      "model_name": "HTMLModel",
      "state": {
       "layout": "IPY_MODEL_1337993a80dd4abba3a1926810ada574",
       "style": "IPY_MODEL_ea38acb3fdac44a3b7b306798b8a8141",
       "value": "<font style='color:#34BC6E'>DONE</font>"
      }
     },
     "23a6fd48acfd4e4e8a23c48826359f9b": {
      "model_module": "@jupyter-widgets/controls",
      "model_module_version": "1.5.0",
      "model_name": "HTMLModel",
      "state": {
       "layout": "IPY_MODEL_a028d870b91a479f92e3dd5695d6f233",
       "style": "IPY_MODEL_e40e785b05ca4d1f8966ec15d875f8cf",
       "value": "-"
      }
     },
     "23b482eebd824bf1ac457bda40d76a3b": {
      "model_module": "@jupyter-widgets/base",
      "model_module_version": "1.2.0",
      "model_name": "LayoutModel",
      "state": {
       "max_width": "700px",
       "min_width": "700px"
      }
     },
     "23b60d4b2da14d89a8b148d4e4e6b6c0": {
      "model_module": "@jupyter-widgets/controls",
      "model_module_version": "1.5.0",
      "model_name": "DescriptionStyleModel",
      "state": {
       "description_width": ""
      }
     },
     "243b91203f57472d9425a87728952146": {
      "model_module": "@jupyter-widgets/controls",
      "model_module_version": "1.5.0",
      "model_name": "DescriptionStyleModel",
      "state": {
       "description_width": ""
      }
     },
     "24e86d5e4b9d4d70af1d6f75811222c9": {
      "model_module": "@jupyter-widgets/controls",
      "model_module_version": "1.5.0",
      "model_name": "HTMLModel",
      "state": {
       "layout": "IPY_MODEL_0ff4d764ad954537acda53b323fe2a59",
       "style": "IPY_MODEL_a4d8694cd0df47a9bc8c6fe09154e3c6",
       "value": "ibmq_qasm_simulator"
      }
     },
     "25196755111e4b03b35fdb29201bc71a": {
      "model_module": "@jupyter-widgets/controls",
      "model_module_version": "1.5.0",
      "model_name": "ButtonStyleModel",
      "state": {
       "button_color": "white"
      }
     },
     "259108778df843d0a69047d8d75dafc8": {
      "model_module": "@jupyter-widgets/base",
      "model_module_version": "1.2.0",
      "model_name": "LayoutModel",
      "state": {
       "overflow_x": "scroll"
      }
     },
     "25d92bc592b845ada3a8a80cd391a6de": {
      "model_module": "@jupyter-widgets/controls",
      "model_module_version": "1.5.0",
      "model_name": "DescriptionStyleModel",
      "state": {
       "description_width": ""
      }
     },
     "260caad73a7443629064a8b4eb1c4c04": {
      "model_module": "@jupyter-widgets/base",
      "model_module_version": "1.2.0",
      "model_name": "LayoutModel",
      "state": {
       "width": "70px"
      }
     },
     "264d5a591c17444097b87b0f6e109248": {
      "model_module": "@jupyter-widgets/base",
      "model_module_version": "1.2.0",
      "model_name": "LayoutModel",
      "state": {
       "width": "95px"
      }
     },
     "269698d6fffe471b9f603184942b1dbc": {
      "model_module": "@jupyter-widgets/base",
      "model_module_version": "1.2.0",
      "model_name": "LayoutModel",
      "state": {
       "width": "95px"
      }
     },
     "28278a95794a4682b13468392ef5f6a4": {
      "model_module": "@jupyter-widgets/base",
      "model_module_version": "1.2.0",
      "model_name": "LayoutModel",
      "state": {
       "max_width": "700px",
       "min_width": "700px"
      }
     },
     "28f03192648d4dc28f82107490399769": {
      "model_module": "@jupyter-widgets/controls",
      "model_module_version": "1.5.0",
      "model_name": "DescriptionStyleModel",
      "state": {
       "description_width": ""
      }
     },
     "28fd47a7ff0e4f86bc621a68afc0fa43": {
      "model_module": "@jupyter-widgets/controls",
      "model_module_version": "1.5.0",
      "model_name": "DescriptionStyleModel",
      "state": {
       "description_width": ""
      }
     },
     "29c989a9aa244c3fb46c189e72c5582a": {
      "model_module": "@jupyter-widgets/base",
      "model_module_version": "1.2.0",
      "model_name": "LayoutModel",
      "state": {
       "max_width": "700px",
       "min_width": "700px"
      }
     },
     "29e256f245be42138ef5bd633a4a7095": {
      "model_module": "@jupyter-widgets/controls",
      "model_module_version": "1.5.0",
      "model_name": "DescriptionStyleModel",
      "state": {
       "description_width": ""
      }
     },
     "2a1961d6b1814685bf70cfde63556ecb": {
      "model_module": "@jupyter-widgets/controls",
      "model_module_version": "1.5.0",
      "model_name": "DescriptionStyleModel",
      "state": {
       "description_width": ""
      }
     },
     "2a57d2ebeecd435e9b445cae103fa023": {
      "model_module": "@jupyter-widgets/base",
      "model_module_version": "1.2.0",
      "model_name": "LayoutModel",
      "state": {
       "overflow_x": "scroll"
      }
     },
     "2acc617de93a43ed962ecef5382f0db2": {
      "model_module": "@jupyter-widgets/base",
      "model_module_version": "1.2.0",
      "model_name": "LayoutModel",
      "state": {
       "width": "190px"
      }
     },
     "2bc0bfa019694634bafb382ce8210d73": {
      "model_module": "@jupyter-widgets/controls",
      "model_module_version": "1.5.0",
      "model_name": "HTMLModel",
      "state": {
       "layout": "IPY_MODEL_e850a4a341ef41eaa3858d07703ab723",
       "style": "IPY_MODEL_1fcc32709ca74774ad8553dbbc732cc9",
       "value": "<h5>Backend</h5>"
      }
     },
     "2d6df452cbe04442a5c589334b3c0c3c": {
      "model_module": "@jupyter-widgets/controls",
      "model_module_version": "1.5.0",
      "model_name": "HTMLModel",
      "state": {
       "layout": "IPY_MODEL_f8d787cc252548ce80cd405475dc3dfb",
       "style": "IPY_MODEL_bd662be1050d495590056bea76ffebde",
       "value": "job has successfully run"
      }
     },
     "2d87ed58ef8b4a79ac0b9efef77718a2": {
      "model_module": "@jupyter-widgets/controls",
      "model_module_version": "1.5.0",
      "model_name": "ButtonStyleModel",
      "state": {
       "button_color": "white"
      }
     },
     "2df2988add9e4426ae2f57c3e884e7ab": {
      "model_module": "@jupyter-widgets/controls",
      "model_module_version": "1.5.0",
      "model_name": "DescriptionStyleModel",
      "state": {
       "description_width": ""
      }
     },
     "2e3da44387214f7f981e97d6093664dd": {
      "model_module": "@jupyter-widgets/controls",
      "model_module_version": "1.5.0",
      "model_name": "ButtonStyleModel",
      "state": {
       "button_color": "white"
      }
     },
     "2e498678803d4f46b3ce58440b820185": {
      "model_module": "@jupyter-widgets/controls",
      "model_module_version": "1.5.0",
      "model_name": "HTMLModel",
      "state": {
       "layout": "IPY_MODEL_264d5a591c17444097b87b0f6e109248",
       "style": "IPY_MODEL_476da40f4d154a6d8bc769515adba396",
       "value": "<font style='color:#34BC6E'>DONE</font>"
      }
     },
     "2e8743ff603b43c28b65547aa4f23b5b": {
      "model_module": "@jupyter-widgets/controls",
      "model_module_version": "1.5.0",
      "model_name": "HTMLModel",
      "state": {
       "layout": "IPY_MODEL_7d061f203ace4d038a977e3ea220e370",
       "style": "IPY_MODEL_343f70d01e7d4234acc677657481bcd9",
       "value": "-"
      }
     },
     "2e971a8d4a824e3c90343d13962d92f6": {
      "model_module": "@jupyter-widgets/base",
      "model_module_version": "1.2.0",
      "model_name": "LayoutModel",
      "state": {
       "width": "95px"
      }
     },
     "2fa81da86ece49239cdb77ea51a1a9a6": {
      "model_module": "@jupyter-widgets/controls",
      "model_module_version": "1.5.0",
      "model_name": "DescriptionStyleModel",
      "state": {
       "description_width": ""
      }
     },
     "30b6dc1c158a40e3953bdf13f5d09ee9": {
      "model_module": "@jupyter-widgets/controls",
      "model_module_version": "1.5.0",
      "model_name": "ButtonStyleModel",
      "state": {
       "button_color": "white"
      }
     },
     "32c8e7ee04ef4896b43580d3e87c7e12": {
      "model_module": "@jupyter-widgets/base",
      "model_module_version": "1.2.0",
      "model_name": "LayoutModel",
      "state": {
       "max_width": "700px",
       "min_width": "700px"
      }
     },
     "32f21017261a4437b70b15926ffbbd6c": {
      "model_module": "@jupyter-widgets/base",
      "model_module_version": "1.2.0",
      "model_name": "LayoutModel",
      "state": {
       "width": "70px"
      }
     },
     "33b80571255c488db24aa31fe666bfd6": {
      "model_module": "@jupyter-widgets/base",
      "model_module_version": "1.2.0",
      "model_name": "LayoutModel",
      "state": {
       "width": "95px"
      }
     },
     "33f474a0b61c446aa723700bf6003241": {
      "model_module": "@jupyter-widgets/controls",
      "model_module_version": "1.5.0",
      "model_name": "HTMLModel",
      "state": {
       "layout": "IPY_MODEL_3be32bcee5ab4130a34a83beaec5b291",
       "style": "IPY_MODEL_bf7022a8a6e24e128515210f6ea1f1f3",
       "value": "-"
      }
     },
     "340a8dd7347b4766bdadab48b435f014": {
      "model_module": "@jupyter-widgets/controls",
      "model_module_version": "1.5.0",
      "model_name": "DescriptionStyleModel",
      "state": {
       "description_width": ""
      }
     },
     "343f70d01e7d4234acc677657481bcd9": {
      "model_module": "@jupyter-widgets/controls",
      "model_module_version": "1.5.0",
      "model_name": "DescriptionStyleModel",
      "state": {
       "description_width": ""
      }
     },
     "3571f5431c5e4836946c970958b2ff5c": {
      "model_module": "@jupyter-widgets/controls",
      "model_module_version": "1.5.0",
      "model_name": "ButtonStyleModel",
      "state": {
       "button_color": "white"
      }
     },
     "357c09a70b364dd1bd0e9c0a6b4e7eb7": {
      "model_module": "@jupyter-widgets/controls",
      "model_module_version": "1.5.0",
      "model_name": "DescriptionStyleModel",
      "state": {
       "description_width": ""
      }
     },
     "358113d873554bcfbe7b88fe49cd05dd": {
      "model_module": "@jupyter-widgets/controls",
      "model_module_version": "1.5.0",
      "model_name": "DescriptionStyleModel",
      "state": {
       "description_width": ""
      }
     },
     "3581925361f3439b9b20bd219768c7a1": {
      "model_module": "@jupyter-widgets/controls",
      "model_module_version": "1.5.0",
      "model_name": "DescriptionStyleModel",
      "state": {
       "description_width": ""
      }
     },
     "35bf4ad45e6e485bac95d9752018bfac": {
      "model_module": "@jupyter-widgets/base",
      "model_module_version": "1.2.0",
      "model_name": "LayoutModel",
      "state": {
       "max_width": "700px",
       "min_width": "700px"
      }
     },
     "3669508cce5b492ebbadfd5c434acc47": {
      "model_module": "@jupyter-widgets/controls",
      "model_module_version": "1.5.0",
      "model_name": "HBoxModel",
      "state": {
       "children": [
        "IPY_MODEL_5d77bca4bae24fb68a55818b35673bc0",
        "IPY_MODEL_43e1758fa0bc4d7083a50b4a42408d1d",
        "IPY_MODEL_49371672f35c4846a642982d6e017a26",
        "IPY_MODEL_1e92c59b8e4a414f979fdde647ba86e5",
        "IPY_MODEL_6e5d4e08332d4e5e8a4959c4ee672036",
        "IPY_MODEL_935bbefd352d4ece84bbd0473ae8c075"
       ],
       "layout": "IPY_MODEL_4d400ae347e64f5d90c2e384a9440ea1"
      }
     },
     "3704e2dd8bd34c7ca64ce914c29b245f": {
      "model_module": "@jupyter-widgets/controls",
      "model_module_version": "1.5.0",
      "model_name": "DescriptionStyleModel",
      "state": {
       "description_width": ""
      }
     },
     "3878f7b5a42344f5886e60ec0ebf40a7": {
      "model_module": "@jupyter-widgets/controls",
      "model_module_version": "1.5.0",
      "model_name": "DescriptionStyleModel",
      "state": {
       "description_width": ""
      }
     },
     "3a01456616974e33b3e97ad1313c869f": {
      "model_module": "@jupyter-widgets/controls",
      "model_module_version": "1.5.0",
      "model_name": "DescriptionStyleModel",
      "state": {
       "description_width": ""
      }
     },
     "3be32bcee5ab4130a34a83beaec5b291": {
      "model_module": "@jupyter-widgets/base",
      "model_module_version": "1.2.0",
      "model_name": "LayoutModel",
      "state": {
       "width": "70px"
      }
     },
     "3c5770cf57f44127a55fffcdc2ec979d": {
      "model_module": "@jupyter-widgets/base",
      "model_module_version": "1.2.0",
      "model_name": "LayoutModel",
      "state": {
       "margin": "0px 5px 0px 0px",
       "width": "32px"
      }
     },
     "3d2c8b543c874aeeb61ae7988782c8f8": {
      "model_module": "@jupyter-widgets/controls",
      "model_module_version": "1.5.0",
      "model_name": "HTMLModel",
      "state": {
       "layout": "IPY_MODEL_9e4ccba45b804140be79ef1e15307cd4",
       "style": "IPY_MODEL_8be6aa65272c4a6ab050fa5c5be314b3",
       "value": "<font style='color:#34BC6E'>DONE</font>"
      }
     },
     "3ed0f46919864b81aa40319fa54f93cb": {
      "model_module": "@jupyter-widgets/controls",
      "model_module_version": "1.5.0",
      "model_name": "HTMLModel",
      "state": {
       "layout": "IPY_MODEL_40edce2bf37749fc9f0daf3fcd2742f7",
       "style": "IPY_MODEL_1f079fc865ce434f8507e9ecaf4fc77b",
       "value": "ibmq_qasm_simulator"
      }
     },
     "3ed5ac22e06845a8a42d58108402c1d3": {
      "model_module": "@jupyter-widgets/base",
      "model_module_version": "1.2.0",
      "model_name": "LayoutModel",
      "state": {
       "margin": "0px 0px 0px 37px",
       "width": "600px"
      }
     },
     "3f6eecac36234bc09d901f65090942a6": {
      "model_module": "@jupyter-widgets/controls",
      "model_module_version": "1.5.0",
      "model_name": "DescriptionStyleModel",
      "state": {
       "description_width": ""
      }
     },
     "40894e85f1aa49bdbb44e69bd81d2321": {
      "model_module": "@jupyter-widgets/controls",
      "model_module_version": "1.5.0",
      "model_name": "DescriptionStyleModel",
      "state": {
       "description_width": ""
      }
     },
     "40edce2bf37749fc9f0daf3fcd2742f7": {
      "model_module": "@jupyter-widgets/base",
      "model_module_version": "1.2.0",
      "model_name": "LayoutModel",
      "state": {
       "width": "145px"
      }
     },
     "41a8fa59524746f487b61d35b782095b": {
      "model_module": "@jupyter-widgets/controls",
      "model_module_version": "1.5.0",
      "model_name": "DescriptionStyleModel",
      "state": {
       "description_width": ""
      }
     },
     "42013ffdd65844b9b67a16f6587ba8e0": {
      "model_module": "@jupyter-widgets/controls",
      "model_module_version": "1.5.0",
      "model_name": "ButtonStyleModel",
      "state": {
       "button_color": "white"
      }
     },
     "420d8c560b9f4de3968a04f8e7115e0c": {
      "model_module": "@jupyter-widgets/base",
      "model_module_version": "1.2.0",
      "model_name": "LayoutModel",
      "state": {
       "width": "145px"
      }
     },
     "42286f64b8d0447ebbbee7cb72551fa0": {
      "model_module": "@jupyter-widgets/controls",
      "model_module_version": "1.5.0",
      "model_name": "HTMLModel",
      "state": {
       "layout": "IPY_MODEL_feeb6eba9f9642a3b0407d941563a9c9",
       "style": "IPY_MODEL_78122baf0c14431e8813afb6f2c3972e",
       "value": "63d614ed392a664e28799438"
      }
     },
     "4260277944c940908b2fa2198c4e40f9": {
      "model_module": "@jupyter-widgets/controls",
      "model_module_version": "1.5.0",
      "model_name": "HTMLModel",
      "state": {
       "layout": "IPY_MODEL_21f6e0d6a3564a7596b82e896520616a",
       "style": "IPY_MODEL_56b5bd20a2984d57b09b2d94c184b525",
       "value": "63d6126b48082c1adccf65a5"
      }
     },
     "437c5bed79174a898d03719a57b6748a": {
      "model_module": "@jupyter-widgets/controls",
      "model_module_version": "1.5.0",
      "model_name": "HBoxModel",
      "state": {
       "children": [
        "IPY_MODEL_9ac2833fa36d480b89677e37d2c92440",
        "IPY_MODEL_abc9048908f744d39b297dde9f19e945",
        "IPY_MODEL_c0b70d24246e4aecb6850fc9bf57ab01",
        "IPY_MODEL_4acb7e4f76dd421bb5d0c8da160db1e3",
        "IPY_MODEL_ae46b9dbe74e470c83290f3f3de86cbd",
        "IPY_MODEL_5afe0cc5a5384ea9aff37126c5951c50"
       ],
       "layout": "IPY_MODEL_664a64e146164787a62a80b9e807e7f0"
      }
     },
     "43c562610b704883aa649c61ae07b444": {
      "model_module": "@jupyter-widgets/base",
      "model_module_version": "1.2.0",
      "model_name": "LayoutModel",
      "state": {
       "width": "145px"
      }
     },
     "43e1758fa0bc4d7083a50b4a42408d1d": {
      "model_module": "@jupyter-widgets/controls",
      "model_module_version": "1.5.0",
      "model_name": "HTMLModel",
      "state": {
       "layout": "IPY_MODEL_fde7423ca4f34ac29097f061371063af",
       "style": "IPY_MODEL_3a01456616974e33b3e97ad1313c869f",
       "value": "63d612851820a979966fc8e2"
      }
     },
     "44f61c98027f4144beb54c95dc9172ef": {
      "model_module": "@jupyter-widgets/controls",
      "model_module_version": "1.5.0",
      "model_name": "HTMLModel",
      "state": {
       "layout": "IPY_MODEL_d0bb826454b14514aa6547609e754e03",
       "style": "IPY_MODEL_a8ac190fc3f547ae98f84826dfa6dadd",
       "value": "-"
      }
     },
     "45575ef7621f4324a88c19f8eb2f5a02": {
      "model_module": "@jupyter-widgets/controls",
      "model_module_version": "1.5.0",
      "model_name": "DescriptionStyleModel",
      "state": {
       "description_width": ""
      }
     },
     "45fdd9436af64b0a8668d6227ce92c17": {
      "model_module": "@jupyter-widgets/base",
      "model_module_version": "1.2.0",
      "model_name": "LayoutModel",
      "state": {
       "width": "70px"
      }
     },
     "476da40f4d154a6d8bc769515adba396": {
      "model_module": "@jupyter-widgets/controls",
      "model_module_version": "1.5.0",
      "model_name": "DescriptionStyleModel",
      "state": {
       "description_width": ""
      }
     },
     "478621f013a44477bd0fd1c815442e3a": {
      "model_module": "@jupyter-widgets/controls",
      "model_module_version": "1.5.0",
      "model_name": "DescriptionStyleModel",
      "state": {
       "description_width": ""
      }
     },
     "479159a31f3e4d81a0c63cecf1e3f20b": {
      "model_module": "@jupyter-widgets/controls",
      "model_module_version": "1.5.0",
      "model_name": "DescriptionStyleModel",
      "state": {
       "description_width": ""
      }
     },
     "4878baa4a67d48bfa45748b453620701": {
      "model_module": "@jupyter-widgets/base",
      "model_module_version": "1.2.0",
      "model_name": "LayoutModel",
      "state": {
       "width": "190px"
      }
     },
     "48ce1e64607c41b2af6da10d61da92a0": {
      "model_module": "@jupyter-widgets/base",
      "model_module_version": "1.2.0",
      "model_name": "LayoutModel",
      "state": {
       "width": "95px"
      }
     },
     "49371672f35c4846a642982d6e017a26": {
      "model_module": "@jupyter-widgets/controls",
      "model_module_version": "1.5.0",
      "model_name": "HTMLModel",
      "state": {
       "layout": "IPY_MODEL_8ff40101ee144775904789628d04ffee",
       "style": "IPY_MODEL_d9b28a86d6c040ffba8935ec9d68d037",
       "value": "ibmq_qasm_simulator"
      }
     },
     "49532748904041f188310abe82dcadce": {
      "model_module": "@jupyter-widgets/base",
      "model_module_version": "1.2.0",
      "model_name": "LayoutModel",
      "state": {
       "width": "190px"
      }
     },
     "497204e20c874f77ad9c7984ca7f1625": {
      "model_module": "@jupyter-widgets/base",
      "model_module_version": "1.2.0",
      "model_name": "LayoutModel",
      "state": {
       "width": "145px"
      }
     },
     "49aed2ce3bdd4ef5ac51c77b17de82ba": {
      "model_module": "@jupyter-widgets/controls",
      "model_module_version": "1.5.0",
      "model_name": "HTMLModel",
      "state": {
       "layout": "IPY_MODEL_d03f5516ed8c43d3a6e71ab951b0d7ee",
       "style": "IPY_MODEL_358113d873554bcfbe7b88fe49cd05dd",
       "value": "job has successfully run"
      }
     },
     "49e68787290248e68f772c46019607c6": {
      "model_module": "@jupyter-widgets/controls",
      "model_module_version": "1.5.0",
      "model_name": "ButtonModel",
      "state": {
       "button_style": "primary",
       "description": "Clear",
       "layout": "IPY_MODEL_16fa29a3f20d4656ba836fad1d82c6e8",
       "style": "IPY_MODEL_4f58193d44e6408887f325ee6552addc"
      }
     },
     "4ac29030cdb743f79bfa9fa23fa1772a": {
      "model_module": "@jupyter-widgets/base",
      "model_module_version": "1.2.0",
      "model_name": "LayoutModel",
      "state": {
       "width": "190px"
      }
     },
     "4acb7e4f76dd421bb5d0c8da160db1e3": {
      "model_module": "@jupyter-widgets/controls",
      "model_module_version": "1.5.0",
      "model_name": "HTMLModel",
      "state": {
       "layout": "IPY_MODEL_0447bdcac90f4df59d9b15aed2e24c0d",
       "style": "IPY_MODEL_66fccadebb2a45c196aa721c2d475f59",
       "value": "<font style='color:#34BC6E'>DONE</font>"
      }
     },
     "4c0cdab7cb644f2cba568701fedde2ed": {
      "model_module": "@jupyter-widgets/controls",
      "model_module_version": "1.5.0",
      "model_name": "HTMLModel",
      "state": {
       "layout": "IPY_MODEL_259108778df843d0a69047d8d75dafc8",
       "style": "IPY_MODEL_7a6e38114f3147f7b30300cc0ae68324",
       "value": "job has successfully run"
      }
     },
     "4c4f9fd8f75f4a4c92d195755f94968a": {
      "model_module": "@jupyter-widgets/controls",
      "model_module_version": "1.5.0",
      "model_name": "DescriptionStyleModel",
      "state": {
       "description_width": ""
      }
     },
     "4d400ae347e64f5d90c2e384a9440ea1": {
      "model_module": "@jupyter-widgets/base",
      "model_module_version": "1.2.0",
      "model_name": "LayoutModel",
      "state": {
       "max_width": "700px",
       "min_width": "700px"
      }
     },
     "4dafd3aa011d4459890d0ecaff5558f4": {
      "model_module": "@jupyter-widgets/base",
      "model_module_version": "1.2.0",
      "model_name": "LayoutModel",
      "state": {
       "margin": "0px 5px 0px 0px",
       "width": "32px"
      }
     },
     "4dd8d1671f434ed2a64e08f21d2d640d": {
      "model_module": "@jupyter-widgets/controls",
      "model_module_version": "1.5.0",
      "model_name": "DescriptionStyleModel",
      "state": {
       "description_width": ""
      }
     },
     "4df0e17ffba044caa07cbcafca859f84": {
      "model_module": "@jupyter-widgets/base",
      "model_module_version": "1.2.0",
      "model_name": "LayoutModel",
      "state": {
       "overflow_x": "scroll"
      }
     },
     "4ef99bc79bfe4c1e84dd37b360d356fa": {
      "model_module": "@jupyter-widgets/controls",
      "model_module_version": "1.5.0",
      "model_name": "DescriptionStyleModel",
      "state": {
       "description_width": ""
      }
     },
     "4f0ec9372ba74a0b892ea8b74b33bb10": {
      "model_module": "@jupyter-widgets/controls",
      "model_module_version": "1.5.0",
      "model_name": "DescriptionStyleModel",
      "state": {
       "description_width": ""
      }
     },
     "4f30605c71394e31af822d247775837e": {
      "model_module": "@jupyter-widgets/controls",
      "model_module_version": "1.5.0",
      "model_name": "HTMLModel",
      "state": {
       "layout": "IPY_MODEL_c74986ad20b24f7c849aa15203d06cd6",
       "style": "IPY_MODEL_3878f7b5a42344f5886e60ec0ebf40a7",
       "value": "<font style='color:#34BC6E'>DONE</font>"
      }
     },
     "4f3eb332536c44808b6e3b3f6c942fc2": {
      "model_module": "@jupyter-widgets/base",
      "model_module_version": "1.2.0",
      "model_name": "LayoutModel",
      "state": {
       "overflow_x": "scroll"
      }
     },
     "4f58193d44e6408887f325ee6552addc": {
      "model_module": "@jupyter-widgets/controls",
      "model_module_version": "1.5.0",
      "model_name": "ButtonStyleModel",
      "state": {}
     },
     "4fb395730c8546ee887a3ef24751e8e9": {
      "model_module": "@jupyter-widgets/base",
      "model_module_version": "1.2.0",
      "model_name": "LayoutModel",
      "state": {
       "width": "70px"
      }
     },
     "501167a1fe9946739862b0045dd4ad29": {
      "model_module": "@jupyter-widgets/controls",
      "model_module_version": "1.5.0",
      "model_name": "DescriptionStyleModel",
      "state": {
       "description_width": ""
      }
     },
     "50814bc95e2945e98166ad8d5f781503": {
      "model_module": "@jupyter-widgets/controls",
      "model_module_version": "1.5.0",
      "model_name": "DescriptionStyleModel",
      "state": {
       "description_width": ""
      }
     },
     "50a4885153174b17a69f2c10ddc704e9": {
      "model_module": "@jupyter-widgets/base",
      "model_module_version": "1.2.0",
      "model_name": "LayoutModel",
      "state": {
       "width": "70px"
      }
     },
     "50afd40e3b0f46d184f52b430e6546f6": {
      "model_module": "@jupyter-widgets/controls",
      "model_module_version": "1.5.0",
      "model_name": "HBoxModel",
      "state": {
       "children": [
        "IPY_MODEL_0c46c0b425c34f39a2a281709673efa8",
        "IPY_MODEL_6c59b107e7e24dc3b9711e20a5effaa1",
        "IPY_MODEL_3ed0f46919864b81aa40319fa54f93cb",
        "IPY_MODEL_2e498678803d4f46b3ce58440b820185",
        "IPY_MODEL_a0edcd30de71499dbfb86017d6901eeb",
        "IPY_MODEL_9d83f6a47dcd44bb8aed791c33ad904d"
       ],
       "layout": "IPY_MODEL_28278a95794a4682b13468392ef5f6a4"
      }
     },
     "50c0f6874a1146af914a846fa0f50df2": {
      "model_module": "@jupyter-widgets/controls",
      "model_module_version": "1.5.0",
      "model_name": "DescriptionStyleModel",
      "state": {
       "description_width": ""
      }
     },
     "51594bead89a49f4b20c7f1924db87a7": {
      "model_module": "@jupyter-widgets/controls",
      "model_module_version": "1.5.0",
      "model_name": "DescriptionStyleModel",
      "state": {
       "description_width": ""
      }
     },
     "5194b6d4c8bb4d4bb32b6b716f446c91": {
      "model_module": "@jupyter-widgets/base",
      "model_module_version": "1.2.0",
      "model_name": "LayoutModel",
      "state": {
       "width": "95px"
      }
     },
     "5300c902403c4a739f6ebee51e8fb44f": {
      "model_module": "@jupyter-widgets/controls",
      "model_module_version": "1.5.0",
      "model_name": "HBoxModel",
      "state": {
       "children": [
        "IPY_MODEL_0adc8a0c5fe04a3393fc386d11be3f23",
        "IPY_MODEL_642f692198184c93b3ee897933270ab6",
        "IPY_MODEL_f25b9c2c4ba54a56be65d56c40730077",
        "IPY_MODEL_5d1179e05cc24c6a99de1174987fab82",
        "IPY_MODEL_33f474a0b61c446aa723700bf6003241",
        "IPY_MODEL_a45cfa06cc974fcab87e30dbb26dc83b"
       ],
       "layout": "IPY_MODEL_35bf4ad45e6e485bac95d9752018bfac"
      }
     },
     "54cfb6a840644505bfab8dc15e904533": {
      "model_module": "@jupyter-widgets/controls",
      "model_module_version": "1.5.0",
      "model_name": "DescriptionStyleModel",
      "state": {
       "description_width": ""
      }
     },
     "54e921cbe4404796977cc6e66d7ca055": {
      "model_module": "@jupyter-widgets/base",
      "model_module_version": "1.2.0",
      "model_name": "LayoutModel",
      "state": {
       "width": "190px"
      }
     },
     "567b2ce722ba4f519a1699f11f4a2d40": {
      "model_module": "@jupyter-widgets/controls",
      "model_module_version": "1.5.0",
      "model_name": "ButtonModel",
      "state": {
       "icon": "close",
       "layout": "IPY_MODEL_60dfc3e86656480fbc6c463c0768bcf5",
       "style": "IPY_MODEL_6bd04a5b67e84e52989cd126b58bc3cd"
      }
     },
     "56b5bd20a2984d57b09b2d94c184b525": {
      "model_module": "@jupyter-widgets/controls",
      "model_module_version": "1.5.0",
      "model_name": "DescriptionStyleModel",
      "state": {
       "description_width": ""
      }
     },
     "57e60818adf14972993c1bce9cf789e7": {
      "model_module": "@jupyter-widgets/base",
      "model_module_version": "1.2.0",
      "model_name": "LayoutModel",
      "state": {
       "max_width": "700px",
       "min_width": "700px"
      }
     },
     "5816cdd592614fd4a9bbe8c9bd56ffc2": {
      "model_module": "@jupyter-widgets/controls",
      "model_module_version": "1.5.0",
      "model_name": "HTMLModel",
      "state": {
       "layout": "IPY_MODEL_1c6d4be3bd93487abbf46bfe52bfcc09",
       "style": "IPY_MODEL_63d4816a4e764bcdbcdef078da2ee13a",
       "value": "63d612cd33d85076810588a1"
      }
     },
     "58b219e76a864bd0b0232f07aefb4995": {
      "model_module": "@jupyter-widgets/controls",
      "model_module_version": "1.5.0",
      "model_name": "HTMLModel",
      "state": {
       "layout": "IPY_MODEL_1ddc77ae07854f6aad6346b89b263257",
       "style": "IPY_MODEL_3f6eecac36234bc09d901f65090942a6",
       "value": "<font style='color:#34BC6E'>DONE</font>"
      }
     },
     "5922df489d98430cbc36eaa4fd8b2e09": {
      "model_module": "@jupyter-widgets/controls",
      "model_module_version": "1.5.0",
      "model_name": "ButtonModel",
      "state": {
       "icon": "close",
       "layout": "IPY_MODEL_6e6428daa98240e1abc6c9bf3e7cb213",
       "style": "IPY_MODEL_08f155e52a6d49c2a52ce28381791d86"
      }
     },
     "594770560b6149588ac915ef4360b1b4": {
      "model_module": "@jupyter-widgets/controls",
      "model_module_version": "1.5.0",
      "model_name": "DescriptionStyleModel",
      "state": {
       "description_width": ""
      }
     },
     "59baf28c84d14f40bb98bf1504a80871": {
      "model_module": "@jupyter-widgets/base",
      "model_module_version": "1.2.0",
      "model_name": "LayoutModel",
      "state": {
       "margin": "0px 5px 0px 0px",
       "width": "32px"
      }
     },
     "59c84cefd90a4275a256a8f015b3f770": {
      "model_module": "@jupyter-widgets/controls",
      "model_module_version": "1.5.0",
      "model_name": "DescriptionStyleModel",
      "state": {
       "description_width": ""
      }
     },
     "5a75b81ab8b54897bb811c724066c204": {
      "model_module": "@jupyter-widgets/base",
      "model_module_version": "1.2.0",
      "model_name": "LayoutModel",
      "state": {
       "width": "190px"
      }
     },
     "5afe0cc5a5384ea9aff37126c5951c50": {
      "model_module": "@jupyter-widgets/controls",
      "model_module_version": "1.5.0",
      "model_name": "HTMLModel",
      "state": {
       "layout": "IPY_MODEL_64e1d36b16c0447f8c97586e193bd2bd",
       "style": "IPY_MODEL_25d92bc592b845ada3a8a80cd391a6de",
       "value": "job has successfully run"
      }
     },
     "5c199de09761433ea77ceb56b48a8af4": {
      "model_module": "@jupyter-widgets/controls",
      "model_module_version": "1.5.0",
      "model_name": "HTMLModel",
      "state": {
       "layout": "IPY_MODEL_d5812d43cbf344488d425ab76c4a6944",
       "style": "IPY_MODEL_8e21f20148ee4d98b425b329c034b676",
       "value": "ibmq_qasm_simulator"
      }
     },
     "5c1ccd0fe12944a2869df5f4ef959a54": {
      "model_module": "@jupyter-widgets/controls",
      "model_module_version": "1.5.0",
      "model_name": "ButtonModel",
      "state": {
       "icon": "close",
       "layout": "IPY_MODEL_10239f91cf17429eaa1ce65b771c4282",
       "style": "IPY_MODEL_30b6dc1c158a40e3953bdf13f5d09ee9"
      }
     },
     "5c3acaa1af6544a9bc7a98cb989664d9": {
      "model_module": "@jupyter-widgets/controls",
      "model_module_version": "1.5.0",
      "model_name": "HBoxModel",
      "state": {
       "children": [
        "IPY_MODEL_87d5718cd9ef4d60a4a4da5d78539600",
        "IPY_MODEL_bf635e760d8946159448d0ca533d08f1",
        "IPY_MODEL_893dd60fca024f779570d7f0a8da64ab",
        "IPY_MODEL_139c51e3e5a74f059f9a2b2f68aa9cd5",
        "IPY_MODEL_2e8743ff603b43c28b65547aa4f23b5b",
        "IPY_MODEL_49aed2ce3bdd4ef5ac51c77b17de82ba"
       ],
       "layout": "IPY_MODEL_76eb78e027e846b593d595ff7494f034"
      }
     },
     "5c86b10584704860ab30953e45da72bb": {
      "model_module": "@jupyter-widgets/controls",
      "model_module_version": "1.5.0",
      "model_name": "ButtonStyleModel",
      "state": {
       "button_color": "white"
      }
     },
     "5cd40cd93bef4935b11ef2f97e170516": {
      "model_module": "@jupyter-widgets/controls",
      "model_module_version": "1.5.0",
      "model_name": "HTMLModel",
      "state": {
       "layout": "IPY_MODEL_8fa8c9d544fe48b88f37c16d920bdd8e",
       "style": "IPY_MODEL_dbd512621b3b4e0b9998d6afd8e66747",
       "value": "<font style='color:#34BC6E'>DONE</font>"
      }
     },
     "5cef54a6db98450d984e18f75fb53f77": {
      "model_module": "@jupyter-widgets/controls",
      "model_module_version": "1.5.0",
      "model_name": "HTMLModel",
      "state": {
       "layout": "IPY_MODEL_81add61b11514692956ab4e75c652ced",
       "style": "IPY_MODEL_c5ec179a3fa54fa5bf39be2f01791c21",
       "value": "63d612d3ed7bc61e5c896fbc"
      }
     },
     "5cff320d475542cd8a389fbdfea71dce": {
      "model_module": "@jupyter-widgets/base",
      "model_module_version": "1.2.0",
      "model_name": "LayoutModel",
      "state": {
       "width": "70px"
      }
     },
     "5d1179e05cc24c6a99de1174987fab82": {
      "model_module": "@jupyter-widgets/controls",
      "model_module_version": "1.5.0",
      "model_name": "HTMLModel",
      "state": {
       "layout": "IPY_MODEL_f9485e4710084097a38ab372b43066c8",
       "style": "IPY_MODEL_ccafeb4d37504bbea07e4161d71ebb58",
       "value": "<font style='color:#34BC6E'>DONE</font>"
      }
     },
     "5d266971a91b4f279e3ce36cd8d13ac1": {
      "model_module": "@jupyter-widgets/base",
      "model_module_version": "1.2.0",
      "model_name": "LayoutModel",
      "state": {
       "margin": "0px 5px 0px 0px",
       "width": "32px"
      }
     },
     "5d621cd83e374f00a151e9d5f59b56a4": {
      "model_module": "@jupyter-widgets/controls",
      "model_module_version": "1.5.0",
      "model_name": "DescriptionStyleModel",
      "state": {
       "description_width": ""
      }
     },
     "5d77bca4bae24fb68a55818b35673bc0": {
      "model_module": "@jupyter-widgets/controls",
      "model_module_version": "1.5.0",
      "model_name": "ButtonModel",
      "state": {
       "icon": "close",
       "layout": "IPY_MODEL_bd85a6298b404c358e1d95444e6923bf",
       "style": "IPY_MODEL_25196755111e4b03b35fdb29201bc71a"
      }
     },
     "5e501f5534dc492ab9e9b4f6874e1192": {
      "model_module": "@jupyter-widgets/controls",
      "model_module_version": "1.5.0",
      "model_name": "ButtonModel",
      "state": {
       "icon": "close",
       "layout": "IPY_MODEL_4dafd3aa011d4459890d0ecaff5558f4",
       "style": "IPY_MODEL_78089c881c7541f485604213a6698bfa"
      }
     },
     "607405a5b73349af8385046527613d85": {
      "model_module": "@jupyter-widgets/controls",
      "model_module_version": "1.5.0",
      "model_name": "HTMLModel",
      "state": {
       "layout": "IPY_MODEL_e41ceb0901c84b349d8fd1cd90432edf",
       "style": "IPY_MODEL_183fed07bd164bfdb7a05e8813c22f6f",
       "value": "-"
      }
     },
     "60b08563a18b4219b766289cf197b5ce": {
      "model_module": "@jupyter-widgets/controls",
      "model_module_version": "1.5.0",
      "model_name": "ButtonModel",
      "state": {
       "icon": "close",
       "layout": "IPY_MODEL_6d7c678ea5514efc8ff1e9a6f0539d0c",
       "style": "IPY_MODEL_2e3da44387214f7f981e97d6093664dd"
      }
     },
     "60dfc3e86656480fbc6c463c0768bcf5": {
      "model_module": "@jupyter-widgets/base",
      "model_module_version": "1.2.0",
      "model_name": "LayoutModel",
      "state": {
       "margin": "0px 5px 0px 0px",
       "width": "32px"
      }
     },
     "6216e84a19724d62bd95cf8345733cf9": {
      "model_module": "@jupyter-widgets/controls",
      "model_module_version": "1.5.0",
      "model_name": "DescriptionStyleModel",
      "state": {
       "description_width": ""
      }
     },
     "6280c594ac524c7dae1339b64ce25537": {
      "model_module": "@jupyter-widgets/controls",
      "model_module_version": "1.5.0",
      "model_name": "ButtonStyleModel",
      "state": {
       "button_color": "white"
      }
     },
     "631a3956db34462bbdfcaa739ea55f5d": {
      "model_module": "@jupyter-widgets/controls",
      "model_module_version": "1.5.0",
      "model_name": "HTMLModel",
      "state": {
       "layout": "IPY_MODEL_034af90e7dc74d64b35c4bc8fdeaf33e",
       "style": "IPY_MODEL_8d3fe3b0d79742a8bc7d029d823d4883",
       "value": "<font style='color:#34BC6E'>DONE</font>"
      }
     },
     "63792f2e4736492983521e04d458b0e1": {
      "model_module": "@jupyter-widgets/base",
      "model_module_version": "1.2.0",
      "model_name": "LayoutModel",
      "state": {
       "width": "70px"
      }
     },
     "6383baf284b7447cb368f6d70850e3af": {
      "model_module": "@jupyter-widgets/controls",
      "model_module_version": "1.5.0",
      "model_name": "ButtonModel",
      "state": {
       "icon": "close",
       "layout": "IPY_MODEL_5d266971a91b4f279e3ce36cd8d13ac1",
       "style": "IPY_MODEL_7a85b25ae7d4405d8ff9c79ad84eb9b9"
      }
     },
     "63a4abdd1ac84314b2fa4d2b639834aa": {
      "model_module": "@jupyter-widgets/controls",
      "model_module_version": "1.5.0",
      "model_name": "DescriptionStyleModel",
      "state": {
       "description_width": ""
      }
     },
     "63c4ff4b127847008c3386bcfe2de642": {
      "model_module": "@jupyter-widgets/base",
      "model_module_version": "1.2.0",
      "model_name": "LayoutModel",
      "state": {
       "margin": "0px 5px 0px 0px",
       "width": "32px"
      }
     },
     "63d4816a4e764bcdbcdef078da2ee13a": {
      "model_module": "@jupyter-widgets/controls",
      "model_module_version": "1.5.0",
      "model_name": "DescriptionStyleModel",
      "state": {
       "description_width": ""
      }
     },
     "642f692198184c93b3ee897933270ab6": {
      "model_module": "@jupyter-widgets/controls",
      "model_module_version": "1.5.0",
      "model_name": "HTMLModel",
      "state": {
       "layout": "IPY_MODEL_ee5db4ebf6d94918866283a530985125",
       "style": "IPY_MODEL_bf86dd160d4f407a9e32f1b2e3875ed8",
       "value": "63d612db958cc0951c9d0b42"
      }
     },
     "645546df700b4f308462dba711f21fd7": {
      "model_module": "@jupyter-widgets/base",
      "model_module_version": "1.2.0",
      "model_name": "LayoutModel",
      "state": {
       "margin": "0px 5px 0px 0px",
       "width": "32px"
      }
     },
     "647bf68ec14442e799894db94946882e": {
      "model_module": "@jupyter-widgets/controls",
      "model_module_version": "1.5.0",
      "model_name": "HTMLModel",
      "state": {
       "layout": "IPY_MODEL_260caad73a7443629064a8b4eb1c4c04",
       "style": "IPY_MODEL_ea75f1b06dd649fd84110bc95b7c8bd7",
       "value": "<h5>Queue</h5>"
      }
     },
     "64cd46c9d9fc4d66bc80b859ae892c5a": {
      "model_module": "@jupyter-widgets/controls",
      "model_module_version": "1.5.0",
      "model_name": "DescriptionStyleModel",
      "state": {
       "description_width": ""
      }
     },
     "64e1d36b16c0447f8c97586e193bd2bd": {
      "model_module": "@jupyter-widgets/base",
      "model_module_version": "1.2.0",
      "model_name": "LayoutModel",
      "state": {
       "overflow_x": "scroll"
      }
     },
     "6562aed0bccf4e96ab6b2457aa27ad56": {
      "model_module": "@jupyter-widgets/controls",
      "model_module_version": "1.5.0",
      "model_name": "HTMLModel",
      "state": {
       "layout": "IPY_MODEL_d44615c113e84adf9c09766a989b67f2",
       "style": "IPY_MODEL_64cd46c9d9fc4d66bc80b859ae892c5a",
       "value": "<h5>Job ID</h5>"
      }
     },
     "664a64e146164787a62a80b9e807e7f0": {
      "model_module": "@jupyter-widgets/base",
      "model_module_version": "1.2.0",
      "model_name": "LayoutModel",
      "state": {
       "max_width": "700px",
       "min_width": "700px"
      }
     },
     "66fccadebb2a45c196aa721c2d475f59": {
      "model_module": "@jupyter-widgets/controls",
      "model_module_version": "1.5.0",
      "model_name": "DescriptionStyleModel",
      "state": {
       "description_width": ""
      }
     },
     "670507bc565a48e7b95f3658916d965e": {
      "model_module": "@jupyter-widgets/controls",
      "model_module_version": "1.5.0",
      "model_name": "DescriptionStyleModel",
      "state": {
       "description_width": ""
      }
     },
     "68778ba57f3d46398053456c559198f2": {
      "model_module": "@jupyter-widgets/controls",
      "model_module_version": "1.5.0",
      "model_name": "HTMLModel",
      "state": {
       "layout": "IPY_MODEL_dc901663158d43d4b6910e2813429a68",
       "style": "IPY_MODEL_68e1b94e977647a694987abcdc9d3415",
       "value": "<font style='color:#34BC6E'>DONE</font>"
      }
     },
     "689f8e0b1fab4adb8951d5cf3db2f0f1": {
      "model_module": "@jupyter-widgets/controls",
      "model_module_version": "1.5.0",
      "model_name": "HTMLModel",
      "state": {
       "layout": "IPY_MODEL_985498def88a48f19556b76d4aba9034",
       "style": "IPY_MODEL_ffa36a2818814063ad7ef591571894d0",
       "value": "-"
      }
     },
     "68e1b94e977647a694987abcdc9d3415": {
      "model_module": "@jupyter-widgets/controls",
      "model_module_version": "1.5.0",
      "model_name": "DescriptionStyleModel",
      "state": {
       "description_width": ""
      }
     },
     "6920066648bb474fa24afc87ea055eb9": {
      "model_module": "@jupyter-widgets/controls",
      "model_module_version": "1.5.0",
      "model_name": "HBoxModel",
      "state": {
       "children": [
        "IPY_MODEL_7d284ad9ebbd4cbcacc3809e111175d3",
        "IPY_MODEL_9ff8bfc413c545389be38c01f57b1a6e",
        "IPY_MODEL_8ca664eaff5245dc89206ec874c777f9",
        "IPY_MODEL_68778ba57f3d46398053456c559198f2",
        "IPY_MODEL_cbbfe852163847e7ac92160c614979dc",
        "IPY_MODEL_73e33ed563834093bb80f294f58bebd4"
       ],
       "layout": "IPY_MODEL_9d1bb7608f7749c698b2665f5fe5b5f8"
      }
     },
     "6957567540ef4dc99c949dfd6ee26718": {
      "model_module": "@jupyter-widgets/base",
      "model_module_version": "1.2.0",
      "model_name": "LayoutModel",
      "state": {
       "max_width": "700px",
       "min_width": "700px"
      }
     },
     "6af357fe97954d2591a2c7df05091151": {
      "model_module": "@jupyter-widgets/controls",
      "model_module_version": "1.5.0",
      "model_name": "DescriptionStyleModel",
      "state": {
       "description_width": ""
      }
     },
     "6b77c4f67f7f48a4936d7d30687d5649": {
      "model_module": "@jupyter-widgets/controls",
      "model_module_version": "1.5.0",
      "model_name": "HTMLModel",
      "state": {
       "layout": "IPY_MODEL_4fb395730c8546ee887a3ef24751e8e9",
       "style": "IPY_MODEL_243b91203f57472d9425a87728952146",
       "value": "-"
      }
     },
     "6bd04a5b67e84e52989cd126b58bc3cd": {
      "model_module": "@jupyter-widgets/controls",
      "model_module_version": "1.5.0",
      "model_name": "ButtonStyleModel",
      "state": {
       "button_color": "white"
      }
     },
     "6c0329d6687e4439947c6e4cdc824daf": {
      "model_module": "@jupyter-widgets/controls",
      "model_module_version": "1.5.0",
      "model_name": "DescriptionStyleModel",
      "state": {
       "description_width": ""
      }
     },
     "6c59b107e7e24dc3b9711e20a5effaa1": {
      "model_module": "@jupyter-widgets/controls",
      "model_module_version": "1.5.0",
      "model_name": "HTMLModel",
      "state": {
       "layout": "IPY_MODEL_d6fcaea176664708841b217cf3e15334",
       "style": "IPY_MODEL_78a0fb83face48d6b6f8b1163d8807c3",
       "value": "63d61251958cc05b1a9d0b3d"
      }
     },
     "6c921cd73de843329bb13a9567a959d4": {
      "model_module": "@jupyter-widgets/base",
      "model_module_version": "1.2.0",
      "model_name": "LayoutModel",
      "state": {
       "max_width": "700px",
       "min_width": "700px"
      }
     },
     "6cb15e2659924645add372f04b04ce65": {
      "model_module": "@jupyter-widgets/controls",
      "model_module_version": "1.5.0",
      "model_name": "ButtonModel",
      "state": {
       "icon": "close",
       "layout": "IPY_MODEL_2166960ce56f4311906f2d2ffb1016ff",
       "style": "IPY_MODEL_c0ad65931286445f8cffb63edefe6fca"
      }
     },
     "6d7c678ea5514efc8ff1e9a6f0539d0c": {
      "model_module": "@jupyter-widgets/base",
      "model_module_version": "1.2.0",
      "model_name": "LayoutModel",
      "state": {
       "margin": "0px 5px 0px 0px",
       "width": "32px"
      }
     },
     "6dd8a7f3dadf41279b05585b71095e5f": {
      "model_module": "@jupyter-widgets/controls",
      "model_module_version": "1.5.0",
      "model_name": "DescriptionStyleModel",
      "state": {
       "description_width": ""
      }
     },
     "6e5d4e08332d4e5e8a4959c4ee672036": {
      "model_module": "@jupyter-widgets/controls",
      "model_module_version": "1.5.0",
      "model_name": "HTMLModel",
      "state": {
       "layout": "IPY_MODEL_f143adc3bb52485bb559a706f313885b",
       "style": "IPY_MODEL_6216e84a19724d62bd95cf8345733cf9",
       "value": "-"
      }
     },
     "6e6428daa98240e1abc6c9bf3e7cb213": {
      "model_module": "@jupyter-widgets/base",
      "model_module_version": "1.2.0",
      "model_name": "LayoutModel",
      "state": {
       "margin": "0px 5px 0px 0px",
       "width": "32px"
      }
     },
     "6e9dcbfb02f34534bb365c00f5e08bb2": {
      "model_module": "@jupyter-widgets/controls",
      "model_module_version": "1.5.0",
      "model_name": "HTMLModel",
      "state": {
       "layout": "IPY_MODEL_88f290d5f5c14acf90e653a8e2e858b2",
       "style": "IPY_MODEL_3581925361f3439b9b20bd219768c7a1",
       "value": "<p style='font-family: IBM Plex Sans, Arial, Helvetica, sans-serif; font-size: 20px; font-weight: medium;'>Circuit Properties</p>"
      }
     },
     "6f221bc396b54b949699f2d93cca41f5": {
      "model_module": "@jupyter-widgets/controls",
      "model_module_version": "1.5.0",
      "model_name": "HBoxModel",
      "state": {
       "children": [
        "IPY_MODEL_6383baf284b7447cb368f6d70850e3af",
        "IPY_MODEL_216bc745468b4bfcac2191130971aa94",
        "IPY_MODEL_d0edafc35bc94938a2d9b5bdcddf9198",
        "IPY_MODEL_04ba7bc9419343149646bc9e16a47f4d",
        "IPY_MODEL_689f8e0b1fab4adb8951d5cf3db2f0f1",
        "IPY_MODEL_effa2a9625d24547b0b14e8fa312de66"
       ],
       "layout": "IPY_MODEL_bbb3bdce2f1948cfb3a0a983815163a3"
      }
     },
     "6f5ef2ad34e94b60895a3f2ad70a4451": {
      "model_module": "@jupyter-widgets/controls",
      "model_module_version": "1.5.0",
      "model_name": "HTMLModel",
      "state": {
       "layout": "IPY_MODEL_0798e45e2061498682cca7a30de1cbbb",
       "style": "IPY_MODEL_ca8c935dc98e4cba9118e28f9075dd70",
       "value": "ibmq_qasm_simulator"
      }
     },
     "6feda5aa5b874cb99e5590b72f5c27ad": {
      "model_module": "@jupyter-widgets/controls",
      "model_module_version": "1.5.0",
      "model_name": "DescriptionStyleModel",
      "state": {
       "description_width": ""
      }
     },
     "71670d373c1c487d8e75ff3a52cfe3bf": {
      "model_module": "@jupyter-widgets/controls",
      "model_module_version": "1.5.0",
      "model_name": "HTMLModel",
      "state": {
       "layout": "IPY_MODEL_1e223556a31d4c6d83dc99d81d72063a",
       "style": "IPY_MODEL_479159a31f3e4d81a0c63cecf1e3f20b",
       "value": "ibmq_qasm_simulator"
      }
     },
     "71d7ead4fc59456eacf4294de0129646": {
      "model_module": "@jupyter-widgets/base",
      "model_module_version": "1.2.0",
      "model_name": "LayoutModel",
      "state": {
       "overflow_x": "scroll"
      }
     },
     "72395fd604494deca85ea2e78ca47c63": {
      "model_module": "@jupyter-widgets/base",
      "model_module_version": "1.2.0",
      "model_name": "LayoutModel",
      "state": {
       "width": "190px"
      }
     },
     "72b0752ac1e84b0e91c3b74efb88f7d2": {
      "model_module": "@jupyter-widgets/controls",
      "model_module_version": "1.5.0",
      "model_name": "HBoxModel",
      "state": {
       "children": [
        "IPY_MODEL_5c1ccd0fe12944a2869df5f4ef959a54",
        "IPY_MODEL_e85c9ae98e7142659c004bc615db0755",
        "IPY_MODEL_c17f4e6b5c2b4dd38ea84c4cf44d6131",
        "IPY_MODEL_3d2c8b543c874aeeb61ae7988782c8f8",
        "IPY_MODEL_44f61c98027f4144beb54c95dc9172ef",
        "IPY_MODEL_2d6df452cbe04442a5c589334b3c0c3c"
       ],
       "layout": "IPY_MODEL_29c989a9aa244c3fb46c189e72c5582a"
      }
     },
     "72b87f59cc574fd7b659e18782a67887": {
      "model_module": "@jupyter-widgets/controls",
      "model_module_version": "1.5.0",
      "model_name": "DescriptionStyleModel",
      "state": {
       "description_width": ""
      }
     },
     "7314b1f0e2ba48a6bd0a61da4be47009": {
      "model_module": "@jupyter-widgets/base",
      "model_module_version": "1.2.0",
      "model_name": "LayoutModel",
      "state": {
       "max_width": "700px",
       "min_width": "700px"
      }
     },
     "7383051015fc4f17905fa10a276cb978": {
      "model_module": "@jupyter-widgets/controls",
      "model_module_version": "1.5.0",
      "model_name": "DescriptionStyleModel",
      "state": {
       "description_width": ""
      }
     },
     "73990eefdd784aaaab71b9d457febf72": {
      "model_module": "@jupyter-widgets/controls",
      "model_module_version": "1.5.0",
      "model_name": "HTMLModel",
      "state": {
       "layout": "IPY_MODEL_9734cfa794ba45f2842360e25fda0197",
       "style": "IPY_MODEL_2a1961d6b1814685bf70cfde63556ecb",
       "value": "job has successfully run"
      }
     },
     "73e33ed563834093bb80f294f58bebd4": {
      "model_module": "@jupyter-widgets/controls",
      "model_module_version": "1.5.0",
      "model_name": "HTMLModel",
      "state": {
       "layout": "IPY_MODEL_bfbb8159f2804f7799a8b7f0349a94a2",
       "style": "IPY_MODEL_c0fa906d640e4c14a38abf51d39d1b89",
       "value": "job has successfully run"
      }
     },
     "743fe8c46aa84639ad6b545b4e97f424": {
      "model_module": "@jupyter-widgets/controls",
      "model_module_version": "1.5.0",
      "model_name": "HTMLModel",
      "state": {
       "layout": "IPY_MODEL_f7afb3407ca34e939ecc8b3f31843b43",
       "style": "IPY_MODEL_89c3ed9986cf43c0aac6e1f7eec4a2fc",
       "value": "-"
      }
     },
     "7461e8237d664d458b74b72de5362546": {
      "model_module": "@jupyter-widgets/controls",
      "model_module_version": "1.5.0",
      "model_name": "HBoxModel",
      "state": {
       "children": [
        "IPY_MODEL_d3628d5ca5e548cd82abf56797496cf9",
        "IPY_MODEL_42286f64b8d0447ebbbee7cb72551fa0",
        "IPY_MODEL_d1392127db3e4526bb9287c0b0231afe",
        "IPY_MODEL_910b4c68acf7424cacde39eeae226157",
        "IPY_MODEL_bbc00ce8ba09491ab827bd67a62581c0",
        "IPY_MODEL_d9d6bf31371f447fac7f26e66d36de4d"
       ],
       "layout": "IPY_MODEL_00321c84fd9949beb9b053628f09bd89"
      }
     },
     "74d6705784064871aa6af6f7ae32cf52": {
      "model_module": "@jupyter-widgets/controls",
      "model_module_version": "1.5.0",
      "model_name": "HTMLModel",
      "state": {
       "layout": "IPY_MODEL_79ec5dd82c464078bfb407309f297a73",
       "style": "IPY_MODEL_8dfef28c9e9b45f08a8a22f69618f096",
       "value": "-"
      }
     },
     "760ff2180e2d40cc95ad4b2c97399137": {
      "model_module": "@jupyter-widgets/controls",
      "model_module_version": "1.5.0",
      "model_name": "ButtonStyleModel",
      "state": {
       "button_color": "white"
      }
     },
     "76988588cd1546189122a5a20fdb5d4f": {
      "model_module": "@jupyter-widgets/base",
      "model_module_version": "1.2.0",
      "model_name": "LayoutModel",
      "state": {
       "width": "95px"
      }
     },
     "76eb78e027e846b593d595ff7494f034": {
      "model_module": "@jupyter-widgets/base",
      "model_module_version": "1.2.0",
      "model_name": "LayoutModel",
      "state": {
       "max_width": "700px",
       "min_width": "700px"
      }
     },
     "771e609203084a038861c45197d56552": {
      "model_module": "@jupyter-widgets/controls",
      "model_module_version": "1.5.0",
      "model_name": "HTMLModel",
      "state": {
       "layout": "IPY_MODEL_5cff320d475542cd8a389fbdfea71dce",
       "style": "IPY_MODEL_63a4abdd1ac84314b2fa4d2b639834aa",
       "value": "-"
      }
     },
     "77c8ac19f7d54a728b18353316797ec1": {
      "model_module": "@jupyter-widgets/controls",
      "model_module_version": "1.5.0",
      "model_name": "HTMLModel",
      "state": {
       "layout": "IPY_MODEL_5194b6d4c8bb4d4bb32b6b716f446c91",
       "style": "IPY_MODEL_670507bc565a48e7b95f3658916d965e",
       "value": "<font style='color:#34BC6E'>DONE</font>"
      }
     },
     "78089c881c7541f485604213a6698bfa": {
      "model_module": "@jupyter-widgets/controls",
      "model_module_version": "1.5.0",
      "model_name": "ButtonStyleModel",
      "state": {
       "button_color": "white"
      }
     },
     "78122baf0c14431e8813afb6f2c3972e": {
      "model_module": "@jupyter-widgets/controls",
      "model_module_version": "1.5.0",
      "model_name": "DescriptionStyleModel",
      "state": {
       "description_width": ""
      }
     },
     "788493053287408cae8f666be89eeeb7": {
      "model_module": "@jupyter-widgets/base",
      "model_module_version": "1.2.0",
      "model_name": "LayoutModel",
      "state": {
       "width": "145px"
      }
     },
     "78a0fb83face48d6b6f8b1163d8807c3": {
      "model_module": "@jupyter-widgets/controls",
      "model_module_version": "1.5.0",
      "model_name": "DescriptionStyleModel",
      "state": {
       "description_width": ""
      }
     },
     "790a20123ca546f3baeaf960de3dad5a": {
      "model_module": "@jupyter-widgets/controls",
      "model_module_version": "1.5.0",
      "model_name": "ButtonModel",
      "state": {
       "icon": "close",
       "layout": "IPY_MODEL_14f67de025f24001b39db7e3f8f65bd8",
       "style": "IPY_MODEL_1f946aee845c45bd9a88cf5c636553bd"
      }
     },
     "79ec5dd82c464078bfb407309f297a73": {
      "model_module": "@jupyter-widgets/base",
      "model_module_version": "1.2.0",
      "model_name": "LayoutModel",
      "state": {
       "width": "70px"
      }
     },
     "7a6e38114f3147f7b30300cc0ae68324": {
      "model_module": "@jupyter-widgets/controls",
      "model_module_version": "1.5.0",
      "model_name": "DescriptionStyleModel",
      "state": {
       "description_width": ""
      }
     },
     "7a73e540d02c4cebb4dc026d4cbaa19f": {
      "model_module": "@jupyter-widgets/base",
      "model_module_version": "1.2.0",
      "model_name": "LayoutModel",
      "state": {
       "margin": "0px 5px 0px 0px",
       "width": "32px"
      }
     },
     "7a85b25ae7d4405d8ff9c79ad84eb9b9": {
      "model_module": "@jupyter-widgets/controls",
      "model_module_version": "1.5.0",
      "model_name": "ButtonStyleModel",
      "state": {
       "button_color": "white"
      }
     },
     "7adf8571127b4b03a50d96ded17076e3": {
      "model_module": "@jupyter-widgets/base",
      "model_module_version": "1.2.0",
      "model_name": "LayoutModel",
      "state": {
       "width": "70px"
      }
     },
     "7bdd3e32a0894fc2917598feb35c34cc": {
      "model_module": "@jupyter-widgets/base",
      "model_module_version": "1.2.0",
      "model_name": "LayoutModel",
      "state": {
       "width": "95px"
      }
     },
     "7c11bff280b4427db946fda3245f68f2": {
      "model_module": "@jupyter-widgets/base",
      "model_module_version": "1.2.0",
      "model_name": "LayoutModel",
      "state": {
       "width": "95px"
      }
     },
     "7c79390a794443a08049cdcea83effa2": {
      "model_module": "@jupyter-widgets/controls",
      "model_module_version": "1.5.0",
      "model_name": "HTMLModel",
      "state": {
       "layout": "IPY_MODEL_e06c33a70ce041feaef0609c347d9a43",
       "style": "IPY_MODEL_4c4f9fd8f75f4a4c92d195755f94968a",
       "value": "-"
      }
     },
     "7d061f203ace4d038a977e3ea220e370": {
      "model_module": "@jupyter-widgets/base",
      "model_module_version": "1.2.0",
      "model_name": "LayoutModel",
      "state": {
       "width": "70px"
      }
     },
     "7d2690edf9a1468a9cffe11070c3a9a4": {
      "model_module": "@jupyter-widgets/controls",
      "model_module_version": "1.5.0",
      "model_name": "DescriptionStyleModel",
      "state": {
       "description_width": ""
      }
     },
     "7d284ad9ebbd4cbcacc3809e111175d3": {
      "model_module": "@jupyter-widgets/controls",
      "model_module_version": "1.5.0",
      "model_name": "ButtonModel",
      "state": {
       "icon": "close",
       "layout": "IPY_MODEL_92b48ae380844e389c25b57f4cbcbdee",
       "style": "IPY_MODEL_d889e70804d747d8a27b13f5da5fa24c"
      }
     },
     "7e37b5727eac45afa557ed0092fe5979": {
      "model_module": "@jupyter-widgets/controls",
      "model_module_version": "1.5.0",
      "model_name": "HTMLModel",
      "state": {
       "layout": "IPY_MODEL_4df0e17ffba044caa07cbcafca859f84",
       "style": "IPY_MODEL_c6dd90a4ebd445c2aa6917bd61b14daa",
       "value": "job has successfully run"
      }
     },
     "7f12b7183bc744cbb4310f6d1ce19f9d": {
      "model_module": "@jupyter-widgets/controls",
      "model_module_version": "1.5.0",
      "model_name": "DescriptionStyleModel",
      "state": {
       "description_width": ""
      }
     },
     "7f64d012ad7e4b98b90b37be8f73cde6": {
      "model_module": "@jupyter-widgets/base",
      "model_module_version": "1.2.0",
      "model_name": "LayoutModel",
      "state": {
       "max_width": "700px",
       "min_width": "700px"
      }
     },
     "80c9d75fa7c64a2b970fa63c24764bb4": {
      "model_module": "@jupyter-widgets/controls",
      "model_module_version": "1.5.0",
      "model_name": "HBoxModel",
      "state": {
       "children": [
        "IPY_MODEL_0f75e3f4cc294fe7abac48ea0f5dd42c",
        "IPY_MODEL_194c55039e984d77a0a5a049dcee95c4",
        "IPY_MODEL_85f11d9da49044dd981f16f2bfa5df99",
        "IPY_MODEL_18e0afafb343427db4ff7350582d71ef",
        "IPY_MODEL_857ee01a7fbe415b97c22b29c90bd4e1",
        "IPY_MODEL_7e37b5727eac45afa557ed0092fe5979"
       ],
       "layout": "IPY_MODEL_e18a041723d7476694737778f60fa9c4"
      }
     },
     "81add61b11514692956ab4e75c652ced": {
      "model_module": "@jupyter-widgets/base",
      "model_module_version": "1.2.0",
      "model_name": "LayoutModel",
      "state": {
       "width": "190px"
      }
     },
     "81ecee58e5d84825bb91fa72d5c9da75": {
      "model_module": "@jupyter-widgets/controls",
      "model_module_version": "1.5.0",
      "model_name": "HTMLModel",
      "state": {
       "layout": "IPY_MODEL_4f3eb332536c44808b6e3b3f6c942fc2",
       "style": "IPY_MODEL_aa038f3142294c54b05e20829608adf8",
       "value": "job has successfully run"
      }
     },
     "8278a21c1e484ba5a09f806665a2bf82": {
      "model_module": "@jupyter-widgets/controls",
      "model_module_version": "1.5.0",
      "model_name": "DescriptionStyleModel",
      "state": {
       "description_width": ""
      }
     },
     "827e826724eb41998b3944357947081c": {
      "model_module": "@jupyter-widgets/base",
      "model_module_version": "1.2.0",
      "model_name": "LayoutModel",
      "state": {
       "width": "190px"
      }
     },
     "82cf3eab006b46958bf0074fb2d127f2": {
      "model_module": "@jupyter-widgets/controls",
      "model_module_version": "1.5.0",
      "model_name": "HBoxModel",
      "state": {
       "children": [
        "IPY_MODEL_13117e8ca89f441c9daef95e5c9cb702",
        "IPY_MODEL_9c80233347074c5eb5204ff9d41b8125",
        "IPY_MODEL_acf5c64dc6124652b50f189d742e6471",
        "IPY_MODEL_e042b7f507da49e093a2de812ec8d67f",
        "IPY_MODEL_7c79390a794443a08049cdcea83effa2",
        "IPY_MODEL_9973ffbcb46142ed9aa6f84304d21f6f"
       ],
       "layout": "IPY_MODEL_7314b1f0e2ba48a6bd0a61da4be47009"
      }
     },
     "8306032f6c3045e3a41e06280205a11b": {
      "model_module": "@jupyter-widgets/controls",
      "model_module_version": "1.5.0",
      "model_name": "HTMLModel",
      "state": {
       "layout": "IPY_MODEL_f6e95ce0cc9a492391c4634cb09fe795",
       "style": "IPY_MODEL_340a8dd7347b4766bdadab48b435f014",
       "value": "ibmq_qasm_simulator"
      }
     },
     "845bbf1d52bb483ab566bcd30eacc4f6": {
      "model_module": "@jupyter-widgets/controls",
      "model_module_version": "1.5.0",
      "model_name": "HTMLModel",
      "state": {
       "layout": "IPY_MODEL_f1c6a998b0ba4aabb762c745005878df",
       "style": "IPY_MODEL_9901d105f6364eb9ba4e5ee84fccf222",
       "value": "<font style='color:#34BC6E'>DONE</font>"
      }
     },
     "84ace713285a4cd581aca9a2a586dc83": {
      "model_module": "@jupyter-widgets/controls",
      "model_module_version": "1.5.0",
      "model_name": "HTMLModel",
      "state": {
       "layout": "IPY_MODEL_32f21017261a4437b70b15926ffbbd6c",
       "style": "IPY_MODEL_2df2988add9e4426ae2f57c3e884e7ab",
       "value": "-"
      }
     },
     "857ee01a7fbe415b97c22b29c90bd4e1": {
      "model_module": "@jupyter-widgets/controls",
      "model_module_version": "1.5.0",
      "model_name": "HTMLModel",
      "state": {
       "layout": "IPY_MODEL_63792f2e4736492983521e04d458b0e1",
       "style": "IPY_MODEL_fb23cf8ec58a4c0dbe5be0e14ce3d335",
       "value": "-"
      }
     },
     "858b691d300142b9b968fdaaee0981c9": {
      "model_module": "@jupyter-widgets/controls",
      "model_module_version": "1.5.0",
      "model_name": "HBoxModel",
      "state": {
       "children": [
        "IPY_MODEL_e8da88c2d4804c77bc733bfb61bf7d7f",
        "IPY_MODEL_e9818a5e6bd24993827a79f68b729d06",
        "IPY_MODEL_5c199de09761433ea77ceb56b48a8af4",
        "IPY_MODEL_e5a6cb1fcc95457ca79e0c5918529cb4",
        "IPY_MODEL_607405a5b73349af8385046527613d85",
        "IPY_MODEL_baec58189ffd4e3ab34b1d143dd33297"
       ],
       "layout": "IPY_MODEL_eb2e666e2e1146c0b7c9ebbe54e27ab7"
      }
     },
     "85b3f9b2ffed42b4a00e8b9a184165c1": {
      "model_module": "@jupyter-widgets/base",
      "model_module_version": "1.2.0",
      "model_name": "LayoutModel",
      "state": {
       "margin": "0px 5px 0px 0px",
       "width": "32px"
      }
     },
     "85f11d9da49044dd981f16f2bfa5df99": {
      "model_module": "@jupyter-widgets/controls",
      "model_module_version": "1.5.0",
      "model_name": "HTMLModel",
      "state": {
       "layout": "IPY_MODEL_b47bac729341464fb42f511fb4018776",
       "style": "IPY_MODEL_bbc38ce6e3224cf58b630df1352a612f",
       "value": "ibmq_qasm_simulator"
      }
     },
     "872bfab207cf418aa71a1542db87c31f": {
      "model_module": "@jupyter-widgets/controls",
      "model_module_version": "1.5.0",
      "model_name": "ButtonStyleModel",
      "state": {
       "button_color": "white"
      }
     },
     "87d5718cd9ef4d60a4a4da5d78539600": {
      "model_module": "@jupyter-widgets/controls",
      "model_module_version": "1.5.0",
      "model_name": "ButtonModel",
      "state": {
       "icon": "close",
       "layout": "IPY_MODEL_07e83b3fab1048859c7429ba8e0a87c5",
       "style": "IPY_MODEL_cc1f9b25f48c4748b4835bed23eababe"
      }
     },
     "87f8e2c8d2884ba09d0bd6e2686d67cd": {
      "model_module": "@jupyter-widgets/controls",
      "model_module_version": "1.5.0",
      "model_name": "DescriptionStyleModel",
      "state": {
       "description_width": ""
      }
     },
     "88470774a5eb4d758eb46542f46b0d9e": {
      "model_module": "@jupyter-widgets/base",
      "model_module_version": "1.2.0",
      "model_name": "LayoutModel",
      "state": {
       "overflow_x": "scroll"
      }
     },
     "88cbdcc02aaa451ab985d87749b5fdc6": {
      "model_module": "@jupyter-widgets/controls",
      "model_module_version": "1.5.0",
      "model_name": "HBoxModel",
      "state": {
       "children": [
        "IPY_MODEL_6cb15e2659924645add372f04b04ce65",
        "IPY_MODEL_4260277944c940908b2fa2198c4e40f9",
        "IPY_MODEL_6f5ef2ad34e94b60895a3f2ad70a4451",
        "IPY_MODEL_845bbf1d52bb483ab566bcd30eacc4f6",
        "IPY_MODEL_c1d02173b8fb4252a5d93d886eb297a5",
        "IPY_MODEL_e2085aef972a40d6b31744bcb2c56a37"
       ],
       "layout": "IPY_MODEL_7f64d012ad7e4b98b90b37be8f73cde6"
      }
     },
     "88f290d5f5c14acf90e653a8e2e858b2": {
      "model_module": "@jupyter-widgets/base",
      "model_module_version": "1.2.0",
      "model_name": "LayoutModel",
      "state": {
       "margin": "0px 0px 10px 0px"
      }
     },
     "893dd60fca024f779570d7f0a8da64ab": {
      "model_module": "@jupyter-widgets/controls",
      "model_module_version": "1.5.0",
      "model_name": "HTMLModel",
      "state": {
       "layout": "IPY_MODEL_c1c5f6c2839b4368942ba73a029ba34b",
       "style": "IPY_MODEL_6c0329d6687e4439947c6e4cdc824daf",
       "value": "ibmq_qasm_simulator"
      }
     },
     "89c3ed9986cf43c0aac6e1f7eec4a2fc": {
      "model_module": "@jupyter-widgets/controls",
      "model_module_version": "1.5.0",
      "model_name": "DescriptionStyleModel",
      "state": {
       "description_width": ""
      }
     },
     "89e67ebf108e4c5cb95faf7ca52aac34": {
      "model_module": "@jupyter-widgets/controls",
      "model_module_version": "1.5.0",
      "model_name": "ButtonModel",
      "state": {
       "icon": "close",
       "layout": "IPY_MODEL_59baf28c84d14f40bb98bf1504a80871",
       "style": "IPY_MODEL_760ff2180e2d40cc95ad4b2c97399137"
      }
     },
     "89f3c4fc4d854e8dae3cefdc91bd945b": {
      "model_module": "@jupyter-widgets/controls",
      "model_module_version": "1.5.0",
      "model_name": "DescriptionStyleModel",
      "state": {
       "description_width": ""
      }
     },
     "8ae8f2cb69904bdb88d4dc1329d33694": {
      "model_module": "@jupyter-widgets/base",
      "model_module_version": "1.2.0",
      "model_name": "LayoutModel",
      "state": {
       "width": "95px"
      }
     },
     "8b253ff95c074efd8f6a55c038070582": {
      "model_module": "@jupyter-widgets/base",
      "model_module_version": "1.2.0",
      "model_name": "LayoutModel",
      "state": {
       "width": "190px"
      }
     },
     "8b9b53f46ad6461ea1ce42c15bbd8200": {
      "model_module": "@jupyter-widgets/controls",
      "model_module_version": "1.5.0",
      "model_name": "DescriptionStyleModel",
      "state": {
       "description_width": ""
      }
     },
     "8b9c0f92fd004984b18dda3c38b26d78": {
      "model_module": "@jupyter-widgets/controls",
      "model_module_version": "1.5.0",
      "model_name": "DescriptionStyleModel",
      "state": {
       "description_width": ""
      }
     },
     "8be6aa65272c4a6ab050fa5c5be314b3": {
      "model_module": "@jupyter-widgets/controls",
      "model_module_version": "1.5.0",
      "model_name": "DescriptionStyleModel",
      "state": {
       "description_width": ""
      }
     },
     "8c04dc5ebd95441b8f8e690e13c802da": {
      "model_module": "@jupyter-widgets/base",
      "model_module_version": "1.2.0",
      "model_name": "LayoutModel",
      "state": {
       "width": "190px"
      }
     },
     "8c0fe035958944adad8524812a37c053": {
      "model_module": "@jupyter-widgets/controls",
      "model_module_version": "1.5.0",
      "model_name": "HTMLModel",
      "state": {
       "layout": "IPY_MODEL_a941d423133143bd9d5d97e3e8388fdc",
       "style": "IPY_MODEL_eb24468f248d4501ab211686a6f6ab64",
       "value": "job has successfully run"
      }
     },
     "8c4dbd603f20416dbc106f0041694e71": {
      "model_module": "@jupyter-widgets/base",
      "model_module_version": "1.2.0",
      "model_name": "LayoutModel",
      "state": {
       "max_width": "700px",
       "min_width": "700px"
      }
     },
     "8ca664eaff5245dc89206ec874c777f9": {
      "model_module": "@jupyter-widgets/controls",
      "model_module_version": "1.5.0",
      "model_name": "HTMLModel",
      "state": {
       "layout": "IPY_MODEL_1ac0b1111ef64d2284580c6504246603",
       "style": "IPY_MODEL_ee1473175c4949669f72d3c92f9461b7",
       "value": "ibmq_qasm_simulator"
      }
     },
     "8ce93eab56054d8fb52c654862cff7b3": {
      "model_module": "@jupyter-widgets/base",
      "model_module_version": "1.2.0",
      "model_name": "LayoutModel",
      "state": {}
     },
     "8d3fe3b0d79742a8bc7d029d823d4883": {
      "model_module": "@jupyter-widgets/controls",
      "model_module_version": "1.5.0",
      "model_name": "DescriptionStyleModel",
      "state": {
       "description_width": ""
      }
     },
     "8d9a2357f1e24e609230112c4f9e6aff": {
      "model_module": "@jupyter-widgets/base",
      "model_module_version": "1.2.0",
      "model_name": "LayoutModel",
      "state": {
       "max_width": "700px",
       "min_width": "700px"
      }
     },
     "8dfb6d6462a64869aa14830525870db5": {
      "model_module": "@jupyter-widgets/controls",
      "model_module_version": "1.5.0",
      "model_name": "DescriptionStyleModel",
      "state": {
       "description_width": ""
      }
     },
     "8dfef28c9e9b45f08a8a22f69618f096": {
      "model_module": "@jupyter-widgets/controls",
      "model_module_version": "1.5.0",
      "model_name": "DescriptionStyleModel",
      "state": {
       "description_width": ""
      }
     },
     "8e21f20148ee4d98b425b329c034b676": {
      "model_module": "@jupyter-widgets/controls",
      "model_module_version": "1.5.0",
      "model_name": "DescriptionStyleModel",
      "state": {
       "description_width": ""
      }
     },
     "8ee5605192724552bb0a85868e155646": {
      "model_module": "@jupyter-widgets/base",
      "model_module_version": "1.2.0",
      "model_name": "LayoutModel",
      "state": {
       "overflow_x": "scroll"
      }
     },
     "8fa8c9d544fe48b88f37c16d920bdd8e": {
      "model_module": "@jupyter-widgets/base",
      "model_module_version": "1.2.0",
      "model_name": "LayoutModel",
      "state": {
       "width": "95px"
      }
     },
     "8ff40101ee144775904789628d04ffee": {
      "model_module": "@jupyter-widgets/base",
      "model_module_version": "1.2.0",
      "model_name": "LayoutModel",
      "state": {
       "width": "145px"
      }
     },
     "90e3fe0508964cc48d97a658d3025eac": {
      "model_module": "@jupyter-widgets/base",
      "model_module_version": "1.2.0",
      "model_name": "LayoutModel",
      "state": {
       "margin": "0px 5px 0px 0px",
       "width": "32px"
      }
     },
     "910b4c68acf7424cacde39eeae226157": {
      "model_module": "@jupyter-widgets/controls",
      "model_module_version": "1.5.0",
      "model_name": "HTMLModel",
      "state": {
       "layout": "IPY_MODEL_a19a5a931b6746d8ac6a37bda3b6c2b1",
       "style": "IPY_MODEL_28f03192648d4dc28f82107490399769",
       "value": "<font style='color:#34BC6E'>DONE</font>"
      }
     },
     "91cc098bc7f944df9fe1df9a349152a3": {
      "model_module": "@jupyter-widgets/base",
      "model_module_version": "1.2.0",
      "model_name": "LayoutModel",
      "state": {
       "width": "190px"
      }
     },
     "92b48ae380844e389c25b57f4cbcbdee": {
      "model_module": "@jupyter-widgets/base",
      "model_module_version": "1.2.0",
      "model_name": "LayoutModel",
      "state": {
       "margin": "0px 5px 0px 0px",
       "width": "32px"
      }
     },
     "935bbefd352d4ece84bbd0473ae8c075": {
      "model_module": "@jupyter-widgets/controls",
      "model_module_version": "1.5.0",
      "model_name": "HTMLModel",
      "state": {
       "layout": "IPY_MODEL_07172fe44976450a98e1c24623832279",
       "style": "IPY_MODEL_d4ebef0f18ba42fb820824af210ce7b0",
       "value": "job has successfully run"
      }
     },
     "94321147959c42b1a4453e68354a6e6a": {
      "model_module": "@jupyter-widgets/controls",
      "model_module_version": "1.5.0",
      "model_name": "DescriptionStyleModel",
      "state": {
       "description_width": ""
      }
     },
     "94c8353c3a1146e890b7672117026ef2": {
      "model_module": "@jupyter-widgets/controls",
      "model_module_version": "1.5.0",
      "model_name": "HTMLModel",
      "state": {
       "layout": "IPY_MODEL_f01f824d65e44669bf125fb46672522f",
       "style": "IPY_MODEL_5d621cd83e374f00a151e9d5f59b56a4",
       "value": "-"
      }
     },
     "9538e3b9f14449fe87208af4420db0ad": {
      "model_module": "@jupyter-widgets/controls",
      "model_module_version": "1.5.0",
      "model_name": "HTMLModel",
      "state": {
       "layout": "IPY_MODEL_8ce93eab56054d8fb52c654862cff7b3",
       "style": "IPY_MODEL_b132d065f7c942a18cc3f71560ae38e7",
       "value": "<h5>Message</h5>"
      }
     },
     "9583d55ec1bf4d5ca87bd1d43dc22332": {
      "model_module": "@jupyter-widgets/controls",
      "model_module_version": "1.5.0",
      "model_name": "HTMLModel",
      "state": {
       "layout": "IPY_MODEL_43c562610b704883aa649c61ae07b444",
       "style": "IPY_MODEL_0f13d1fb8e104cfd992fa9b7eb786b8d",
       "value": "ibmq_qasm_simulator"
      }
     },
     "971c837f23e14da88a286cf606125848": {
      "model_module": "@jupyter-widgets/base",
      "model_module_version": "1.2.0",
      "model_name": "LayoutModel",
      "state": {
       "width": "145px"
      }
     },
     "9734cfa794ba45f2842360e25fda0197": {
      "model_module": "@jupyter-widgets/base",
      "model_module_version": "1.2.0",
      "model_name": "LayoutModel",
      "state": {
       "overflow_x": "scroll"
      }
     },
     "9761950891c345d39e2c2bc0a0293129": {
      "model_module": "@jupyter-widgets/controls",
      "model_module_version": "1.5.0",
      "model_name": "HBoxModel",
      "state": {
       "children": [
        "IPY_MODEL_5e501f5534dc492ab9e9b4f6874e1192",
        "IPY_MODEL_5816cdd592614fd4a9bbe8c9bd56ffc2",
        "IPY_MODEL_1053b4ab04c6420ea342e74e9f8d20fb",
        "IPY_MODEL_ebdd9fec2c1648468676b628f40775c2",
        "IPY_MODEL_94c8353c3a1146e890b7672117026ef2",
        "IPY_MODEL_73990eefdd784aaaab71b9d457febf72"
       ],
       "layout": "IPY_MODEL_e978a8a204de427d8a432662d3a222d0"
      }
     },
     "985498def88a48f19556b76d4aba9034": {
      "model_module": "@jupyter-widgets/base",
      "model_module_version": "1.2.0",
      "model_name": "LayoutModel",
      "state": {
       "width": "70px"
      }
     },
     "9901d105f6364eb9ba4e5ee84fccf222": {
      "model_module": "@jupyter-widgets/controls",
      "model_module_version": "1.5.0",
      "model_name": "DescriptionStyleModel",
      "state": {
       "description_width": ""
      }
     },
     "9973ffbcb46142ed9aa6f84304d21f6f": {
      "model_module": "@jupyter-widgets/controls",
      "model_module_version": "1.5.0",
      "model_name": "HTMLModel",
      "state": {
       "layout": "IPY_MODEL_a3defef8040343cab65ff8a261e08be7",
       "style": "IPY_MODEL_c35dcbe4a9ca4d7bbb30ee3ae6502342",
       "value": "job has successfully run"
      }
     },
     "9ab2eb4673fe413ea53c7402ddb9da29": {
      "model_module": "@jupyter-widgets/controls",
      "model_module_version": "1.5.0",
      "model_name": "DescriptionStyleModel",
      "state": {
       "description_width": ""
      }
     },
     "9ac2833fa36d480b89677e37d2c92440": {
      "model_module": "@jupyter-widgets/controls",
      "model_module_version": "1.5.0",
      "model_name": "ButtonModel",
      "state": {
       "icon": "close",
       "layout": "IPY_MODEL_90e3fe0508964cc48d97a658d3025eac",
       "style": "IPY_MODEL_872bfab207cf418aa71a1542db87c31f"
      }
     },
     "9c237377164f45e88ddfe465e61e7f5c": {
      "model_module": "@jupyter-widgets/base",
      "model_module_version": "1.2.0",
      "model_name": "LayoutModel",
      "state": {
       "overflow_x": "scroll"
      }
     },
     "9c402ce4db514e189952287212eb6a8d": {
      "model_module": "@jupyter-widgets/controls",
      "model_module_version": "1.5.0",
      "model_name": "HBoxModel",
      "state": {
       "children": [
        "IPY_MODEL_151c15a6d2824bbf95f96a0e42197b91",
        "IPY_MODEL_c3051caab5014224a92812e9c3384b9b",
        "IPY_MODEL_083d4c7ec14346448a1fe1d9eb3e0ef6",
        "IPY_MODEL_bc80ff394e3d4b48a618530af54ca5ad",
        "IPY_MODEL_74d6705784064871aa6af6f7ae32cf52",
        "IPY_MODEL_ff39e5661eb645c1811f2a3b20585d14"
       ],
       "layout": "IPY_MODEL_23b482eebd824bf1ac457bda40d76a3b"
      }
     },
     "9c80233347074c5eb5204ff9d41b8125": {
      "model_module": "@jupyter-widgets/controls",
      "model_module_version": "1.5.0",
      "model_name": "HTMLModel",
      "state": {
       "layout": "IPY_MODEL_d813cc292f5846d3845cc88a0007f4c2",
       "style": "IPY_MODEL_89f3c4fc4d854e8dae3cefdc91bd945b",
       "value": "63d6125a958cc04e6e9d0b3e"
      }
     },
     "9d1bb7608f7749c698b2665f5fe5b5f8": {
      "model_module": "@jupyter-widgets/base",
      "model_module_version": "1.2.0",
      "model_name": "LayoutModel",
      "state": {
       "max_width": "700px",
       "min_width": "700px"
      }
     },
     "9d83f6a47dcd44bb8aed791c33ad904d": {
      "model_module": "@jupyter-widgets/controls",
      "model_module_version": "1.5.0",
      "model_name": "HTMLModel",
      "state": {
       "layout": "IPY_MODEL_0c9f4cdd7cc247aba40bac729eaf0a45",
       "style": "IPY_MODEL_f76b19f84a16429e8c14d02c9a8573cd",
       "value": "job has successfully run"
      }
     },
     "9e4ccba45b804140be79ef1e15307cd4": {
      "model_module": "@jupyter-widgets/base",
      "model_module_version": "1.2.0",
      "model_name": "LayoutModel",
      "state": {
       "width": "95px"
      }
     },
     "9ff8bfc413c545389be38c01f57b1a6e": {
      "model_module": "@jupyter-widgets/controls",
      "model_module_version": "1.5.0",
      "model_name": "HTMLModel",
      "state": {
       "layout": "IPY_MODEL_49532748904041f188310abe82dcadce",
       "style": "IPY_MODEL_fe4682742ab74391b77135e32a767b66",
       "value": "63d612e433d85043120588a3"
      }
     },
     "a028d870b91a479f92e3dd5695d6f233": {
      "model_module": "@jupyter-widgets/base",
      "model_module_version": "1.2.0",
      "model_name": "LayoutModel",
      "state": {
       "width": "70px"
      }
     },
     "a0edcd30de71499dbfb86017d6901eeb": {
      "model_module": "@jupyter-widgets/controls",
      "model_module_version": "1.5.0",
      "model_name": "HTMLModel",
      "state": {
       "layout": "IPY_MODEL_d7b83f6fc70545a4b28eb145c802f170",
       "style": "IPY_MODEL_23b60d4b2da14d89a8b148d4e4e6b6c0",
       "value": "-"
      }
     },
     "a19a5a931b6746d8ac6a37bda3b6c2b1": {
      "model_module": "@jupyter-widgets/base",
      "model_module_version": "1.2.0",
      "model_name": "LayoutModel",
      "state": {
       "width": "95px"
      }
     },
     "a3defef8040343cab65ff8a261e08be7": {
      "model_module": "@jupyter-widgets/base",
      "model_module_version": "1.2.0",
      "model_name": "LayoutModel",
      "state": {
       "overflow_x": "scroll"
      }
     },
     "a45cfa06cc974fcab87e30dbb26dc83b": {
      "model_module": "@jupyter-widgets/controls",
      "model_module_version": "1.5.0",
      "model_name": "HTMLModel",
      "state": {
       "layout": "IPY_MODEL_fc4b53f798ef4fdf8732f1ba11210d46",
       "style": "IPY_MODEL_b6fe3badfe804e989052a34c56869e4d",
       "value": "job has successfully run"
      }
     },
     "a4d8694cd0df47a9bc8c6fe09154e3c6": {
      "model_module": "@jupyter-widgets/controls",
      "model_module_version": "1.5.0",
      "model_name": "DescriptionStyleModel",
      "state": {
       "description_width": ""
      }
     },
     "a57af2483c1b4347af93de92574a0572": {
      "model_module": "@jupyter-widgets/base",
      "model_module_version": "1.2.0",
      "model_name": "LayoutModel",
      "state": {
       "width": "95px"
      }
     },
     "a5bb230c1e0441508833089c0a2c1cdc": {
      "model_module": "@jupyter-widgets/controls",
      "model_module_version": "1.5.0",
      "model_name": "DescriptionStyleModel",
      "state": {
       "description_width": ""
      }
     },
     "a7346299d3314837bd0a15d82d453fc2": {
      "model_module": "@jupyter-widgets/base",
      "model_module_version": "1.2.0",
      "model_name": "LayoutModel",
      "state": {
       "margin": "0px 5px 0px 0px",
       "width": "32px"
      }
     },
     "a8a2e49999304fb68c53faf68a053b14": {
      "model_module": "@jupyter-widgets/base",
      "model_module_version": "1.2.0",
      "model_name": "LayoutModel",
      "state": {
       "max_width": "700px",
       "min_width": "700px"
      }
     },
     "a8ac190fc3f547ae98f84826dfa6dadd": {
      "model_module": "@jupyter-widgets/controls",
      "model_module_version": "1.5.0",
      "model_name": "DescriptionStyleModel",
      "state": {
       "description_width": ""
      }
     },
     "a941d423133143bd9d5d97e3e8388fdc": {
      "model_module": "@jupyter-widgets/base",
      "model_module_version": "1.2.0",
      "model_name": "LayoutModel",
      "state": {
       "overflow_x": "scroll"
      }
     },
     "aa038f3142294c54b05e20829608adf8": {
      "model_module": "@jupyter-widgets/controls",
      "model_module_version": "1.5.0",
      "model_name": "DescriptionStyleModel",
      "state": {
       "description_width": ""
      }
     },
     "aab5ba1479b74b809b612e8029670b1b": {
      "model_module": "@jupyter-widgets/base",
      "model_module_version": "1.2.0",
      "model_name": "LayoutModel",
      "state": {
       "width": "145px"
      }
     },
     "abc9048908f744d39b297dde9f19e945": {
      "model_module": "@jupyter-widgets/controls",
      "model_module_version": "1.5.0",
      "model_name": "HTMLModel",
      "state": {
       "layout": "IPY_MODEL_bd3efbe33f8c4982bdaf845c474b73ec",
       "style": "IPY_MODEL_2fa81da86ece49239cdb77ea51a1a9a6",
       "value": "63d612d733d850bfcc0588a2"
      }
     },
     "ac1efa74cac14854bd0f6bae0f892871": {
      "model_module": "@jupyter-widgets/base",
      "model_module_version": "1.2.0",
      "model_name": "LayoutModel",
      "state": {
       "width": "95px"
      }
     },
     "acf5c64dc6124652b50f189d742e6471": {
      "model_module": "@jupyter-widgets/controls",
      "model_module_version": "1.5.0",
      "model_name": "HTMLModel",
      "state": {
       "layout": "IPY_MODEL_788493053287408cae8f666be89eeeb7",
       "style": "IPY_MODEL_ea62a255ce1d43ab9d580de16aec6f05",
       "value": "ibmq_qasm_simulator"
      }
     },
     "ad459d6f82af45ca89afa5e89614d361": {
      "model_module": "@jupyter-widgets/base",
      "model_module_version": "1.2.0",
      "model_name": "LayoutModel",
      "state": {
       "overflow_x": "scroll"
      }
     },
     "ae329f314c2f4a4f93c73ec41d816ea9": {
      "model_module": "@jupyter-widgets/controls",
      "model_module_version": "1.5.0",
      "model_name": "DescriptionStyleModel",
      "state": {
       "description_width": ""
      }
     },
     "ae46b9dbe74e470c83290f3f3de86cbd": {
      "model_module": "@jupyter-widgets/controls",
      "model_module_version": "1.5.0",
      "model_name": "HTMLModel",
      "state": {
       "layout": "IPY_MODEL_db798873a09644a0bb9d1e745c19c06f",
       "style": "IPY_MODEL_6feda5aa5b874cb99e5590b72f5c27ad",
       "value": "-"
      }
     },
     "af099ef742c0434289ddcd80aff4c5d8": {
      "model_module": "@jupyter-widgets/controls",
      "model_module_version": "1.5.0",
      "model_name": "HTMLModel",
      "state": {
       "layout": "IPY_MODEL_8ae8f2cb69904bdb88d4dc1329d33694",
       "style": "IPY_MODEL_50814bc95e2945e98166ad8d5f781503",
       "value": "<font style='color:#34BC6E'>DONE</font>"
      }
     },
     "b006fd60ac374ec582b955741eae70d6": {
      "model_module": "@jupyter-widgets/controls",
      "model_module_version": "1.5.0",
      "model_name": "DescriptionStyleModel",
      "state": {
       "description_width": ""
      }
     },
     "b132d065f7c942a18cc3f71560ae38e7": {
      "model_module": "@jupyter-widgets/controls",
      "model_module_version": "1.5.0",
      "model_name": "DescriptionStyleModel",
      "state": {
       "description_width": ""
      }
     },
     "b1667ad4c9574c05ba4902f96af711f2": {
      "model_module": "@jupyter-widgets/controls",
      "model_module_version": "1.5.0",
      "model_name": "ButtonModel",
      "state": {
       "icon": "close",
       "layout": "IPY_MODEL_7a73e540d02c4cebb4dc026d4cbaa19f",
       "style": "IPY_MODEL_5c86b10584704860ab30953e45da72bb"
      }
     },
     "b323da2bd5b044999ecc0798555dd584": {
      "model_module": "@jupyter-widgets/controls",
      "model_module_version": "1.5.0",
      "model_name": "HTMLModel",
      "state": {
       "layout": "IPY_MODEL_4878baa4a67d48bfa45748b453620701",
       "style": "IPY_MODEL_154e676eed824c22959f15d28088cb31",
       "value": "63d6128b75f7ef380d6cdb4f"
      }
     },
     "b44fa72b851c445aa4f14570c9be076a": {
      "model_module": "@jupyter-widgets/controls",
      "model_module_version": "1.5.0",
      "model_name": "HTMLModel",
      "state": {
       "layout": "IPY_MODEL_8ee5605192724552bb0a85868e155646",
       "style": "IPY_MODEL_e3023d0f5c6c4bd59836fbecb5c8bead",
       "value": "job has successfully run"
      }
     },
     "b47bac729341464fb42f511fb4018776": {
      "model_module": "@jupyter-widgets/base",
      "model_module_version": "1.2.0",
      "model_name": "LayoutModel",
      "state": {
       "width": "145px"
      }
     },
     "b5e468e67ede4f14910cb8ef3d1bacab": {
      "model_module": "@jupyter-widgets/controls",
      "model_module_version": "1.5.0",
      "model_name": "DescriptionStyleModel",
      "state": {
       "description_width": ""
      }
     },
     "b6fe3badfe804e989052a34c56869e4d": {
      "model_module": "@jupyter-widgets/controls",
      "model_module_version": "1.5.0",
      "model_name": "DescriptionStyleModel",
      "state": {
       "description_width": ""
      }
     },
     "b71afec6a2674afbabe950284c23f84a": {
      "model_module": "@jupyter-widgets/controls",
      "model_module_version": "1.5.0",
      "model_name": "HTMLModel",
      "state": {
       "layout": "IPY_MODEL_e1c0aa59e8cb47c4a0f6fb195f2b99b3",
       "style": "IPY_MODEL_3704e2dd8bd34c7ca64ce914c29b245f",
       "value": "ibmq_qasm_simulator"
      }
     },
     "b9306ac97d9e4fb0972467eb1aa965ca": {
      "model_module": "@jupyter-widgets/controls",
      "model_module_version": "1.5.0",
      "model_name": "ButtonModel",
      "state": {
       "icon": "close",
       "layout": "IPY_MODEL_85b3f9b2ffed42b4a00e8b9a184165c1",
       "style": "IPY_MODEL_6280c594ac524c7dae1339b64ce25537"
      }
     },
     "b9c739db4dbc4da1b42794ec263d1782": {
      "model_module": "@jupyter-widgets/base",
      "model_module_version": "1.2.0",
      "model_name": "LayoutModel",
      "state": {
       "width": "95px"
      }
     },
     "baec58189ffd4e3ab34b1d143dd33297": {
      "model_module": "@jupyter-widgets/controls",
      "model_module_version": "1.5.0",
      "model_name": "HTMLModel",
      "state": {
       "layout": "IPY_MODEL_ad459d6f82af45ca89afa5e89614d361",
       "style": "IPY_MODEL_72b87f59cc574fd7b659e18782a67887",
       "value": "job has successfully run"
      }
     },
     "bbb3bdce2f1948cfb3a0a983815163a3": {
      "model_module": "@jupyter-widgets/base",
      "model_module_version": "1.2.0",
      "model_name": "LayoutModel",
      "state": {
       "max_width": "700px",
       "min_width": "700px"
      }
     },
     "bbc00ce8ba09491ab827bd67a62581c0": {
      "model_module": "@jupyter-widgets/controls",
      "model_module_version": "1.5.0",
      "model_name": "HTMLModel",
      "state": {
       "layout": "IPY_MODEL_7adf8571127b4b03a50d96ded17076e3",
       "style": "IPY_MODEL_8dfb6d6462a64869aa14830525870db5",
       "value": "-"
      }
     },
     "bbc38ce6e3224cf58b630df1352a612f": {
      "model_module": "@jupyter-widgets/controls",
      "model_module_version": "1.5.0",
      "model_name": "DescriptionStyleModel",
      "state": {
       "description_width": ""
      }
     },
     "bc80ff394e3d4b48a618530af54ca5ad": {
      "model_module": "@jupyter-widgets/controls",
      "model_module_version": "1.5.0",
      "model_name": "HTMLModel",
      "state": {
       "layout": "IPY_MODEL_ac1efa74cac14854bd0f6bae0f892871",
       "style": "IPY_MODEL_7f12b7183bc744cbb4310f6d1ce19f9d",
       "value": "<font style='color:#34BC6E'>DONE</font>"
      }
     },
     "bd3efbe33f8c4982bdaf845c474b73ec": {
      "model_module": "@jupyter-widgets/base",
      "model_module_version": "1.2.0",
      "model_name": "LayoutModel",
      "state": {
       "width": "190px"
      }
     },
     "bd5b034f01494c2aa25dcb93e0bc1453": {
      "model_module": "@jupyter-widgets/base",
      "model_module_version": "1.2.0",
      "model_name": "LayoutModel",
      "state": {
       "width": "145px"
      }
     },
     "bd662be1050d495590056bea76ffebde": {
      "model_module": "@jupyter-widgets/controls",
      "model_module_version": "1.5.0",
      "model_name": "DescriptionStyleModel",
      "state": {
       "description_width": ""
      }
     },
     "bd85a6298b404c358e1d95444e6923bf": {
      "model_module": "@jupyter-widgets/base",
      "model_module_version": "1.2.0",
      "model_name": "LayoutModel",
      "state": {
       "margin": "0px 5px 0px 0px",
       "width": "32px"
      }
     },
     "bec8a71173bd4b8ca17a6698ef87d14e": {
      "model_module": "@jupyter-widgets/controls",
      "model_module_version": "1.5.0",
      "model_name": "HTMLModel",
      "state": {
       "layout": "IPY_MODEL_c8607a94afd745d089254bf75852ceca",
       "style": "IPY_MODEL_1919c1f1ae7f432eaf4e27dbfebeda68",
       "value": "63d612751820a9a9446fc8e1"
      }
     },
     "bf4f69b653c04f0196cd1cfbfaec3de1": {
      "model_module": "@jupyter-widgets/controls",
      "model_module_version": "1.5.0",
      "model_name": "DescriptionStyleModel",
      "state": {
       "description_width": ""
      }
     },
     "bf635e760d8946159448d0ca533d08f1": {
      "model_module": "@jupyter-widgets/controls",
      "model_module_version": "1.5.0",
      "model_name": "HTMLModel",
      "state": {
       "layout": "IPY_MODEL_827e826724eb41998b3944357947081c",
       "style": "IPY_MODEL_eeacccd5a1874f4abe3a840b84573763",
       "value": "63d611dced7bc6dc8e896fb8"
      }
     },
     "bf7022a8a6e24e128515210f6ea1f1f3": {
      "model_module": "@jupyter-widgets/controls",
      "model_module_version": "1.5.0",
      "model_name": "DescriptionStyleModel",
      "state": {
       "description_width": ""
      }
     },
     "bf86dd160d4f407a9e32f1b2e3875ed8": {
      "model_module": "@jupyter-widgets/controls",
      "model_module_version": "1.5.0",
      "model_name": "DescriptionStyleModel",
      "state": {
       "description_width": ""
      }
     },
     "bfbb8159f2804f7799a8b7f0349a94a2": {
      "model_module": "@jupyter-widgets/base",
      "model_module_version": "1.2.0",
      "model_name": "LayoutModel",
      "state": {
       "overflow_x": "scroll"
      }
     },
     "c098d6bbcad34b1d869838aea3918136": {
      "model_module": "@jupyter-widgets/base",
      "model_module_version": "1.2.0",
      "model_name": "LayoutModel",
      "state": {
       "width": "70px"
      }
     },
     "c0ad65931286445f8cffb63edefe6fca": {
      "model_module": "@jupyter-widgets/controls",
      "model_module_version": "1.5.0",
      "model_name": "ButtonStyleModel",
      "state": {
       "button_color": "white"
      }
     },
     "c0b70d24246e4aecb6850fc9bf57ab01": {
      "model_module": "@jupyter-widgets/controls",
      "model_module_version": "1.5.0",
      "model_name": "HTMLModel",
      "state": {
       "layout": "IPY_MODEL_497204e20c874f77ad9c7984ca7f1625",
       "style": "IPY_MODEL_e5764b99385d42dabd3d32738034ea47",
       "value": "ibmq_qasm_simulator"
      }
     },
     "c0c1ac811f8640aca1fcac029ef7ff78": {
      "model_module": "@jupyter-widgets/controls",
      "model_module_version": "1.5.0",
      "model_name": "HBoxModel",
      "state": {
       "children": [
        "IPY_MODEL_5922df489d98430cbc36eaa4fd8b2e09",
        "IPY_MODEL_5cef54a6db98450d984e18f75fb53f77",
        "IPY_MODEL_71670d373c1c487d8e75ff3a52cfe3bf",
        "IPY_MODEL_af099ef742c0434289ddcd80aff4c5d8",
        "IPY_MODEL_c95546ed67b8444eaf86129e3c18bfee",
        "IPY_MODEL_8c0fe035958944adad8524812a37c053"
       ],
       "layout": "IPY_MODEL_c27842dc217e44c19944bcb79e0e31ab"
      }
     },
     "c0fa906d640e4c14a38abf51d39d1b89": {
      "model_module": "@jupyter-widgets/controls",
      "model_module_version": "1.5.0",
      "model_name": "DescriptionStyleModel",
      "state": {
       "description_width": ""
      }
     },
     "c1787733ca6c418b90369de9f9698f7c": {
      "model_module": "@jupyter-widgets/base",
      "model_module_version": "1.2.0",
      "model_name": "LayoutModel",
      "state": {
       "width": "95px"
      }
     },
     "c17f4e6b5c2b4dd38ea84c4cf44d6131": {
      "model_module": "@jupyter-widgets/controls",
      "model_module_version": "1.5.0",
      "model_name": "HTMLModel",
      "state": {
       "layout": "IPY_MODEL_971c837f23e14da88a286cf606125848",
       "style": "IPY_MODEL_1e07bf94d1104094bfb031e480b6ec0d",
       "value": "ibmq_qasm_simulator"
      }
     },
     "c17fe489c42148dbb2d05adc71af531f": {
      "model_module": "@jupyter-widgets/controls",
      "model_module_version": "1.5.0",
      "model_name": "DescriptionStyleModel",
      "state": {
       "description_width": ""
      }
     },
     "c1c5f6c2839b4368942ba73a029ba34b": {
      "model_module": "@jupyter-widgets/base",
      "model_module_version": "1.2.0",
      "model_name": "LayoutModel",
      "state": {
       "width": "145px"
      }
     },
     "c1d02173b8fb4252a5d93d886eb297a5": {
      "model_module": "@jupyter-widgets/controls",
      "model_module_version": "1.5.0",
      "model_name": "HTMLModel",
      "state": {
       "layout": "IPY_MODEL_c098d6bbcad34b1d869838aea3918136",
       "style": "IPY_MODEL_87f8e2c8d2884ba09d0bd6e2686d67cd",
       "value": "-"
      }
     },
     "c27842dc217e44c19944bcb79e0e31ab": {
      "model_module": "@jupyter-widgets/base",
      "model_module_version": "1.2.0",
      "model_name": "LayoutModel",
      "state": {
       "max_width": "700px",
       "min_width": "700px"
      }
     },
     "c3051caab5014224a92812e9c3384b9b": {
      "model_module": "@jupyter-widgets/controls",
      "model_module_version": "1.5.0",
      "model_name": "HTMLModel",
      "state": {
       "layout": "IPY_MODEL_91cc098bc7f944df9fe1df9a349152a3",
       "style": "IPY_MODEL_357c09a70b364dd1bd0e9c0a6b4e7eb7",
       "value": "63d6126f33d85058fe0588a0"
      }
     },
     "c35dcbe4a9ca4d7bbb30ee3ae6502342": {
      "model_module": "@jupyter-widgets/controls",
      "model_module_version": "1.5.0",
      "model_name": "DescriptionStyleModel",
      "state": {
       "description_width": ""
      }
     },
     "c51eb8df76124d4b9f58ae9fc18b557b": {
      "model_module": "@jupyter-widgets/controls",
      "model_module_version": "1.5.0",
      "model_name": "HTMLModel",
      "state": {
       "layout": "IPY_MODEL_8b253ff95c074efd8f6a55c038070582",
       "style": "IPY_MODEL_b5e468e67ede4f14910cb8ef3d1bacab",
       "value": "63d6129148082c646fcf65a6"
      }
     },
     "c5ec179a3fa54fa5bf39be2f01791c21": {
      "model_module": "@jupyter-widgets/controls",
      "model_module_version": "1.5.0",
      "model_name": "DescriptionStyleModel",
      "state": {
       "description_width": ""
      }
     },
     "c6dd90a4ebd445c2aa6917bd61b14daa": {
      "model_module": "@jupyter-widgets/controls",
      "model_module_version": "1.5.0",
      "model_name": "DescriptionStyleModel",
      "state": {
       "description_width": ""
      }
     },
     "c74986ad20b24f7c849aa15203d06cd6": {
      "model_module": "@jupyter-widgets/base",
      "model_module_version": "1.2.0",
      "model_name": "LayoutModel",
      "state": {
       "width": "95px"
      }
     },
     "c7adbabcf2ef4d5aa0b940e836819f49": {
      "model_module": "@jupyter-widgets/base",
      "model_module_version": "1.2.0",
      "model_name": "LayoutModel",
      "state": {
       "width": "190px"
      }
     },
     "c8607a94afd745d089254bf75852ceca": {
      "model_module": "@jupyter-widgets/base",
      "model_module_version": "1.2.0",
      "model_name": "LayoutModel",
      "state": {
       "width": "190px"
      }
     },
     "c95546ed67b8444eaf86129e3c18bfee": {
      "model_module": "@jupyter-widgets/controls",
      "model_module_version": "1.5.0",
      "model_name": "HTMLModel",
      "state": {
       "layout": "IPY_MODEL_45fdd9436af64b0a8668d6227ce92c17",
       "style": "IPY_MODEL_94321147959c42b1a4453e68354a6e6a",
       "value": "-"
      }
     },
     "ca8c935dc98e4cba9118e28f9075dd70": {
      "model_module": "@jupyter-widgets/controls",
      "model_module_version": "1.5.0",
      "model_name": "DescriptionStyleModel",
      "state": {
       "description_width": ""
      }
     },
     "cb094a73882345eb8d21df5eb3da7938": {
      "model_module": "@jupyter-widgets/base",
      "model_module_version": "1.2.0",
      "model_name": "LayoutModel",
      "state": {
       "width": "190px"
      }
     },
     "cbbfe852163847e7ac92160c614979dc": {
      "model_module": "@jupyter-widgets/controls",
      "model_module_version": "1.5.0",
      "model_name": "HTMLModel",
      "state": {
       "layout": "IPY_MODEL_ecd944e756e24ec99c39d1788610e75a",
       "style": "IPY_MODEL_b006fd60ac374ec582b955741eae70d6",
       "value": "-"
      }
     },
     "cc0cd6ba264d4556aa9afb8ad1bac7d5": {
      "model_module": "@jupyter-widgets/controls",
      "model_module_version": "1.5.0",
      "model_name": "DescriptionStyleModel",
      "state": {
       "description_width": ""
      }
     },
     "cc1f9b25f48c4748b4835bed23eababe": {
      "model_module": "@jupyter-widgets/controls",
      "model_module_version": "1.5.0",
      "model_name": "ButtonStyleModel",
      "state": {
       "button_color": "white"
      }
     },
     "ccafeb4d37504bbea07e4161d71ebb58": {
      "model_module": "@jupyter-widgets/controls",
      "model_module_version": "1.5.0",
      "model_name": "DescriptionStyleModel",
      "state": {
       "description_width": ""
      }
     },
     "ce2ec1fc207d499cbad239853a0a6108": {
      "model_module": "@jupyter-widgets/base",
      "model_module_version": "1.2.0",
      "model_name": "LayoutModel",
      "state": {
       "overflow_x": "scroll"
      }
     },
     "ce3970782d3f4816ba824068abb69c36": {
      "model_module": "@jupyter-widgets/controls",
      "model_module_version": "1.5.0",
      "model_name": "GridBoxModel",
      "state": {
       "children": [
        "IPY_MODEL_49e68787290248e68f772c46019607c6"
       ],
       "layout": "IPY_MODEL_f692d61f6dfc4a0d9e311ac15504475c"
      }
     },
     "ce47f73e471c430e90ef7a44922c15fa": {
      "model_module": "@jupyter-widgets/controls",
      "model_module_version": "1.5.0",
      "model_name": "HTMLModel",
      "state": {
       "layout": "IPY_MODEL_7bdd3e32a0894fc2917598feb35c34cc",
       "style": "IPY_MODEL_f1643b68e74743399b9eb699d4c6dad3",
       "value": "<h5>Status</h5>"
      }
     },
     "cee8b5bef91c40a2b6377074592ad549": {
      "model_module": "@jupyter-widgets/base",
      "model_module_version": "1.2.0",
      "model_name": "LayoutModel",
      "state": {
       "margin": "0px 5px 0px 0px",
       "width": "32px"
      }
     },
     "d03f5516ed8c43d3a6e71ab951b0d7ee": {
      "model_module": "@jupyter-widgets/base",
      "model_module_version": "1.2.0",
      "model_name": "LayoutModel",
      "state": {
       "overflow_x": "scroll"
      }
     },
     "d0bb826454b14514aa6547609e754e03": {
      "model_module": "@jupyter-widgets/base",
      "model_module_version": "1.2.0",
      "model_name": "LayoutModel",
      "state": {
       "width": "70px"
      }
     },
     "d0edafc35bc94938a2d9b5bdcddf9198": {
      "model_module": "@jupyter-widgets/controls",
      "model_module_version": "1.5.0",
      "model_name": "HTMLModel",
      "state": {
       "layout": "IPY_MODEL_10425cc5ebc74985807f3485ba542af3",
       "style": "IPY_MODEL_066c829a209f4619817d78de3435c774",
       "value": "ibmq_qasm_simulator"
      }
     },
     "d1392127db3e4526bb9287c0b0231afe": {
      "model_module": "@jupyter-widgets/controls",
      "model_module_version": "1.5.0",
      "model_name": "HTMLModel",
      "state": {
       "layout": "IPY_MODEL_420d8c560b9f4de3968a04f8e7115e0c",
       "style": "IPY_MODEL_594770560b6149588ac915ef4360b1b4",
       "value": "ibmq_qasm_simulator"
      }
     },
     "d3628d5ca5e548cd82abf56797496cf9": {
      "model_module": "@jupyter-widgets/controls",
      "model_module_version": "1.5.0",
      "model_name": "ButtonModel",
      "state": {
       "icon": "close",
       "layout": "IPY_MODEL_e54a45d06e6b45d3aab8ead2a96c4466",
       "style": "IPY_MODEL_42013ffdd65844b9b67a16f6587ba8e0"
      }
     },
     "d3a1da89a9154977a13d3cde19769efc": {
      "model_module": "@jupyter-widgets/controls",
      "model_module_version": "1.5.0",
      "model_name": "ButtonModel",
      "state": {
       "icon": "close",
       "layout": "IPY_MODEL_63c4ff4b127847008c3386bcfe2de642",
       "style": "IPY_MODEL_3571f5431c5e4836946c970958b2ff5c"
      }
     },
     "d3f2823f12c04f348137ee731c0421b8": {
      "model_module": "@jupyter-widgets/base",
      "model_module_version": "1.2.0",
      "model_name": "LayoutModel",
      "state": {
       "width": "190px"
      }
     },
     "d44615c113e84adf9c09766a989b67f2": {
      "model_module": "@jupyter-widgets/base",
      "model_module_version": "1.2.0",
      "model_name": "LayoutModel",
      "state": {
       "width": "190px"
      }
     },
     "d4ebef0f18ba42fb820824af210ce7b0": {
      "model_module": "@jupyter-widgets/controls",
      "model_module_version": "1.5.0",
      "model_name": "DescriptionStyleModel",
      "state": {
       "description_width": ""
      }
     },
     "d5812d43cbf344488d425ab76c4a6944": {
      "model_module": "@jupyter-widgets/base",
      "model_module_version": "1.2.0",
      "model_name": "LayoutModel",
      "state": {
       "width": "145px"
      }
     },
     "d5b2d566bb4f44bba1cfffab0baf4957": {
      "model_module": "@jupyter-widgets/controls",
      "model_module_version": "1.5.0",
      "model_name": "HBoxModel",
      "state": {
       "children": [
        "IPY_MODEL_6562aed0bccf4e96ab6b2457aa27ad56",
        "IPY_MODEL_2bc0bfa019694634bafb382ce8210d73",
        "IPY_MODEL_ce47f73e471c430e90ef7a44922c15fa",
        "IPY_MODEL_647bf68ec14442e799894db94946882e",
        "IPY_MODEL_9538e3b9f14449fe87208af4420db0ad"
       ],
       "layout": "IPY_MODEL_3ed5ac22e06845a8a42d58108402c1d3"
      }
     },
     "d6fcaea176664708841b217cf3e15334": {
      "model_module": "@jupyter-widgets/base",
      "model_module_version": "1.2.0",
      "model_name": "LayoutModel",
      "state": {
       "width": "190px"
      }
     },
     "d71622f626694f5285b9830d7d6d7cc0": {
      "model_module": "@jupyter-widgets/controls",
      "model_module_version": "1.5.0",
      "model_name": "HTMLModel",
      "state": {
       "layout": "IPY_MODEL_76988588cd1546189122a5a20fdb5d4f",
       "style": "IPY_MODEL_8278a21c1e484ba5a09f806665a2bf82",
       "value": "<font style='color:#34BC6E'>DONE</font>"
      }
     },
     "d7b83f6fc70545a4b28eb145c802f170": {
      "model_module": "@jupyter-widgets/base",
      "model_module_version": "1.2.0",
      "model_name": "LayoutModel",
      "state": {
       "width": "70px"
      }
     },
     "d813cc292f5846d3845cc88a0007f4c2": {
      "model_module": "@jupyter-widgets/base",
      "model_module_version": "1.2.0",
      "model_name": "LayoutModel",
      "state": {
       "width": "190px"
      }
     },
     "d889e70804d747d8a27b13f5da5fa24c": {
      "model_module": "@jupyter-widgets/controls",
      "model_module_version": "1.5.0",
      "model_name": "ButtonStyleModel",
      "state": {
       "button_color": "white"
      }
     },
     "d90ec03353b1412b98703effad825c55": {
      "model_module": "@jupyter-widgets/controls",
      "model_module_version": "1.5.0",
      "model_name": "HBoxModel",
      "state": {
       "children": [
        "IPY_MODEL_d3a1da89a9154977a13d3cde19769efc",
        "IPY_MODEL_c51eb8df76124d4b9f58ae9fc18b557b",
        "IPY_MODEL_9583d55ec1bf4d5ca87bd1d43dc22332",
        "IPY_MODEL_d71622f626694f5285b9830d7d6d7cc0",
        "IPY_MODEL_84ace713285a4cd581aca9a2a586dc83",
        "IPY_MODEL_daadf277f40443e6922388f50c48aabe"
       ],
       "layout": "IPY_MODEL_8d9a2357f1e24e609230112c4f9e6aff"
      }
     },
     "d993c9a866f646f3996314d95f6e1f1f": {
      "model_module": "@jupyter-widgets/controls",
      "model_module_version": "1.5.0",
      "model_name": "HTMLModel",
      "state": {
       "layout": "IPY_MODEL_e6b20214bda6486587797481e8f97cf8",
       "style": "IPY_MODEL_f98601b3abb3448ba51ac1454a1a36f1",
       "value": "-"
      }
     },
     "d9b28a86d6c040ffba8935ec9d68d037": {
      "model_module": "@jupyter-widgets/controls",
      "model_module_version": "1.5.0",
      "model_name": "DescriptionStyleModel",
      "state": {
       "description_width": ""
      }
     },
     "d9d6bf31371f447fac7f26e66d36de4d": {
      "model_module": "@jupyter-widgets/controls",
      "model_module_version": "1.5.0",
      "model_name": "HTMLModel",
      "state": {
       "layout": "IPY_MODEL_88470774a5eb4d758eb46542f46b0d9e",
       "style": "IPY_MODEL_8b9c0f92fd004984b18dda3c38b26d78",
       "value": "job has successfully run"
      }
     },
     "daadf277f40443e6922388f50c48aabe": {
      "model_module": "@jupyter-widgets/controls",
      "model_module_version": "1.5.0",
      "model_name": "HTMLModel",
      "state": {
       "layout": "IPY_MODEL_19cbf58cab8f4c629d03a31d79faef70",
       "style": "IPY_MODEL_4dd8d1671f434ed2a64e08f21d2d640d",
       "value": "job has successfully run"
      }
     },
     "daef571c3ec54231b47c4aaf0c37ac1f": {
      "model_module": "@jupyter-widgets/base",
      "model_module_version": "1.2.0",
      "model_name": "LayoutModel",
      "state": {
       "overflow_x": "scroll"
      }
     },
     "db798873a09644a0bb9d1e745c19c06f": {
      "model_module": "@jupyter-widgets/base",
      "model_module_version": "1.2.0",
      "model_name": "LayoutModel",
      "state": {
       "width": "70px"
      }
     },
     "dbd512621b3b4e0b9998d6afd8e66747": {
      "model_module": "@jupyter-widgets/controls",
      "model_module_version": "1.5.0",
      "model_name": "DescriptionStyleModel",
      "state": {
       "description_width": ""
      }
     },
     "dc901663158d43d4b6910e2813429a68": {
      "model_module": "@jupyter-widgets/base",
      "model_module_version": "1.2.0",
      "model_name": "LayoutModel",
      "state": {
       "width": "95px"
      }
     },
     "e024a2d928104f74b674ebad8b9f8604": {
      "model_module": "@jupyter-widgets/controls",
      "model_module_version": "1.5.0",
      "model_name": "HTMLModel",
      "state": {
       "layout": "IPY_MODEL_00dc4f28bb66466f8557c2b071182853",
       "style": "IPY_MODEL_a5bb230c1e0441508833089c0a2c1cdc",
       "value": "job has successfully run"
      }
     },
     "e042b7f507da49e093a2de812ec8d67f": {
      "model_module": "@jupyter-widgets/controls",
      "model_module_version": "1.5.0",
      "model_name": "HTMLModel",
      "state": {
       "layout": "IPY_MODEL_2e971a8d4a824e3c90343d13962d92f6",
       "style": "IPY_MODEL_7383051015fc4f17905fa10a276cb978",
       "value": "<font style='color:#34BC6E'>DONE</font>"
      }
     },
     "e06c33a70ce041feaef0609c347d9a43": {
      "model_module": "@jupyter-widgets/base",
      "model_module_version": "1.2.0",
      "model_name": "LayoutModel",
      "state": {
       "width": "70px"
      }
     },
     "e13823069c6b4c2f950dda6751a1b2f0": {
      "model_module": "@jupyter-widgets/controls",
      "model_module_version": "1.5.0",
      "model_name": "HTMLModel",
      "state": {
       "layout": "IPY_MODEL_2a57d2ebeecd435e9b445cae103fa023",
       "style": "IPY_MODEL_20e2b2091238410698991a8b7310b26e",
       "value": "job has successfully run"
      }
     },
     "e18a041723d7476694737778f60fa9c4": {
      "model_module": "@jupyter-widgets/base",
      "model_module_version": "1.2.0",
      "model_name": "LayoutModel",
      "state": {
       "max_width": "700px",
       "min_width": "700px"
      }
     },
     "e1c0aa59e8cb47c4a0f6fb195f2b99b3": {
      "model_module": "@jupyter-widgets/base",
      "model_module_version": "1.2.0",
      "model_name": "LayoutModel",
      "state": {
       "width": "145px"
      }
     },
     "e2085aef972a40d6b31744bcb2c56a37": {
      "model_module": "@jupyter-widgets/controls",
      "model_module_version": "1.5.0",
      "model_name": "HTMLModel",
      "state": {
       "layout": "IPY_MODEL_ce2ec1fc207d499cbad239853a0a6108",
       "style": "IPY_MODEL_50c0f6874a1146af914a846fa0f50df2",
       "value": "job has successfully run"
      }
     },
     "e3023d0f5c6c4bd59836fbecb5c8bead": {
      "model_module": "@jupyter-widgets/controls",
      "model_module_version": "1.5.0",
      "model_name": "DescriptionStyleModel",
      "state": {
       "description_width": ""
      }
     },
     "e40e785b05ca4d1f8966ec15d875f8cf": {
      "model_module": "@jupyter-widgets/controls",
      "model_module_version": "1.5.0",
      "model_name": "DescriptionStyleModel",
      "state": {
       "description_width": ""
      }
     },
     "e41ceb0901c84b349d8fd1cd90432edf": {
      "model_module": "@jupyter-widgets/base",
      "model_module_version": "1.2.0",
      "model_name": "LayoutModel",
      "state": {
       "width": "70px"
      }
     },
     "e48437861f0840d6b7e9a2151cdf490e": {
      "model_module": "@jupyter-widgets/controls",
      "model_module_version": "1.5.0",
      "model_name": "DescriptionStyleModel",
      "state": {
       "description_width": ""
      }
     },
     "e54a45d06e6b45d3aab8ead2a96c4466": {
      "model_module": "@jupyter-widgets/base",
      "model_module_version": "1.2.0",
      "model_name": "LayoutModel",
      "state": {
       "margin": "0px 5px 0px 0px",
       "width": "32px"
      }
     },
     "e5764b99385d42dabd3d32738034ea47": {
      "model_module": "@jupyter-widgets/controls",
      "model_module_version": "1.5.0",
      "model_name": "DescriptionStyleModel",
      "state": {
       "description_width": ""
      }
     },
     "e5a6cb1fcc95457ca79e0c5918529cb4": {
      "model_module": "@jupyter-widgets/controls",
      "model_module_version": "1.5.0",
      "model_name": "HTMLModel",
      "state": {
       "layout": "IPY_MODEL_7c11bff280b4427db946fda3245f68f2",
       "style": "IPY_MODEL_0819845c4f494518bc8f8a1929642fae",
       "value": "<font style='color:#34BC6E'>DONE</font>"
      }
     },
     "e6b20214bda6486587797481e8f97cf8": {
      "model_module": "@jupyter-widgets/base",
      "model_module_version": "1.2.0",
      "model_name": "LayoutModel",
      "state": {
       "width": "70px"
      }
     },
     "e6fd03eb52304a9f81db3fba0b39e3ed": {
      "model_module": "@jupyter-widgets/controls",
      "model_module_version": "1.5.0",
      "model_name": "DescriptionStyleModel",
      "state": {
       "description_width": ""
      }
     },
     "e850a4a341ef41eaa3858d07703ab723": {
      "model_module": "@jupyter-widgets/base",
      "model_module_version": "1.2.0",
      "model_name": "LayoutModel",
      "state": {
       "width": "145px"
      }
     },
     "e85c9ae98e7142659c004bc615db0755": {
      "model_module": "@jupyter-widgets/controls",
      "model_module_version": "1.5.0",
      "model_name": "HTMLModel",
      "state": {
       "layout": "IPY_MODEL_2acc617de93a43ed962ecef5382f0db2",
       "style": "IPY_MODEL_cc0cd6ba264d4556aa9afb8ad1bac7d5",
       "value": "63d612e0392a66313f79942f"
      }
     },
     "e8da88c2d4804c77bc733bfb61bf7d7f": {
      "model_module": "@jupyter-widgets/controls",
      "model_module_version": "1.5.0",
      "model_name": "ButtonModel",
      "state": {
       "icon": "close",
       "layout": "IPY_MODEL_0e30efd9e0de479b87d6440dfc8bd91c",
       "style": "IPY_MODEL_114fede2f7a547ecb3e21877831197ea"
      }
     },
     "e978a8a204de427d8a432662d3a222d0": {
      "model_module": "@jupyter-widgets/base",
      "model_module_version": "1.2.0",
      "model_name": "LayoutModel",
      "state": {
       "max_width": "700px",
       "min_width": "700px"
      }
     },
     "e9818a5e6bd24993827a79f68b729d06": {
      "model_module": "@jupyter-widgets/controls",
      "model_module_version": "1.5.0",
      "model_name": "HTMLModel",
      "state": {
       "layout": "IPY_MODEL_5a75b81ab8b54897bb811c724066c204",
       "style": "IPY_MODEL_ae329f314c2f4a4f93c73ec41d816ea9",
       "value": "63d61267ed7bc628f5896fbb"
      }
     },
     "e9e9df7e47114f7bbca75d76e2c66490": {
      "model_module": "@jupyter-widgets/controls",
      "model_module_version": "1.5.0",
      "model_name": "ButtonStyleModel",
      "state": {
       "button_color": "white"
      }
     },
     "ea38acb3fdac44a3b7b306798b8a8141": {
      "model_module": "@jupyter-widgets/controls",
      "model_module_version": "1.5.0",
      "model_name": "DescriptionStyleModel",
      "state": {
       "description_width": ""
      }
     },
     "ea62a255ce1d43ab9d580de16aec6f05": {
      "model_module": "@jupyter-widgets/controls",
      "model_module_version": "1.5.0",
      "model_name": "DescriptionStyleModel",
      "state": {
       "description_width": ""
      }
     },
     "ea75f1b06dd649fd84110bc95b7c8bd7": {
      "model_module": "@jupyter-widgets/controls",
      "model_module_version": "1.5.0",
      "model_name": "DescriptionStyleModel",
      "state": {
       "description_width": ""
      }
     },
     "eb24468f248d4501ab211686a6f6ab64": {
      "model_module": "@jupyter-widgets/controls",
      "model_module_version": "1.5.0",
      "model_name": "DescriptionStyleModel",
      "state": {
       "description_width": ""
      }
     },
     "eb2e666e2e1146c0b7c9ebbe54e27ab7": {
      "model_module": "@jupyter-widgets/base",
      "model_module_version": "1.2.0",
      "model_name": "LayoutModel",
      "state": {
       "max_width": "700px",
       "min_width": "700px"
      }
     },
     "ebdd9fec2c1648468676b628f40775c2": {
      "model_module": "@jupyter-widgets/controls",
      "model_module_version": "1.5.0",
      "model_name": "HTMLModel",
      "state": {
       "layout": "IPY_MODEL_c1787733ca6c418b90369de9f9698f7c",
       "style": "IPY_MODEL_e48437861f0840d6b7e9a2151cdf490e",
       "value": "<font style='color:#34BC6E'>DONE</font>"
      }
     },
     "ec02151531de42b1a8b05f1d5979a0d9": {
      "model_module": "@jupyter-widgets/controls",
      "model_module_version": "1.5.0",
      "model_name": "HBoxModel",
      "state": {
       "children": [
        "IPY_MODEL_567b2ce722ba4f519a1699f11f4a2d40",
        "IPY_MODEL_efac457826014b969aba34c1c910e446",
        "IPY_MODEL_20a1bfc5dd7a481fbd4ba8c17229d513",
        "IPY_MODEL_58b219e76a864bd0b0232f07aefb4995",
        "IPY_MODEL_6b77c4f67f7f48a4936d7d30687d5649",
        "IPY_MODEL_0e7c707e053c4245b47aec5e948885ff"
       ],
       "layout": "IPY_MODEL_6c921cd73de843329bb13a9567a959d4"
      }
     },
     "ec128608528941db9a036ad686432f9d": {
      "model_module": "@jupyter-widgets/base",
      "model_module_version": "1.2.0",
      "model_name": "LayoutModel",
      "state": {
       "width": "145px"
      }
     },
     "ecd944e756e24ec99c39d1788610e75a": {
      "model_module": "@jupyter-widgets/base",
      "model_module_version": "1.2.0",
      "model_name": "LayoutModel",
      "state": {
       "width": "70px"
      }
     },
     "ee1473175c4949669f72d3c92f9461b7": {
      "model_module": "@jupyter-widgets/controls",
      "model_module_version": "1.5.0",
      "model_name": "DescriptionStyleModel",
      "state": {
       "description_width": ""
      }
     },
     "ee5db4ebf6d94918866283a530985125": {
      "model_module": "@jupyter-widgets/base",
      "model_module_version": "1.2.0",
      "model_name": "LayoutModel",
      "state": {
       "width": "190px"
      }
     },
     "eeacccd5a1874f4abe3a840b84573763": {
      "model_module": "@jupyter-widgets/controls",
      "model_module_version": "1.5.0",
      "model_name": "DescriptionStyleModel",
      "state": {
       "description_width": ""
      }
     },
     "efac457826014b969aba34c1c910e446": {
      "model_module": "@jupyter-widgets/controls",
      "model_module_version": "1.5.0",
      "model_name": "HTMLModel",
      "state": {
       "layout": "IPY_MODEL_54e921cbe4404796977cc6e66d7ca055",
       "style": "IPY_MODEL_6af357fe97954d2591a2c7df05091151",
       "value": "63d6125eed7bc60cd9896fba"
      }
     },
     "effa2a9625d24547b0b14e8fa312de66": {
      "model_module": "@jupyter-widgets/controls",
      "model_module_version": "1.5.0",
      "model_name": "HTMLModel",
      "state": {
       "layout": "IPY_MODEL_71d7ead4fc59456eacf4294de0129646",
       "style": "IPY_MODEL_4f0ec9372ba74a0b892ea8b74b33bb10",
       "value": "job has successfully run"
      }
     },
     "f01f824d65e44669bf125fb46672522f": {
      "model_module": "@jupyter-widgets/base",
      "model_module_version": "1.2.0",
      "model_name": "LayoutModel",
      "state": {
       "width": "70px"
      }
     },
     "f143adc3bb52485bb559a706f313885b": {
      "model_module": "@jupyter-widgets/base",
      "model_module_version": "1.2.0",
      "model_name": "LayoutModel",
      "state": {
       "width": "70px"
      }
     },
     "f1471b13301444448ddb881f4f86a505": {
      "model_module": "@jupyter-widgets/controls",
      "model_module_version": "1.5.0",
      "model_name": "HBoxModel",
      "state": {
       "children": [
        "IPY_MODEL_b1667ad4c9574c05ba4902f96af711f2",
        "IPY_MODEL_04d32e0d7a334fcf92bc548518eeb94e",
        "IPY_MODEL_8306032f6c3045e3a41e06280205a11b",
        "IPY_MODEL_5cd40cd93bef4935b11ef2f97e170516",
        "IPY_MODEL_0b56323fdf1449d28fa1ea74c1b3ac43",
        "IPY_MODEL_e024a2d928104f74b674ebad8b9f8604"
       ],
       "layout": "IPY_MODEL_57e60818adf14972993c1bce9cf789e7"
      }
     },
     "f15867a04abb4affa9305142f3b8355b": {
      "model_module": "@jupyter-widgets/base",
      "model_module_version": "1.2.0",
      "model_name": "LayoutModel",
      "state": {
       "margin": "0px 5px 0px 0px",
       "width": "32px"
      }
     },
     "f1643b68e74743399b9eb699d4c6dad3": {
      "model_module": "@jupyter-widgets/controls",
      "model_module_version": "1.5.0",
      "model_name": "DescriptionStyleModel",
      "state": {
       "description_width": ""
      }
     },
     "f1c6a998b0ba4aabb762c745005878df": {
      "model_module": "@jupyter-widgets/base",
      "model_module_version": "1.2.0",
      "model_name": "LayoutModel",
      "state": {
       "width": "95px"
      }
     },
     "f25b9c2c4ba54a56be65d56c40730077": {
      "model_module": "@jupyter-widgets/controls",
      "model_module_version": "1.5.0",
      "model_name": "HTMLModel",
      "state": {
       "layout": "IPY_MODEL_bd5b034f01494c2aa25dcb93e0bc1453",
       "style": "IPY_MODEL_9ab2eb4673fe413ea53c7402ddb9da29",
       "value": "ibmq_qasm_simulator"
      }
     },
     "f38b81c2d2234ba19038a84ca4cd7218": {
      "model_module": "@jupyter-widgets/controls",
      "model_module_version": "1.5.0",
      "model_name": "HTMLModel",
      "state": {
       "layout": "IPY_MODEL_8c04dc5ebd95441b8f8e690e13c802da",
       "style": "IPY_MODEL_f45c2ae4a4274ae1bd19873afd66a13b",
       "value": "63d6125633d8509ae605889f"
      }
     },
     "f3dcc802d3a04be8b10f9ed044b3db6c": {
      "model_module": "@jupyter-widgets/base",
      "model_module_version": "1.2.0",
      "model_name": "LayoutModel",
      "state": {
       "margin": "0px 5px 0px 0px",
       "width": "32px"
      }
     },
     "f45c2ae4a4274ae1bd19873afd66a13b": {
      "model_module": "@jupyter-widgets/controls",
      "model_module_version": "1.5.0",
      "model_name": "DescriptionStyleModel",
      "state": {
       "description_width": ""
      }
     },
     "f541dfd20a5d4c769f9fc4d9521fd676": {
      "model_module": "@jupyter-widgets/controls",
      "model_module_version": "1.5.0",
      "model_name": "HTMLModel",
      "state": {
       "layout": "IPY_MODEL_2181489106c1482aa925b823f512d4ab",
       "style": "IPY_MODEL_40894e85f1aa49bdbb44e69bd81d2321",
       "value": "ibmq_qasm_simulator"
      }
     },
     "f692d61f6dfc4a0d9e311ac15504475c": {
      "model_module": "@jupyter-widgets/base",
      "model_module_version": "1.2.0",
      "model_name": "LayoutModel",
      "state": {
       "grid_template_areas": "\n                                       \". . . . right \"\n                                        ",
       "grid_template_columns": "20% 20% 20% 20% 20%",
       "width": "100%"
      }
     },
     "f6e95ce0cc9a492391c4634cb09fe795": {
      "model_module": "@jupyter-widgets/base",
      "model_module_version": "1.2.0",
      "model_name": "LayoutModel",
      "state": {
       "width": "145px"
      }
     },
     "f73ea41db2c34df0b6036233b94ad900": {
      "model_module": "@jupyter-widgets/controls",
      "model_module_version": "1.5.0",
      "model_name": "HTMLModel",
      "state": {
       "layout": "IPY_MODEL_9c237377164f45e88ddfe465e61e7f5c",
       "style": "IPY_MODEL_45575ef7621f4324a88c19f8eb2f5a02",
       "value": "job has successfully run"
      }
     },
     "f76b19f84a16429e8c14d02c9a8573cd": {
      "model_module": "@jupyter-widgets/controls",
      "model_module_version": "1.5.0",
      "model_name": "DescriptionStyleModel",
      "state": {
       "description_width": ""
      }
     },
     "f7afb3407ca34e939ecc8b3f31843b43": {
      "model_module": "@jupyter-widgets/base",
      "model_module_version": "1.2.0",
      "model_name": "LayoutModel",
      "state": {
       "width": "70px"
      }
     },
     "f8b4737a7c3d48d2b9131f9b4f549429": {
      "model_module": "@jupyter-widgets/controls",
      "model_module_version": "1.5.0",
      "model_name": "HTMLModel",
      "state": {
       "layout": "IPY_MODEL_72395fd604494deca85ea2e78ca47c63",
       "style": "IPY_MODEL_205976c912c84238bc90f22f02b3eef0",
       "value": "63d6124d48082c78decf65a3"
      }
     },
     "f8d787cc252548ce80cd405475dc3dfb": {
      "model_module": "@jupyter-widgets/base",
      "model_module_version": "1.2.0",
      "model_name": "LayoutModel",
      "state": {
       "overflow_x": "scroll"
      }
     },
     "f9485e4710084097a38ab372b43066c8": {
      "model_module": "@jupyter-widgets/base",
      "model_module_version": "1.2.0",
      "model_name": "LayoutModel",
      "state": {
       "width": "95px"
      }
     },
     "f98601b3abb3448ba51ac1454a1a36f1": {
      "model_module": "@jupyter-widgets/controls",
      "model_module_version": "1.5.0",
      "model_name": "DescriptionStyleModel",
      "state": {
       "description_width": ""
      }
     },
     "f9f07950b4f04b0984a36cc7faa4e059": {
      "model_module": "@jupyter-widgets/controls",
      "model_module_version": "1.5.0",
      "model_name": "HTMLModel",
      "state": {
       "layout": "IPY_MODEL_feb966d818404f02989822043437c7b4",
       "style": "IPY_MODEL_1bbc0565c13541cbbe11eaa0ea995cc9",
       "value": "-"
      }
     },
     "fb1f80d551654135bee7a27af196106f": {
      "model_module": "@jupyter-widgets/controls",
      "model_module_version": "1.5.0",
      "model_name": "ButtonModel",
      "state": {
       "icon": "close",
       "layout": "IPY_MODEL_f3dcc802d3a04be8b10f9ed044b3db6c",
       "style": "IPY_MODEL_1a410d3a9e1e4491be007b3137a89f6c"
      }
     },
     "fb23cf8ec58a4c0dbe5be0e14ce3d335": {
      "model_module": "@jupyter-widgets/controls",
      "model_module_version": "1.5.0",
      "model_name": "DescriptionStyleModel",
      "state": {
       "description_width": ""
      }
     },
     "fb6f53a1d4d240f1b7f8a19d444bd173": {
      "model_module": "@jupyter-widgets/controls",
      "model_module_version": "1.5.0",
      "model_name": "HTMLModel",
      "state": {
       "layout": "IPY_MODEL_aab5ba1479b74b809b612e8029670b1b",
       "style": "IPY_MODEL_196f5e3eba9347a2a0125e1fb2305e27",
       "value": "ibmq_qasm_simulator"
      }
     },
     "fc4b53f798ef4fdf8732f1ba11210d46": {
      "model_module": "@jupyter-widgets/base",
      "model_module_version": "1.2.0",
      "model_name": "LayoutModel",
      "state": {
       "overflow_x": "scroll"
      }
     },
     "fcec2a9684ba4e76af276068280155c4": {
      "model_module": "@jupyter-widgets/controls",
      "model_module_version": "1.5.0",
      "model_name": "ButtonStyleModel",
      "state": {
       "button_color": "white"
      }
     },
     "fde7423ca4f34ac29097f061371063af": {
      "model_module": "@jupyter-widgets/base",
      "model_module_version": "1.2.0",
      "model_name": "LayoutModel",
      "state": {
       "width": "190px"
      }
     },
     "fe4682742ab74391b77135e32a767b66": {
      "model_module": "@jupyter-widgets/controls",
      "model_module_version": "1.5.0",
      "model_name": "DescriptionStyleModel",
      "state": {
       "description_width": ""
      }
     },
     "feb966d818404f02989822043437c7b4": {
      "model_module": "@jupyter-widgets/base",
      "model_module_version": "1.2.0",
      "model_name": "LayoutModel",
      "state": {
       "width": "70px"
      }
     },
     "fed19016d3fb4947ab9cd58566d66427": {
      "model_module": "@jupyter-widgets/controls",
      "model_module_version": "1.5.0",
      "model_name": "HBoxModel",
      "state": {
       "children": [
        "IPY_MODEL_89e67ebf108e4c5cb95faf7ca52aac34",
        "IPY_MODEL_ff8f0129d37a4497913cabbeb85a4373",
        "IPY_MODEL_b71afec6a2674afbabe950284c23f84a",
        "IPY_MODEL_77c8ac19f7d54a728b18353316797ec1",
        "IPY_MODEL_f9f07950b4f04b0984a36cc7faa4e059",
        "IPY_MODEL_b44fa72b851c445aa4f14570c9be076a"
       ],
       "layout": "IPY_MODEL_a8a2e49999304fb68c53faf68a053b14"
      }
     },
     "feeb6eba9f9642a3b0407d941563a9c9": {
      "model_module": "@jupyter-widgets/base",
      "model_module_version": "1.2.0",
      "model_name": "LayoutModel",
      "state": {
       "width": "190px"
      }
     },
     "ff39e5661eb645c1811f2a3b20585d14": {
      "model_module": "@jupyter-widgets/controls",
      "model_module_version": "1.5.0",
      "model_name": "HTMLModel",
      "state": {
       "layout": "IPY_MODEL_153d91a4e635490cb074da76ddd10231",
       "style": "IPY_MODEL_4ef99bc79bfe4c1e84dd37b360d356fa",
       "value": "job has successfully run"
      }
     },
     "ff8f0129d37a4497913cabbeb85a4373": {
      "model_module": "@jupyter-widgets/controls",
      "model_module_version": "1.5.0",
      "model_name": "HTMLModel",
      "state": {
       "layout": "IPY_MODEL_d3f2823f12c04f348137ee731c0421b8",
       "style": "IPY_MODEL_501167a1fe9946739862b0045dd4ad29",
       "value": "63d612e848082cca01cf65a8"
      }
     },
     "ffa36a2818814063ad7ef591571894d0": {
      "model_module": "@jupyter-widgets/controls",
      "model_module_version": "1.5.0",
      "model_name": "DescriptionStyleModel",
      "state": {
       "description_width": ""
      }
     }
    },
    "version_major": 2,
    "version_minor": 0
   }
  }
 },
 "nbformat": 4,
 "nbformat_minor": 5
}
