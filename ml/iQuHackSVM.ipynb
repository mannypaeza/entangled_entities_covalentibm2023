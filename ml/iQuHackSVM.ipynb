{
 "cells": [
  {
   "cell_type": "code",
   "execution_count": 1,
   "id": "d05cdede-385b-49ed-a824-a8864d3afce6",
   "metadata": {},
   "outputs": [
    {
     "name": "stderr",
     "output_type": "stream",
     "text": [
      "<frozen importlib._bootstrap>:219: RuntimeWarning: scipy._lib.messagestream.MessageStream size changed, may indicate binary incompatibility. Expected 56 from C header, got 64 from PyObject\n"
     ]
    }
   ],
   "source": [
    "import numpy as np\n",
    "\n",
    "# Importing standard Qiskit libraries\n",
    "from qiskit import QuantumCircuit, transpile, Aer, IBMQ\n",
    "from qiskit.tools.jupyter import *\n",
    "from qiskit.visualization import *\n",
    "from ibm_quantum_widgets import *\n",
    "from qiskit.providers.aer import QasmSimulator\n",
    "\n",
    "# Loading your IBM Quantum account(s)\n",
    "provider = IBMQ.load_account()"
   ]
  },
  {
   "cell_type": "code",
   "execution_count": null,
   "id": "f8586d5e-e596-4995-8363-1e344d360257",
   "metadata": {},
   "outputs": [],
   "source": [
    "# Import plotting library\n",
    "import matplotlib.pyplot as plt\n",
    "\n",
    "# Set global plot background color\n",
    "plt.rcParams[\"figure.facecolor\"] = \"w\"\n",
    "\n",
    "# Import for SVM classifier\n",
    "from sklearn.svm import SVC\n",
    "\n",
    "# Imports for dataset and model selection\n",
    "from sklearn import datasets\n",
    "from sklearn.model_selection import train_test_split\n",
    "from sklearn.metrics import ConfusionMatrixDisplay, confusion_matrix\n",
    "\n",
    "# Imports for QSVC classifier\n",
    "from qiskit import BasicAer\n",
    "from qiskit.circuit.library import ZZFeatureMap\n",
    "from qiskit.utils import QuantumInstance, algorithm_globals\n",
    "from qiskit_machine_learning.kernels import QuantumKernel\n",
    "\n",
    "# Set the random seed for QSVC\n",
    "seed = 12345\n",
    "algorithm_globals.random_seed = seed"
   ]
  },
  {
   "cell_type": "code",
   "execution_count": 25,
   "id": "7e28d696-1779-44cc-a0ee-3d16177ca2e0",
   "metadata": {},
   "outputs": [
    {
     "name": "stdout",
     "output_type": "stream",
     "text": [
      "[ 0.  0.  1.  1.  0.  0.  0.  0.  1.  1.  1.  0.  0.  1. -0.  1.  0.  0.\n",
      "  0.  0.  1.  1.  0.  0.  0.  1. -0.  0.  0.  1.  1.  1.  0.  1.  1.  0.\n",
      "  0.  0.  1.  0.  0.  0.  0.  1.  0.  0.  0.  1.  0.  1.  1.  0.  1.  0.\n",
      "  0.  1.  1.  1.  1.  1.  0.  1.  0.  0.  1.  1.  1.  0.  0.  0.  1.  0.\n",
      "  1. -0.  1.  1.  1.  1.  1.  1.  1.  0.  0.  0.  1.  1.  0.  1.  1.  0.\n",
      "  1.  0.  0.  0. -0.  1.  1.  1.  0.  1.]\n"
     ]
    }
   ],
   "source": [
    "features = np.random.rand(100, 3)\n",
    "label = np.array([np.round(sum(f)/3.0 + np.random.normal(0, .25)) for f in features])\n",
    "\n",
    "print(label)"
   ]
  },
  {
   "cell_type": "code",
   "execution_count": 52,
   "id": "e793f6b7-83c9-46a0-b78b-2d57789068a1",
   "metadata": {},
   "outputs": [
    {
     "data": {
      "text/plain": [
       "array([1, 1, 1, 0, 1, 1, 0, 0, 1, 0, 1, 0, 1, 1, 0, 1, 0, 0, 1, 1, 1, 0,\n",
       "       1, 1, 1, 0, 0, 0, 0, 0, 1, 1, 0, 1, 1, 0, 0, 1, 0, 0, 0, 0, 0, 1,\n",
       "       0, 0, 0, 1, 1, 0, 1, 0, 1, 1, 0, 0, 0, 0, 1, 0, 0, 0, 0, 1, 1, 1,\n",
       "       1, 0, 1, 1, 0, 0, 0, 1, 1, 1, 0, 1, 0, 0, 1, 0, 0, 0, 1, 1, 1, 1,\n",
       "       1, 0, 0, 0, 0, 0, 0, 1, 1, 1, 0, 0])"
      ]
     },
     "execution_count": 52,
     "metadata": {},
     "output_type": "execute_result"
    }
   ],
   "source": [
    "labels = np.array([0 if (sum(f)/3.0 + np.random.normal(0, .2)) < 0.5 else 1 for f in features])\n",
    "labels"
   ]
  },
  {
   "cell_type": "code",
   "execution_count": 57,
   "id": "90d7a204-81d2-4c8c-bb60-f77251c96d42",
   "metadata": {},
   "outputs": [],
   "source": [
    "import pickle\n",
    "    \n",
    "\n",
    "#@ct.electron\n",
    "def get_data():\n",
    "    features = np.load(\"power_features.npy\")\n",
    "    labels = np.load(\"power_labels.npy\")\n",
    "    return features,labels\n",
    "    \n",
    "#@ct.electron\n",
    "def split_train_test_data(X, y):\n",
    "    X_train, X_test, y_train, y_test = train_test_split(X, y, test_size=0.25, random_state=0)\n",
    "    return X_train, X_test, y_train, y_test\n",
    "\n",
    "#@ct.electron\n",
    "def train_qsvc(X_train, y_train):\n",
    "    feature_map = ZZFeatureMap(feature_dimension=3, reps=4, entanglement=\"linear\")\n",
    "    backend = QuantumInstance(\n",
    "        BasicAer.get_backend(\"qasm_simulator\"), shots=16, seed_simulator=seed, seed_transpiler=seed\n",
    "    )\n",
    "    kernel = QuantumKernel(feature_map=feature_map, quantum_instance=backend)\n",
    "    qsvc = SVC(kernel=kernel.evaluate)\n",
    "    qsvc.fit(X_train, y_train)\n",
    "    return qsvc\n",
    "\n",
    "#@ct.lattice\n",
    "def prediction_workflow(example):\n",
    "    filename = 'finalized_model.sav'\n",
    "    trained_model = pickle.load(open(filename, 'rb'))\n",
    "    return trained_model.predict(example)\n",
    "\n",
    "#@ct.lattice\n",
    "def train_workflow():\n",
    "    X, y = get_data()\n",
    "    X_train, X_test, y_train, y_test = split_train_test_data(X=X, y=y)\n",
    "    qsvc_model = train_qsvc(X_train=X_train, y_train=y_train)\n",
    "    # save the model to disk\n",
    "    filename = 'finalized_model.sav'\n",
    "    pickle.dump(qsvc, open(filename, 'wb'))\n",
    "    return X_test, y_test, qsvc_model, X_train, X_test, X, y"
   ]
  },
  {
   "cell_type": "code",
   "execution_count": 51,
   "id": "fbf7dccf-d722-42db-840b-cda23e44756a",
   "metadata": {},
   "outputs": [
    {
     "name": "stdout",
     "output_type": "stream",
     "text": [
      "[[0.76315435 0.89841027 0.96352133]\n",
      " [0.34646261 0.89812065 0.39367038]\n",
      " [0.83794762 0.04038534 0.09921624]\n",
      " [0.22561386 0.73493653 0.00949824]\n",
      " [0.72754667 0.28377581 0.52272086]\n",
      " [0.71519264 0.11805602 0.89526153]\n",
      " [0.62863661 0.19520545 0.94151097]\n",
      " [0.62195535 0.36579137 0.44432821]\n",
      " [0.77417478 0.44648009 0.19605508]\n",
      " [0.08180204 0.77703806 0.13201015]\n",
      " [0.29890808 0.14552369 0.27422243]\n",
      " [0.49518128 0.86881085 0.30986019]\n",
      " [0.49888529 0.85710336 0.00099864]\n",
      " [0.84060327 0.54924446 0.78188495]\n",
      " [0.90925975 0.53855016 0.63880748]\n",
      " [0.93045754 0.07356418 0.40353863]\n",
      " [0.81647453 0.21141544 0.03151436]\n",
      " [0.46220764 0.01655306 0.52527895]\n",
      " [0.97126222 0.47788242 0.99684359]\n",
      " [0.76085784 0.43167136 0.85407684]\n",
      " [0.91924006 0.56732581 0.78930973]\n",
      " [0.06360751 0.05937977 0.92914529]\n",
      " [0.84057298 0.48214475 0.8806421 ]\n",
      " [0.49084978 0.68567732 0.29488994]\n",
      " [0.41312676 0.26747853 0.04734864]\n",
      " [0.62027053 0.78620669 0.56732758]\n",
      " [0.45187948 0.71807922 0.93950422]\n",
      " [0.39869867 0.22806033 0.3011614 ]\n",
      " [0.97157093 0.51421274 0.43018126]\n",
      " [0.31108487 0.01079037 0.16133616]\n",
      " [0.19459059 0.90681885 0.94650354]\n",
      " [0.39491677 0.34300186 0.18648528]\n",
      " [0.6251053  0.15431843 0.45613392]\n",
      " [0.08779798 0.12612346 0.43129244]\n",
      " [0.650504   0.63007683 0.6799311 ]\n",
      " [0.44599238 0.67229154 0.12614147]\n",
      " [0.115286   0.76368314 0.25104277]\n",
      " [0.74492536 0.96603777 0.67235973]\n",
      " [0.13163909 0.56939168 0.73688812]\n",
      " [0.95902761 0.94486308 0.42314049]\n",
      " [0.06867836 0.58666299 0.90314492]\n",
      " [0.5157866  0.51413906 0.83824962]\n",
      " [0.51433945 0.24938606 0.86784139]\n",
      " [0.71044868 0.55779963 0.00283616]\n",
      " [0.3234288  0.6953843  0.7601537 ]\n",
      " [0.65018793 0.09532439 0.74430995]\n",
      " [0.08314622 0.27389061 0.65295298]\n",
      " [0.50500509 0.32332107 0.15678831]\n",
      " [0.6784522  0.06078491 0.39303036]\n",
      " [0.05896013 0.25662886 0.20069941]\n",
      " [0.18351542 0.9152342  0.98149055]\n",
      " [0.78256419 0.40444715 0.95945848]\n",
      " [0.32930161 0.76359617 0.69993045]\n",
      " [0.79357554 0.3714138  0.63554677]\n",
      " [0.11417645 0.30992045 0.25149413]\n",
      " [0.4714745  0.88313815 0.35031924]\n",
      " [0.51502693 0.8233884  0.01992567]\n",
      " [0.64227055 0.24575469 0.32650658]\n",
      " [0.4752766  0.0890967  0.41279313]\n",
      " [0.36792824 0.8172618  0.23229652]\n",
      " [0.36228644 0.21474536 0.42836716]\n",
      " [0.47462264 0.33375465 0.8608712 ]\n",
      " [0.40207958 0.67080403 0.53388784]\n",
      " [0.84861954 0.40828452 0.13567222]\n",
      " [0.97373824 0.77181264 0.67223259]\n",
      " [0.69408302 0.28007988 0.37008694]\n",
      " [0.85420699 0.99050331 0.61180636]\n",
      " [0.06375829 0.53232696 0.26834944]\n",
      " [0.64253807 0.5270551  0.85300329]\n",
      " [0.28971316 0.44114207 0.29496828]\n",
      " [0.85427892 0.85276079 0.51919259]\n",
      " [0.89611969 0.95032849 0.97205285]\n",
      " [0.01455517 0.82924122 0.42312255]\n",
      " [0.02312576 0.88268213 0.14339613]\n",
      " [0.15682    0.31829899 0.23067126]\n",
      " [0.35830336 0.74200479 0.29047509]\n",
      " [0.27747621 0.38907516 0.75271638]\n",
      " [0.84747877 0.7478496  0.19930295]\n",
      " [0.91654302 0.59690627 0.05846887]\n",
      " [0.32190019 0.89723805 0.68654133]\n",
      " [0.18153317 0.677557   0.55416766]\n",
      " [0.19987986 0.72975131 0.79860638]\n",
      " [0.24037951 0.25785911 0.02011005]\n",
      " [0.42015843 0.55531675 0.15135402]\n",
      " [0.43627954 0.35822972 0.69300577]\n",
      " [0.2885226  0.90896314 0.83144241]\n",
      " [0.35524027 0.47777575 0.10803135]\n",
      " [0.79029896 0.2629868  0.8410191 ]\n",
      " [0.01416318 0.5468524  0.63823083]\n",
      " [0.47349849 0.38621512 0.31608772]\n",
      " [0.12245412 0.20247109 0.62500275]\n",
      " [0.17215981 0.10683951 0.10147841]\n",
      " [0.93504726 0.70905921 0.76322975]\n",
      " [0.3489398  0.96087902 0.31122045]\n",
      " [0.03011119 0.50074628 0.77344548]\n",
      " [0.62704876 0.9607696  0.56202292]\n",
      " [0.93634975 0.49588078 0.41417988]\n",
      " [0.48723285 0.71749461 0.92665581]\n",
      " [0.82718538 0.50180423 0.12606016]\n",
      " [0.68911748 0.8152704  0.36157754]]\n"
     ]
    }
   ],
   "source": [
    "# def generate_data():    \n",
    "#     features = np.random.rand(100, 3)\n",
    "#     labels = np.array([0 if (sum(f)/3.0 + np.random.normal(0, .5)) < 0.5 else 1 for f in features])\n",
    "#     return features, labels\n",
    "\n",
    "# features,labels = generate_data()\n",
    "# print(features)\n",
    "# np.save(\"power_features.npy\", features)\n",
    "# np.save(\"power_labels.npy\", labels)"
   ]
  },
  {
   "cell_type": "code",
   "execution_count": 53,
   "id": "8ebf7138-f064-42fe-a480-1660d558123d",
   "metadata": {},
   "outputs": [
    {
     "name": "stdout",
     "output_type": "stream",
     "text": [
      "Traceback \u001b[1;36m(most recent call last)\u001b[0m:\n",
      "  Input \u001b[0;32mIn [53]\u001b[0m in \u001b[0;35m<cell line: 1>\u001b[0m\n",
      "    X_test, y_test, qsvc_model, X_train, X_test, X, y = train_workflow()\n",
      "\u001b[1;36m  Input \u001b[1;32mIn [52]\u001b[1;36m in \u001b[1;35mtrain_workflow\u001b[1;36m\u001b[0m\n",
      "\u001b[1;33m    pickle.dump(qsvc, open(filename, 'wb'))\u001b[0m\n",
      "\u001b[1;31mNameError\u001b[0m\u001b[1;31m:\u001b[0m name 'qsvc' is not defined\n",
      "\n",
      "Use %tb to get the full traceback.\n"
     ]
    },
    {
     "data": {
      "text/html": [
       "\n",
       "<style>\n",
       ".button {\n",
       "  border: none;\n",
       "  color: white;\n",
       "  padding: 4px 8px;\n",
       "  text-align: center;\n",
       "  text-decoration: none;\n",
       "  display: inline-block;\n",
       "  font-size: 12px;\n",
       "  margin: 4px 2px;\n",
       "  transition-duration: 0.2s;\n",
       "  cursor: pointer;\n",
       "}\n",
       ".iqx-button {\n",
       "  background-color: #0f62fe; \n",
       "  color: white; \n",
       "}\n",
       ".iqx-button:hover {\n",
       "  background-color: #0043ce;\n",
       "  color: white;\n",
       "}\n",
       "</style>\n",
       "<a href=\"https://stackoverflow.com/search?q=NameError: name 'qsvc' is not defined\" target='_blank'><button class='button iqx-button'>Search for solution online</button></a>\n"
      ],
      "text/plain": [
       "<IPython.core.display.HTML object>"
      ]
     },
     "metadata": {},
     "output_type": "display_data"
    }
   ],
   "source": [
    "X_test, y_test, qsvc_model, X_train, X_test, X, y = train_workflow()\n",
    "y_pred = qsvc_model.predict(X_test)\n",
    "from sklearn.metrics import classification_report\n",
    "print(classification_report(y_test, y_pred))"
   ]
  },
  {
   "cell_type": "code",
   "execution_count": 46,
   "id": "66932e56-329c-4a31-bec0-c3d385658014",
   "metadata": {},
   "outputs": [
    {
     "data": {
      "image/png": "[encoded data removed]",
      "text/plain": [
       "<Figure size 432x288 with 1 Axes>"
      ]
     },
     "metadata": {},
     "output_type": "display_data"
    }
   ],
   "source": [
    "# disp = DecisionBoundaryDisplay.from_estimator(\n",
    "#     qsvc_model, X, response_method=\"predict\",\n",
    "#     xlabel=\"wind_exposure\", ylabel=\"sun_exposure\",\n",
    "#     alpha=0.5,\n",
    "# )\n",
    "plt.scatter(X[:, 0],X[:, 1], c=y, edgecolor=\"k\")\n",
    "plt.show()"
   ]
  },
  {
   "cell_type": "code",
   "execution_count": 56,
   "id": "7e54efeb-6eeb-468d-90cb-4db6bd8f8d31",
   "metadata": {},
   "outputs": [
    {
     "data": {
      "image/png": "[encoded data removed]",
      "text/plain": [
       "<Figure size 432x288 with 1 Axes>"
      ]
     },
     "metadata": {},
     "output_type": "display_data"
    }
   ],
   "source": [
    "plt.scatter(X_test[:, 0],X_test[:, 1], c=y_pred, edgecolor=\"k\")\n",
    "plt.xlabel(\"Wind Exposure\")\n",
    "plt.ylabel(\"Sun Exposure\")\n",
    "\n",
    "colors = ['b', 'c', 'y', 'm', 'r']\n",
    "\n",
    "ll = plt.scatter(random(10), random(10), marker='o', color=colors[0])\n",
    "l  = plt.scatter(random(10), random(10), marker='o', color=colors[1])\n",
    "\n",
    "plt.legend((lo, ll, l, a, h, hh, ho),\n",
    "           ('Low Outlier', 'LoLo', 'Lo', 'Average', 'Hi', 'HiHi', 'High Outlier'),\n",
    "           scatterpoints=1,\n",
    "           loc='lower left',\n",
    "           ncol=3,\n",
    "           fontsize=8)\n",
    "\n",
    "plt.show()\n",
    "\n",
    "plt.savefig('power_predictions.png')"
   ]
  },
  {
   "cell_type": "code",
   "execution_count": 48,
   "id": "28a69c53-f4b3-48ad-b90e-cbc16432607d",
   "metadata": {},
   "outputs": [
    {
     "data": {
      "image/png": "[encoded data removed]",
      "text/plain": [
       "<Figure size 432x288 with 1 Axes>"
      ]
     },
     "metadata": {},
     "output_type": "display_data"
    }
   ],
   "source": [
    "plt.scatter(X_test[:, 0],X_test[:, 1], c=y_test, edgecolor=\"k\")\n",
    "plt.show()"
   ]
  },
  {
   "cell_type": "code",
   "execution_count": 40,
   "id": "d7718019-02c3-4d7c-9dad-3d55968cf990",
   "metadata": {},
   "outputs": [
    {
     "name": "stdout",
     "output_type": "stream",
     "text": [
      "[1 1 1 1 0 1 0 1 0 0 0 1 1 1 0 0 1 0 0 1 1 0 0 0 0]\n"
     ]
    }
   ],
   "source": [
    "print(y_pred)"
   ]
  },
  {
   "cell_type": "code",
   "execution_count": 25,
   "id": "a530d567-8bb9-4688-80f5-e6f831e1ac05",
   "metadata": {},
   "outputs": [
    {
     "name": "stdout",
     "output_type": "stream",
     "text": [
      "(25, 3)\n",
      "Traceback \u001b[1;36m(most recent call last)\u001b[0m:\n",
      "  Input \u001b[0;32mIn [25]\u001b[0m in \u001b[0;35m<cell line: 7>\u001b[0m\n",
      "    disp = DecisionBoundaryDisplay.from_estimator(\n",
      "  File \u001b[0;32m/opt/conda/lib/python3.8/site-packages/sklearn/inspection/_plot/decision_boundary.py:306\u001b[0m in \u001b[0;35mfrom_estimator\u001b[0m\n",
      "    response = pred_func(X_grid)\n",
      "  File \u001b[0;32m/opt/conda/lib/python3.8/site-packages/sklearn/svm/_base.py:810\u001b[0m in \u001b[0;35mpredict\u001b[0m\n",
      "    y = super().predict(X)\n",
      "  File \u001b[0;32m/opt/conda/lib/python3.8/site-packages/sklearn/svm/_base.py:435\u001b[0m in \u001b[0;35mpredict\u001b[0m\n",
      "    return predict(X)\n",
      "  File \u001b[0;32m/opt/conda/lib/python3.8/site-packages/sklearn/svm/_base.py:438\u001b[0m in \u001b[0;35m_dense_predict\u001b[0m\n",
      "    X = self._compute_kernel(X)\n",
      "  File \u001b[0;32m/opt/conda/lib/python3.8/site-packages/sklearn/svm/_base.py:512\u001b[0m in \u001b[0;35m_compute_kernel\u001b[0m\n",
      "    kernel = self.kernel(X, self.__Xfit)\n",
      "  File \u001b[0;32m/opt/conda/lib/python3.8/site-packages/qiskit_machine_learning/kernels/quantum_kernel.py:501\u001b[0m in \u001b[0;35mevaluate\u001b[0m\n",
      "    x_vec, y_vec = self._validate_input(x_vec, y_vec)\n",
      "\u001b[1;36m  File \u001b[1;32m/opt/conda/lib/python3.8/site-packages/qiskit_machine_learning/kernels/quantum_kernel.py:552\u001b[1;36m in \u001b[1;35m_validate_input\u001b[1;36m\u001b[0m\n",
      "\u001b[1;33m    raise ValueError(\u001b[0m\n",
      "\u001b[1;31mValueError\u001b[0m\u001b[1;31m:\u001b[0m x_vec and y_vec have incompatible dimensions.\n",
      "x_vec has 2 dimensions, but y_vec has 3.\n",
      "\n",
      "Use %tb to get the full traceback.\n"
     ]
    },
    {
     "data": {
      "text/html": [
       "\n",
       "<style>\n",
       ".button {\n",
       "  border: none;\n",
       "  color: white;\n",
       "  padding: 4px 8px;\n",
       "  text-align: center;\n",
       "  text-decoration: none;\n",
       "  display: inline-block;\n",
       "  font-size: 12px;\n",
       "  margin: 4px 2px;\n",
       "  transition-duration: 0.2s;\n",
       "  cursor: pointer;\n",
       "}\n",
       ".iqx-button {\n",
       "  background-color: #0f62fe; \n",
       "  color: white; \n",
       "}\n",
       ".iqx-button:hover {\n",
       "  background-color: #0043ce;\n",
       "  color: white;\n",
       "}\n",
       "</style>\n",
       "<a href=\"https://stackoverflow.com/search?q=ValueError: x_vec and y_vec have incompatible dimensions.\n",
       "x_vec has 2 dimensions, but y_vec has 3.\" target='_blank'><button class='button iqx-button'>Search for solution online</button></a>\n"
      ],
      "text/plain": [
       "<IPython.core.display.HTML object>"
      ]
     },
     "metadata": {},
     "output_type": "display_data"
    }
   ],
   "source": [
    "from sklearn.inspection import DecisionBoundaryDisplay\n",
    "print(X_test.shape)\n",
    "# DecisionBoundaryDisplay.from_estimator(\n",
    "#     qsvc_model, X_test, alpha=0.4, response_method=\"predict\"\n",
    "# )\n",
    "\n",
    "disp = DecisionBoundaryDisplay.from_estimator(\n",
    "    qsvc_model, X_test, response_method=\"predict\",\n",
    "    xlabel=\"wind_exposure\", ylabel=\"sun_exposure\",\n",
    "    alpha=0.5,\n",
    ")\n",
    "disp.ax_.scatter(X_test[:, 0], X_test[:, 1], c=y_test, edgecolor=\"k\")\n",
    "\n",
    "plt.show()"
   ]
  },
  {
   "cell_type": "code",
   "execution_count": 28,
   "id": "84e837a0-9f51-4989-b891-6021ce04ae4b",
   "metadata": {},
   "outputs": [
    {
     "data": {
      "image/png": "[encoded data removed]",
      "text/plain": [
       "<Figure size 432x288 with 1 Axes>"
      ]
     },
     "metadata": {},
     "output_type": "display_data"
    }
   ],
   "source": [
    "from sklearn.datasets import load_iris\n",
    "from sklearn.linear_model import LogisticRegression\n",
    "iris = load_iris()\n",
    "X = iris.data[:, :2]\n",
    "classifier = LogisticRegression().fit(X, iris.target)\n",
    "disp = DecisionBoundaryDisplay.from_estimator(\n",
    "    classifier, X, response_method=\"predict\",\n",
    "    xlabel=iris.feature_names[0], ylabel=iris.feature_names[1],\n",
    "    alpha=0.5,\n",
    ")\n",
    "disp.ax_.scatter(X[:, 0], X[:, 1], c=iris.target, edgecolor=\"k\")\n",
    "plt.show()"
   ]
  },
  {
   "cell_type": "code",
   "execution_count": 50,
   "id": "a9013918-1f0d-4b15-a21d-304144138d03",
   "metadata": {},
   "outputs": [],
   "source": [
    "import pickle\n",
    "\n",
    "# save the model to disk\n",
    "filename = 'finalized_model.sav'\n",
    "pickle.dump(qsvc_model, open(filename, 'wb'))"
   ]
  },
  {
   "cell_type": "code",
   "execution_count": 94,
   "id": "2a02fec7-8926-4e07-89a3-01666f78042e",
   "metadata": {},
   "outputs": [
    {
     "name": "stdout",
     "output_type": "stream",
     "text": [
      "0.8\n"
     ]
    }
   ],
   "source": [
    "# some time later...\n",
    " \n",
    "# load the model from disk\n",
    "loaded_model = pickle.load(open(filename, 'rb'))\n",
    "result = loaded_model.score(X_test, y_test)\n",
    "print(result)"
   ]
  },
  {
   "cell_type": "code",
   "execution_count": 95,
   "id": "0bec6e4d-10b6-4a4c-b7b0-787d097ee0a0",
   "metadata": {},
   "outputs": [
    {
     "data": {
      "text/plain": [
       "-0.1591859939469502"
      ]
     },
     "execution_count": 95,
     "metadata": {},
     "output_type": "execute_result"
    }
   ],
   "source": [
    "np.random.normal(0, .1)"
   ]
  },
  {
   "cell_type": "code",
   "execution_count": 97,
   "id": "94767c43-3046-46e0-8a30-52e3d2b36a7f",
   "metadata": {},
   "outputs": [
    {
     "name": "stdout",
     "output_type": "stream",
     "text": [
      "{'C': 1.0, 'break_ties': False, 'cache_size': 200, 'class_weight': None, 'coef0': 0.0, 'decision_function_shape': 'ovr', 'degree': 3, 'gamma': 'scale', 'kernel': <bound method QuantumKernel.evaluate of <qiskit_machine_learning.kernels.quantum_kernel.QuantumKernel object at 0x7f97d267cfa0>>, 'max_iter': -1, 'probability': False, 'random_state': None, 'shrinking': True, 'tol': 0.001, 'verbose': False}\n"
     ]
    }
   ],
   "source": [
    "print(loaded_model.get_params())"
   ]
  },
  {
   "cell_type": "code",
   "execution_count": 100,
   "id": "c8bf4d5f-7814-403a-b48d-5c4397219b70",
   "metadata": {},
   "outputs": [
    {
     "name": "stdout",
     "output_type": "stream",
     "text": [
      "{'C': 1.0, 'break_ties': False, 'cache_size': 200, 'class_weight': None, 'coef0': 0.0, 'decision_function_shape': 'ovr', 'degree': 3, 'gamma': 'scale', 'kernel': <bound method QuantumKernel.evaluate of <qiskit_machine_learning.kernels.quantum_kernel.QuantumKernel object at 0x7f97d535b2b0>>, 'max_iter': -1, 'probability': False, 'random_state': None, 'shrinking': True, 'tol': 0.001, 'verbose': False}\n",
      "Traceback \u001b[1;36m(most recent call last)\u001b[0m:\n",
      "\u001b[1;36m  Input \u001b[1;32mIn [100]\u001b[1;36m in \u001b[1;35m<cell line: 11>\u001b[1;36m\u001b[0m\n",
      "\u001b[1;33m    qsvc.set_params(trained_model.get_params())\u001b[0m\n",
      "\u001b[1;31mTypeError\u001b[0m\u001b[1;31m:\u001b[0m set_params() takes 1 positional argument but 2 were given\n",
      "\n",
      "Use %tb to get the full traceback.\n"
     ]
    },
    {
     "data": {
      "text/html": [
       "\n",
       "<style>\n",
       ".button {\n",
       "  border: none;\n",
       "  color: white;\n",
       "  padding: 4px 8px;\n",
       "  text-align: center;\n",
       "  text-decoration: none;\n",
       "  display: inline-block;\n",
       "  font-size: 12px;\n",
       "  margin: 4px 2px;\n",
       "  transition-duration: 0.2s;\n",
       "  cursor: pointer;\n",
       "}\n",
       ".iqx-button {\n",
       "  background-color: #0f62fe; \n",
       "  color: white; \n",
       "}\n",
       ".iqx-button:hover {\n",
       "  background-color: #0043ce;\n",
       "  color: white;\n",
       "}\n",
       "</style>\n",
       "<a href=\"https://stackoverflow.com/search?q=TypeError: set_params() takes 1 positional argument but 2 were given\" target='_blank'><button class='button iqx-button'>Search for solution online</button></a>\n"
      ],
      "text/plain": [
       "<IPython.core.display.HTML object>"
      ]
     },
     "metadata": {},
     "output_type": "display_data"
    }
   ],
   "source": [
    "filename = 'finalized_model.sav'\n",
    "trained_model = pickle.load(open(filename, 'rb'))\n",
    "feature_map = ZZFeatureMap(feature_dimension=3, reps=4, entanglement=\"linear\")\n",
    "backend = QuantumInstance(\n",
    "    BasicAer.get_backend(\"qasm_simulator\"), shots=16, seed_simulator=seed, seed_transpiler=seed\n",
    ")\n",
    "kernel = QuantumKernel(feature_map=feature_map, quantum_instance=backend)\n",
    "qsvc = SVC(kernel=kernel.evaluate)\n",
    "#print(qsvc.score(X_test, y_test))\n",
    "print(trained_model.get_params())\n",
    "qsvc.set_params(trained_model.get_params())\n",
    "print(qsvc.score(X_test, y_test))\n"
   ]
  },
  {
   "cell_type": "code",
   "execution_count": null,
   "id": "3ad3dff2-4ebc-4b29-a823-71f79193e7a6",
   "metadata": {},
   "outputs": [],
   "source": []
  }
 ],
 "metadata": {
  "kernelspec": {
   "display_name": "Python 3 (ipykernel)",
   "language": "python",
   "name": "python3"
  },
  "language_info": {
   "codemirror_mode": {
    "name": "ipython",
    "version": 3
   },
   "file_extension": ".py",
   "mimetype": "text/x-python",
   "name": "python",
   "nbconvert_exporter": "python",
   "pygments_lexer": "ipython3",
   "version": "3.8.13"
  },
  "widgets": {
   "application/vnd.jupyter.widget-state+json": {
    "state": {
     "06f1c21869284c97a72ae9774f3423ba": {
      "model_module": "@jupyter-widgets/controls",
      "model_module_version": "1.5.0",
      "model_name": "HTMLModel",
      "state": {
       "layout": "IPY_MODEL_e3f82ddff30543dda16649bcf4ec25d6",
       "style": "IPY_MODEL_fcd0d14cd43547beb5ea1da948ff81f9",
       "value": "<h5>Queue</h5>"
      }
     },
     "0ded5321fc0249f98fd0625e85082d29": {
      "model_module": "@jupyter-widgets/base",
      "model_module_version": "1.2.0",
      "model_name": "LayoutModel",
      "state": {
       "width": "145px"
      }
     },
     "1d5d8ba219c84e328acfdf6bdf416e2c": {
      "model_module": "@jupyter-widgets/base",
      "model_module_version": "1.2.0",
      "model_name": "LayoutModel",
      "state": {
       "margin": "0px 0px 0px 37px",
       "width": "600px"
      }
     },
     "272eff336b60456d85e11f3f91b448e3": {
      "model_module": "@jupyter-widgets/controls",
      "model_module_version": "1.5.0",
      "model_name": "DescriptionStyleModel",
      "state": {
       "description_width": ""
      }
     },
     "27e90a1e641f4a2ebe5898d77aa06dec": {
      "model_module": "@jupyter-widgets/controls",
      "model_module_version": "1.5.0",
      "model_name": "HTMLModel",
      "state": {
       "layout": "IPY_MODEL_f0a6585b640441a9b873d818bdb8fc21",
       "style": "IPY_MODEL_3b8b1cd7ea2148dfbee7be0c5d9fe6df",
       "value": "<p style='font-family: IBM Plex Sans, Arial, Helvetica, sans-serif; font-size: 20px; font-weight: medium;'>Circuit Properties</p>"
      }
     },
     "3a60683cf1e849c19348ba1309e40c63": {
      "model_module": "@jupyter-widgets/controls",
      "model_module_version": "1.5.0",
      "model_name": "HTMLModel",
      "state": {
       "layout": "IPY_MODEL_7384fc3fc4e241d4b5d094be9bb8f232",
       "style": "IPY_MODEL_c4e25e37e8fb40a9935ff6e74e0ed333",
       "value": "<h5>Status</h5>"
      }
     },
     "3b8b1cd7ea2148dfbee7be0c5d9fe6df": {
      "model_module": "@jupyter-widgets/controls",
      "model_module_version": "1.5.0",
      "model_name": "DescriptionStyleModel",
      "state": {
       "description_width": ""
      }
     },
     "4321a47e2bf347baa73b0ec3defda925": {
      "model_module": "@jupyter-widgets/controls",
      "model_module_version": "1.5.0",
      "model_name": "HTMLModel",
      "state": {
       "layout": "IPY_MODEL_0ded5321fc0249f98fd0625e85082d29",
       "style": "IPY_MODEL_272eff336b60456d85e11f3f91b448e3",
       "value": "<h5>Backend</h5>"
      }
     },
     "44fcfef308fc4ab89ae83e4a1664f12b": {
      "model_module": "@jupyter-widgets/base",
      "model_module_version": "1.2.0",
      "model_name": "LayoutModel",
      "state": {
       "width": "190px"
      }
     },
     "5cc49c7619ed45a9b5bf6aca9d93dd5a": {
      "model_module": "@jupyter-widgets/controls",
      "model_module_version": "1.5.0",
      "model_name": "ButtonModel",
      "state": {
       "button_style": "primary",
       "description": "Clear",
       "layout": "IPY_MODEL_6910c30a10544b789d0873d03571cad7",
       "style": "IPY_MODEL_c907a1b60dea47fab0124f20e541b655"
      }
     },
     "6910c30a10544b789d0873d03571cad7": {
      "model_module": "@jupyter-widgets/base",
      "model_module_version": "1.2.0",
      "model_name": "LayoutModel",
      "state": {
       "grid_area": "right",
       "padding": "0px 0px 0px 0px",
       "width": "70px"
      }
     },
     "7384fc3fc4e241d4b5d094be9bb8f232": {
      "model_module": "@jupyter-widgets/base",
      "model_module_version": "1.2.0",
      "model_name": "LayoutModel",
      "state": {
       "width": "95px"
      }
     },
     "88033b34a45a47978c0ef0af6ab3b528": {
      "model_module": "@jupyter-widgets/controls",
      "model_module_version": "1.5.0",
      "model_name": "HTMLModel",
      "state": {
       "layout": "IPY_MODEL_c92b3af6935e4077a788c3c922626206",
       "style": "IPY_MODEL_b2d2fc50008449de9f38aebdf2e1e068",
       "value": "<h5>Message</h5>"
      }
     },
     "887dd904951540288bfde6151d326992": {
      "model_module": "@jupyter-widgets/controls",
      "model_module_version": "1.5.0",
      "model_name": "HTMLModel",
      "state": {
       "layout": "IPY_MODEL_44fcfef308fc4ab89ae83e4a1664f12b",
       "style": "IPY_MODEL_c35e196186b7406baebe50cfc10aca78",
       "value": "<h5>Job ID</h5>"
      }
     },
     "a17e6de546684eeb83a399c050990b72": {
      "model_module": "@jupyter-widgets/base",
      "model_module_version": "1.2.0",
      "model_name": "LayoutModel",
      "state": {
       "grid_template_areas": "\n                                       \". . . . right \"\n                                        ",
       "grid_template_columns": "20% 20% 20% 20% 20%",
       "width": "100%"
      }
     },
     "a7146064f8814eff9af6aee442ecd78c": {
      "model_module": "@jupyter-widgets/controls",
      "model_module_version": "1.5.0",
      "model_name": "HBoxModel",
      "state": {
       "children": [
        "IPY_MODEL_887dd904951540288bfde6151d326992",
        "IPY_MODEL_4321a47e2bf347baa73b0ec3defda925",
        "IPY_MODEL_3a60683cf1e849c19348ba1309e40c63",
        "IPY_MODEL_06f1c21869284c97a72ae9774f3423ba",
        "IPY_MODEL_88033b34a45a47978c0ef0af6ab3b528"
       ],
       "layout": "IPY_MODEL_1d5d8ba219c84e328acfdf6bdf416e2c"
      }
     },
     "b2d2fc50008449de9f38aebdf2e1e068": {
      "model_module": "@jupyter-widgets/controls",
      "model_module_version": "1.5.0",
      "model_name": "DescriptionStyleModel",
      "state": {
       "description_width": ""
      }
     },
     "c35e196186b7406baebe50cfc10aca78": {
      "model_module": "@jupyter-widgets/controls",
      "model_module_version": "1.5.0",
      "model_name": "DescriptionStyleModel",
      "state": {
       "description_width": ""
      }
     },
     "c4e25e37e8fb40a9935ff6e74e0ed333": {
      "model_module": "@jupyter-widgets/controls",
      "model_module_version": "1.5.0",
      "model_name": "DescriptionStyleModel",
      "state": {
       "description_width": ""
      }
     },
     "c907a1b60dea47fab0124f20e541b655": {
      "model_module": "@jupyter-widgets/controls",
      "model_module_version": "1.5.0",
      "model_name": "ButtonStyleModel",
      "state": {}
     },
     "c92b3af6935e4077a788c3c922626206": {
      "model_module": "@jupyter-widgets/base",
      "model_module_version": "1.2.0",
      "model_name": "LayoutModel",
      "state": {}
     },
     "e3f82ddff30543dda16649bcf4ec25d6": {
      "model_module": "@jupyter-widgets/base",
      "model_module_version": "1.2.0",
      "model_name": "LayoutModel",
      "state": {
       "width": "70px"
      }
     },
     "f0a6585b640441a9b873d818bdb8fc21": {
      "model_module": "@jupyter-widgets/base",
      "model_module_version": "1.2.0",
      "model_name": "LayoutModel",
      "state": {
       "margin": "0px 0px 10px 0px"
      }
     },
     "f6ed2932d63d4cdd95edbf01b46447ba": {
      "model_module": "@jupyter-widgets/controls",
      "model_module_version": "1.5.0",
      "model_name": "GridBoxModel",
      "state": {
       "children": [
        "IPY_MODEL_5cc49c7619ed45a9b5bf6aca9d93dd5a"
       ],
       "layout": "IPY_MODEL_a17e6de546684eeb83a399c050990b72"
      }
     },
     "fcd0d14cd43547beb5ea1da948ff81f9": {
      "model_module": "@jupyter-widgets/controls",
      "model_module_version": "1.5.0",
      "model_name": "DescriptionStyleModel",
      "state": {
       "description_width": ""
      }
     }
    },
    "version_major": 2,
    "version_minor": 0
   }
  }
 },
 "nbformat": 4,
 "nbformat_minor": 5
}
