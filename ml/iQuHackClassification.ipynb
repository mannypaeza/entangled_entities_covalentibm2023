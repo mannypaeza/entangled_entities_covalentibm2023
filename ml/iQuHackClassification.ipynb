{
 "cells": [
  {
   "cell_type": "code",
   "execution_count": 63,
   "id": "312bbd4b-3be6-48f1-ad38-4cd063874a75",
   "metadata": {},
   "outputs": [
    {
     "name": "stderr",
     "output_type": "stream",
     "text": [
      "ibmqfactory.load_account:WARNING:2023-01-29 06:32:24,527: Credentials are already in use. The existing account in the session will be replaced.\n"
     ]
    }
   ],
   "source": [
    "import numpy as np\n",
    "\n",
    "# Importing standard Qiskit libraries\n",
    "from qiskit import QuantumCircuit, transpile, Aer, IBMQ\n",
    "from qiskit.tools.jupyter import *\n",
    "from qiskit.visualization import *\n",
    "from ibm_quantum_widgets import *\n",
    "from qiskit.providers.aer import QasmSimulator\n",
    "\n",
    "# Loading your IBM Quantum account(s)\n",
    "provider = IBMQ.load_account()"
   ]
  },
  {
   "cell_type": "code",
   "execution_count": 64,
   "id": "d8a36215-0bbf-4c49-b363-85a321c0d6c4",
   "metadata": {},
   "outputs": [
    {
     "name": "stdout",
     "output_type": "stream",
     "text": [
      "Overwriting train_power_classifier.py\n"
     ]
    }
   ],
   "source": [
    "%%writefile train_power_classifier.py\n",
    "import numpy as np\n",
    "import pandas as pd\n",
    "# Importing standard Qiskit libraries\n",
    "from qiskit import QuantumCircuit, transpile, Aer, IBMQ, execute\n",
    "from qiskit.visualization import *\n",
    "from qiskit_ibm_runtime.program import UserMessenger\n",
    "from scipy.optimize import dual_annealing\n",
    "import statistics\n",
    "\n",
    "\n",
    "def main(backend, user_messenger, data, num_gate_layers, maxiter):\n",
    "    results = {}\n",
    "    training_result = dual_annealing(lambda param: loss_function(param, backend=backend, user_messenger=user_messenger, data=data), [(0, 1)] * num_gate_layers * 3, maxiter=maxiter)\n",
    "    results[str(n) + \", \" + str(i)] = {\"num_params\": num_gate_layers, \"maxiter\": maxiter, \"training\":training_result}\n",
    "    return results\n",
    "\n",
    "iteration_count = 0\n",
    "\n",
    "def loss_function(parameters, backend=None, user_messenger=None, data=None):\n",
    "    \"\"\"\n",
    "\n",
    "    :param parameters: A 1D array of parameters\n",
    "    :param data: A Dataframe of training examples\n",
    "    :return: Average classification error over all examples in the data.\n",
    "    \"\"\"\n",
    "    \n",
    "    np.random.shuffle(data)\n",
    "    examples = data[:10]\n",
    "    losses = []\n",
    "    for ex in examples:\n",
    "        losses.append(compute_single_loss(parameters, ex, backend))\n",
    "    loss = statistics.mean(losses)\n",
    "    global iteration_count\n",
    "    iteration_count += 1\n",
    "    return loss\n",
    "\n",
    "def compute_single_loss(parameters, example, backend):\n",
    "    \"\"\"\n",
    "    Example includes features and label. Returns classification error [0.0, 1.0]\n",
    "    \"\"\"\n",
    "    qc = QuantumCircuit(3)\n",
    "    embed_example(qc, example)\n",
    "    apply_parameters(qc, parameters)\n",
    "    result = run_circuit(qc, backend)\n",
    "    return compute_loss(result, example)\n",
    "\n",
    "def embed_example(circuit, example):\n",
    "    circuit.rx(np.pi * example[0], 0)\n",
    "    circuit.rx(np.pi * example[1], 1)\n",
    "    circuit.rx(np.pi * example[2], 2)\n",
    "\n",
    "def apply_parameters(circuit, parameters):\n",
    "    # TODO: use full range\n",
    "    layers = np.reshape(parameters, (int(len(parameters)/3), 3))\n",
    "    layer_count = 1\n",
    "    for layer in layers:\n",
    "        for gate in range(len(layer)):\n",
    "            if layer_count % 3 == 0:\n",
    "                circuit.rx(np.pi * layer[gate], gate)\n",
    "            elif layer_count % 3 == 1:\n",
    "                circuit.ry(np.pi * layer[gate], gate)\n",
    "            else:\n",
    "                circuit.rz(np.pi * layer[gate], gate)\n",
    "        circuit.cx(0,1)\n",
    "        circuit.cx(1,2)\n",
    "        circuit.cx(2,0)\n",
    "        layer_count += 1\n",
    "        circuit.barrier()\n",
    "    circuit.measure_all()\n",
    "\n",
    "def run_circuit(circuit, backend):\n",
    "\n",
    "    num_shots = 1024\n",
    "    job = execute(circuit,\n",
    "                  shots=num_shots,\n",
    "                  backend=backend)\n",
    "\n",
    "    # Return the measured counts\n",
    "    return job.result().get_counts()\n",
    "\n",
    "def compute_loss(result, example):\n",
    "    \"\"\"\n",
    "    Gives percentage of classification error based on quantum computer predictions\n",
    "    \"\"\"\n",
    "    correct_count = 0\n",
    "    # Majority vote, compute # of runs that vote for the right label across all measurements\n",
    "    for measurement in result:\n",
    "        # Determine vote\n",
    "        vote = 0\n",
    "        if measurement.count('1') > measurement.count('0'):\n",
    "            vote = 1\n",
    "        if vote == example[3]:\n",
    "            correct_count += result[measurement]\n",
    "\n",
    "    total_count = sum(result.values())\n",
    "    return (total_count - correct_count) / total_count"
   ]
  },
  {
   "cell_type": "code",
   "execution_count": 65,
   "id": "0a6aa015-60c5-474b-975c-063e5f65a34d",
   "metadata": {},
   "outputs": [],
   "source": [
    "# from qiskit_ibm_runtime import QiskitRuntimeService\n",
    "\n",
    "# service = QiskitRuntimeService()\n",
    "# meta = {\n",
    "#     \"name\": \"power-danger-binary\",\n",
    "#     \"description\": \"Parameterized by num parameters and max iterations of dual annealing.\",\n",
    "#     \"max_execution_time\": 300000,\n",
    "#     \"spec\": {},\n",
    "# }\n",
    "# program_id = service.upload_program(data=\"train_power_classifier.py\", metadata=meta)\n",
    "# print(program_id)"
   ]
  },
  {
   "cell_type": "code",
   "execution_count": 66,
   "id": "7b274cd7-8366-445d-b26c-a7764e954a2e",
   "metadata": {},
   "outputs": [
    {
     "name": "stdout",
     "output_type": "stream",
     "text": [
      "power-danger-binary-56jewxa2XV:\n",
      "  Name: power-danger-binary\n",
      "  Description: Parameterized by num parameters and max iterations of dual annealing.\n",
      "  Creation date: 2023-01-29T06:08:45.142275Z\n",
      "  Update date: 2023-01-29T06:32:33.720382Z\n",
      "  Max execution time: 300000\n",
      "  Backend requirements:\n",
      "    none\n",
      "  Input parameters:\n",
      "    none\n",
      "  Interim results:\n",
      "    none\n",
      "  Returns:\n",
      "    none\n"
     ]
    }
   ],
   "source": [
    "service = QiskitRuntimeService()\n",
    "meta = {\n",
    "    \"name\": \"power-danger-binary\",\n",
    "    \"description\": \"Parameterized by num parameters and max iterations of dual annealing.\",\n",
    "    \"max_execution_time\": 300000,\n",
    "    \"spec\": {},\n",
    "}\n",
    "prog_id = 'power-danger-binary-56jewxa2XV'\n",
    "service.update_program(prog_id, data=\"train_power_classifier.py\", metadata=meta)\n",
    "prog = service.program(prog_id)\n",
    "print(prog)"
   ]
  },
  {
   "cell_type": "code",
   "execution_count": 67,
   "id": "24ab5bba-ec1b-4ed8-b35f-a0865d14130f",
   "metadata": {},
   "outputs": [
    {
     "name": "stdout",
     "output_type": "stream",
     "text": [
      "[[ 0.57527275  0.08224729 -1.23076435]\n",
      " [-0.33391741 -0.45231781  0.18188075]\n",
      " [-0.13007259 -1.55370375 -0.28671736]\n",
      " [-0.01791477 -0.71276368 -0.05739586]\n",
      " [-2.3166851  -0.19425537  1.60066718]\n",
      " [ 1.30286007  0.04542252 -1.2460973 ]\n",
      " [ 0.76006083 -1.32699332  0.5612395 ]\n",
      " [-2.58308449 -0.32520964 -0.77430997]\n",
      " [-1.1228882   0.07078341 -0.87484126]\n",
      " [-0.55518824 -0.45258028  0.9240625 ]]\n",
      "[[0 0 1 0 1 1 1 0 1 1]]\n"
     ]
    },
    {
     "data": {
      "text/plain": [
       "array([[ 0.57527275,  0.08224729, -1.23076435,  0.        ],\n",
       "       [-0.33391741, -0.45231781,  0.18188075,  0.        ],\n",
       "       [-0.13007259, -1.55370375, -0.28671736,  1.        ],\n",
       "       [-0.01791477, -0.71276368, -0.05739586,  0.        ],\n",
       "       [-2.3166851 , -0.19425537,  1.60066718,  1.        ],\n",
       "       [ 1.30286007,  0.04542252, -1.2460973 ,  1.        ],\n",
       "       [ 0.76006083, -1.32699332,  0.5612395 ,  1.        ],\n",
       "       [-2.58308449, -0.32520964, -0.77430997,  0.        ],\n",
       "       [-1.1228882 ,  0.07078341, -0.87484126,  1.        ],\n",
       "       [-0.55518824, -0.45258028,  0.9240625 ,  1.        ]])"
      ]
     },
     "execution_count": 67,
     "metadata": {},
     "output_type": "execute_result"
    }
   ],
   "source": [
    "fake_train_data = np.random.randn(10,3)\n",
    "print(fake_train_data)\n",
    "\n",
    "fake_labels = np.array([np.random.randint(2, size=10)])\n",
    "print(fake_labels)\n",
    "\n",
    "np.concatenate((fake_train_data, fake_labels.T), axis=1)"
   ]
  },
  {
   "cell_type": "code",
   "execution_count": 69,
   "id": "b492d911-2217-4e25-94c3-391eaa2ed32e",
   "metadata": {},
   "outputs": [],
   "source": [
    "inputs = {}\n",
    "inputs[\"data\"] = np.concatenate((fake_train_data, fake_labels.T), axis=1)\n",
    "inputs[\"num_gate_layers\"] = 10\n",
    "inputs[\"maxiter\"] = 2\n",
    "interim_results = []\n",
    "def vqe_callback(job_id, data):\n",
    "    interim_results.append(data)\n",
    "\n",
    "options = {\"backend_name\": \"ibmq_qasm_simulator\"}"
   ]
  },
  {
   "cell_type": "code",
   "execution_count": 70,
   "id": "bc02e491-aa05-4a9f-ac2d-3dbefc77def1",
   "metadata": {},
   "outputs": [],
   "source": [
    "job = service.run(prog_id, options=options, inputs=inputs, callback=vqe_callback)"
   ]
  },
  {
   "cell_type": "code",
   "execution_count": 71,
   "id": "796f5d4f-8dff-4026-b979-01dfb352353f",
   "metadata": {},
   "outputs": [],
   "source": [
    "job.result()"
   ]
  },
  {
   "cell_type": "code",
   "execution_count": 99,
   "id": "ec897a6d-7bad-4710-bfd5-0196853e1881",
   "metadata": {},
   "outputs": [],
   "source": [
    "import numpy as np\n",
    "import pandas as pd\n",
    "# Importing standard Qiskit libraries\n",
    "from qiskit import QuantumCircuit, transpile, Aer, IBMQ, execute\n",
    "from qiskit.visualization import *\n",
    "from qiskit_ibm_runtime.program import UserMessenger\n",
    "from scipy.optimize import dual_annealing\n",
    "import statistics\n",
    "\n",
    "\n",
    "def main(backend, user_messenger, data, num_gate_layers, maxiter):\n",
    "    results = {}\n",
    "    training_result = dual_annealing(lambda param: loss_function(param, backend=backend, user_messenger=user_messenger, data=data), [(0, 1)] * num_gate_layers * 3, maxiter=maxiter)\n",
    "    results[str(num_gate_layers) + \", \" + str(maxiter)] = {\"num_params\": num_gate_layers, \"maxiter\": maxiter, \"training\":training_result}\n",
    "    return results\n",
    "\n",
    "iteration_count = 0\n",
    "\n",
    "def loss_function(parameters, backend=None, user_messenger=None, data=None):\n",
    "    \"\"\"\n",
    "\n",
    "    :param parameters: A 1D array of parameters\n",
    "    :param data: A Dataframe of training examples\n",
    "    :return: Average classification error over all examples in the data.\n",
    "    \"\"\"\n",
    "    np.random.shuffle(data)\n",
    "    examples = data[:10]\n",
    "    losses = []\n",
    "    for ex in examples:\n",
    "        losses += [compute_single_loss(parameters, ex, backend)]\n",
    "    loss = statistics.mean(losses)\n",
    "    global iteration_count\n",
    "    iteration_count += 1\n",
    "    if iteration_count % 20 == 0:\n",
    "        print(\"loss func iteration\", iteration_count)\n",
    "        print(loss)\n",
    "    return loss\n",
    "\n",
    "def compute_single_loss(parameters, example, backend):\n",
    "    \"\"\"\n",
    "    Example includes features and label. Returns classification error [0.0, 1.0]\n",
    "    \"\"\"\n",
    "    qc = QuantumCircuit(3)\n",
    "    embed_example(qc, example)\n",
    "    apply_parameters(qc, parameters)\n",
    "    result = run_circuit(qc, backend)\n",
    "    return compute_loss(result, example)\n",
    "\n",
    "def embed_example(circuit, example):\n",
    "    circuit.rx(np.pi * example[0], 0)\n",
    "    circuit.rx(np.pi * example[1], 1)\n",
    "    circuit.rx(np.pi * example[2], 2)\n",
    "\n",
    "def apply_parameters(circuit, parameters):\n",
    "    # TODO: use full range\n",
    "    layers = np.reshape(parameters, (int(len(parameters)/3), 3))\n",
    "    layer_count = 1\n",
    "    for layer in layers:\n",
    "        for gate in range(len(layer)):\n",
    "            if layer_count % 3 == 0:\n",
    "                circuit.rx(np.pi * layer[gate], gate)\n",
    "            elif layer_count % 3 == 1:\n",
    "                circuit.ry(np.pi * layer[gate], gate)\n",
    "            else:\n",
    "                circuit.rz(np.pi * layer[gate], gate)\n",
    "        circuit.cx(0,1)\n",
    "        circuit.cx(1,2)\n",
    "        circuit.cx(2,0)\n",
    "        layer_count += 1\n",
    "        circuit.barrier()\n",
    "    circuit.measure_all()\n",
    "\n",
    "def run_circuit(circuit, backend):\n",
    "\n",
    "    num_shots = 500\n",
    "    job = execute(circuit,\n",
    "                  shots=num_shots,\n",
    "                  backend=backend)\n",
    "\n",
    "    # Return the measured counts\n",
    "    return job.result().get_counts()\n",
    "\n",
    "def compute_loss(result, example):\n",
    "    \"\"\"\n",
    "    Gives percentage of classification error based on quantum computer predictions\n",
    "    \"\"\"\n",
    "    correct_count = 0\n",
    "    # Majority vote, compute # of runs that vote for the right label across all measurements\n",
    "    for measurement in result:\n",
    "        # Determine vote\n",
    "        vote = 0\n",
    "        if measurement.count('1') > measurement.count('0'):\n",
    "            vote = 1\n",
    "        if vote == example[3]:\n",
    "            correct_count += result[measurement]\n",
    "\n",
    "    total_count = sum(result.values())\n",
    "    return (total_count - correct_count) / total_count"
   ]
  },
  {
   "cell_type": "code",
   "execution_count": 100,
   "id": "291ce9ee-d66e-4361-8456-a43d0f550194",
   "metadata": {},
   "outputs": [
    {
     "data": {
      "text/plain": [
       "(100, 4)"
      ]
     },
     "execution_count": 100,
     "metadata": {},
     "output_type": "execute_result"
    }
   ],
   "source": [
    "from sklearn import datasets\n",
    "iris = datasets.load_iris()\n",
    "X = iris.data[:, :2][:100]  # we only take the first two features.\n",
    "y = iris.target[:100]\n",
    "\n",
    "X_extra = np.concatenate((X, np.array([[0]*100]).T), axis=1)\n",
    "\n",
    "iris_data = np.concatenate((X_extra, np.array([y]).T), axis=1) \n",
    "iris_data.shape"
   ]
  },
  {
   "cell_type": "code",
   "execution_count": 101,
   "id": "117716f4-f781-4c08-a777-3ff8d818ec89",
   "metadata": {},
   "outputs": [
    {
     "name": "stdout",
     "output_type": "stream",
     "text": [
      "loss func iteration 20\n",
      "0.429\n",
      "loss func iteration 40\n",
      "0.5612\n",
      "loss func iteration 60\n",
      "0.5946\n",
      "loss func iteration 80\n",
      "0.4158\n",
      "loss func iteration 100\n",
      "0.4954\n",
      "loss func iteration 120\n",
      "0.5196\n",
      "loss func iteration 140\n",
      "0.5478\n",
      "loss func iteration 160\n",
      "0.4946\n",
      "loss func iteration 180\n",
      "0.388\n",
      "loss func iteration 200\n",
      "0.431\n",
      "loss func iteration 220\n",
      "0.3612\n",
      "loss func iteration 240\n",
      "0.4446\n",
      "loss func iteration 260\n",
      "0.4622\n",
      "loss func iteration 280\n",
      "0.43119999999999997\n",
      "loss func iteration 300\n",
      "0.579\n",
      "loss func iteration 320\n",
      "0.4638\n",
      "loss func iteration 340\n",
      "0.525\n",
      "loss func iteration 360\n",
      "0.6258\n"
     ]
    },
    {
     "data": {
      "text/plain": [
       "{'4, 2': {'num_params': 4,\n",
       "  'maxiter': 2,\n",
       "  'training':      fun: 0.3446\n",
       "   message: ['Maximum number of iteration reached']\n",
       "      nfev: 361\n",
       "      nhev: 0\n",
       "       nit: 2\n",
       "      njev: 24\n",
       "    status: 0\n",
       "   success: True\n",
       "         x: array([0.8683269 , 0.39393166, 0.47681407, 0.30033276, 0.97830805,\n",
       "         0.52097628, 0.99194506, 0.92128744, 0.57695905, 0.36047569,\n",
       "         0.83097868, 0.47035325])}}"
      ]
     },
     "execution_count": 101,
     "metadata": {},
     "output_type": "execute_result"
    }
   ],
   "source": [
    "# inputs = {}\n",
    "# inputs[\"data\"] = np.concatenate((fake_train_data, fake_labels.T), axis=1)\n",
    "# inputs[\"num_gate_layers\"] = 10\n",
    "# inputs[\"maxiter\"] = 20\n",
    "# interim_results = []\n",
    "# def vqe_callback(job_id, data):\n",
    "#     interim_results.append(data)\n",
    "\n",
    "# options = {\"backend_name\": \"ibmq_qasm_simulator\"}\n",
    "# main(Aer.get_backend('aer_simulator'), None, np.concatenate((fake_train_data, fake_labels.T), axis=1), 2, 2)\n",
    "main(Aer.get_backend('aer_simulator'), None, iris_data, 4, 2)"
   ]
  },
  {
   "cell_type": "code",
   "execution_count": 103,
   "id": "2db06081-fc52-4172-9f75-1fc7f5babf38",
   "metadata": {},
   "outputs": [
    {
     "name": "stdout",
     "output_type": "stream",
     "text": [
      "Traceback \u001b[1;36m(most recent call last)\u001b[0m:\n",
      "\u001b[1;36m  Input \u001b[1;32mIn [103]\u001b[1;36m in \u001b[1;35m<cell line: 10>\u001b[1;36m\u001b[0m\n",
      "\u001b[1;33m    plt.xlim(x_min, x_max)\u001b[0m\n",
      "\u001b[1;31mNameError\u001b[0m\u001b[1;31m:\u001b[0m name 'x_min' is not defined\n",
      "\n",
      "Use %tb to get the full traceback.\n"
     ]
    },
    {
     "data": {
      "text/html": [
       "\n",
       "<style>\n",
       ".button {\n",
       "  border: none;\n",
       "  color: white;\n",
       "  padding: 4px 8px;\n",
       "  text-align: center;\n",
       "  text-decoration: none;\n",
       "  display: inline-block;\n",
       "  font-size: 12px;\n",
       "  margin: 4px 2px;\n",
       "  transition-duration: 0.2s;\n",
       "  cursor: pointer;\n",
       "}\n",
       ".iqx-button {\n",
       "  background-color: #0f62fe; \n",
       "  color: white; \n",
       "}\n",
       ".iqx-button:hover {\n",
       "  background-color: #0043ce;\n",
       "  color: white;\n",
       "}\n",
       "</style>\n",
       "<a href=\"https://stackoverflow.com/search?q=NameError: name 'x_min' is not defined\" target='_blank'><button class='button iqx-button'>Search for solution online</button></a>\n"
      ],
      "text/plain": [
       "<IPython.core.display.HTML object>"
      ]
     },
     "metadata": {},
     "output_type": "display_data"
    },
    {
     "data": {
      "image/png": "[encoded data removed]",
      "text/plain": [
       "<Figure size 576x432 with 1 Axes>"
      ]
     },
     "metadata": {
      "needs_background": "light"
     },
     "output_type": "display_data"
    }
   ],
   "source": [
    "import matplotlib.pyplot as plt\n",
    "plt.figure(2, figsize=(8, 6))\n",
    "plt.clf()\n",
    "\n",
    "# Plot the training points\n",
    "plt.scatter(X[:, 0], X[:, 1], c=y, cmap=plt.cm.Set1, edgecolor=\"k\")\n",
    "plt.xlabel(\"Sepal length\")\n",
    "plt.ylabel(\"Sepal width\")\n",
    "\n",
    "plt.xlim(x_min, x_max)\n",
    "plt.ylim(y_min, y_max)\n",
    "plt.xticks(())\n",
    "plt.yticks(())"
   ]
  },
  {
   "cell_type": "code",
   "execution_count": 104,
   "id": "8a684c54-b5ac-4d6d-992a-d8965ba52f2a",
   "metadata": {},
   "outputs": [
    {
     "name": "stdout",
     "output_type": "stream",
     "text": [
      "Writing predict_power_classifier.py\n"
     ]
    }
   ],
   "source": [
    "%%writefile predict_power_classifier.py\n",
    "\n",
    "def predict_trouble(parameters = [0.8683269 , 0.39393166, 0.47681407, 0.30033276, 0.97830805, 0.52097628, 0.99194506, 0.92128744, 0.57695905, 0.36047569,0.83097868, 0.47035325], \n",
    "                    example):\n",
    "    qc = QuantumCircuit(3)\n",
    "    embed_example(qc, example)\n",
    "    apply_parameters(qc, parameters)\n",
    "    result = run_circuit(qc, Aer.get_backend(\"aer_simulator\"))\n",
    "    return make_prediction(result)\n",
    "                        \n",
    "\n",
    "def embed_example(circuit, example):\n",
    "    circuit.rx(np.pi * example[0], 0)\n",
    "    circuit.rx(np.pi * example[1], 1)\n",
    "    circuit.rx(np.pi * example[2], 2)\n",
    "\n",
    "def apply_parameters(circuit, parameters):\n",
    "    # TODO: use full range\n",
    "    layers = np.reshape(parameters, (int(len(parameters)/3), 3))\n",
    "    layer_count = 1\n",
    "    for layer in layers:\n",
    "        for gate in range(len(layer)):\n",
    "            if layer_count % 3 == 0:\n",
    "                circuit.rx(np.pi * layer[gate], gate)\n",
    "            elif layer_count % 3 == 1:\n",
    "                circuit.ry(np.pi * layer[gate], gate)\n",
    "            else:\n",
    "                circuit.rz(np.pi * layer[gate], gate)\n",
    "        circuit.cx(0,1)\n",
    "        circuit.cx(1,2)\n",
    "        circuit.cx(2,0)\n",
    "        layer_count += 1\n",
    "        circuit.barrier()\n",
    "    circuit.measure_all()\n",
    "\n",
    "def run_circuit(circuit, backend):\n",
    "\n",
    "    num_shots = 500\n",
    "    job = execute(circuit,\n",
    "                  shots=num_shots,\n",
    "                  backend=backend)\n",
    "\n",
    "    # Return the measured counts\n",
    "    return job.result().get_counts()\n",
    "\n",
    "def make_prediction(result):\n",
    "    count_0 = 0\n",
    "    count_1 = 0\n",
    "    for measurement in result:\n",
    "        # Determine vote\n",
    "        if measurement.count('1') > measurement.count('0'):\n",
    "            count_1 += result[measurement]\n",
    "        else:\n",
    "            count0 += result[measurement]\n",
    "    if count_1 > count_0:\n",
    "        return 1\n",
    "    else:\n",
    "        return 0"
   ]
  },
  {
   "cell_type": "code",
   "execution_count": 6,
   "id": "62d89435-e054-410e-bbbc-96c6e8340b78",
   "metadata": {},
   "outputs": [
    {
     "name": "stdout",
     "output_type": "stream",
     "text": [
      "{'0': 498, '1': 502}\n"
     ]
    }
   ],
   "source": [
    "from qiskit import QuantumCircuit, transpile, Aer, IBMQ, execute\n",
    "\n",
    "qc = QuantumCircuit(1)\n",
    "qc.h(0)\n",
    "qc.measure_all()\n",
    "job = execute(qc, shots=1000, backend=Aer.get_backend(\"aer_simulator\"))\n",
    "# Return the measured counts\n",
    "print(job.result().get_counts())"
   ]
  },
  {
   "cell_type": "code",
   "execution_count": null,
   "id": "60204b00-1a85-4b2b-aaa1-7aaeb59a1aa2",
   "metadata": {},
   "outputs": [],
   "source": []
  }
 ],
 "metadata": {
  "kernelspec": {
   "display_name": "Python 3 (ipykernel)",
   "language": "python",
   "name": "python3"
  },
  "language_info": {
   "codemirror_mode": {
    "name": "ipython",
    "version": 3
   },
   "file_extension": ".py",
   "mimetype": "text/x-python",
   "name": "python",
   "nbconvert_exporter": "python",
   "pygments_lexer": "ipython3",
   "version": "3.8.13"
  },
  "widgets": {
   "application/vnd.jupyter.widget-state+json": {
    "state": {},
    "version_major": 2,
    "version_minor": 0
   }
  }
 },
 "nbformat": 4,
 "nbformat_minor": 5
}
