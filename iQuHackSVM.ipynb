{
 "cells": [
  {
   "cell_type": "code",
   "execution_count": 1,
   "id": "d05cdede-385b-49ed-a824-a8864d3afce6",
   "metadata": {},
   "outputs": [
    {
     "name": "stderr",
     "output_type": "stream",
     "text": [
      "<frozen importlib._bootstrap>:219: RuntimeWarning: scipy._lib.messagestream.MessageStream size changed, may indicate binary incompatibility. Expected 56 from C header, got 64 from PyObject\n"
     ]
    }
   ],
   "source": [
    "import numpy as np\n",
    "\n",
    "# Importing standard Qiskit libraries\n",
    "from qiskit import QuantumCircuit, transpile, Aer, IBMQ\n",
    "from qiskit.tools.jupyter import *\n",
    "from qiskit.visualization import *\n",
    "from ibm_quantum_widgets import *\n",
    "from qiskit.providers.aer import QasmSimulator\n",
    "\n",
    "# Loading your IBM Quantum account(s)\n",
    "provider = IBMQ.load_account()"
   ]
  },
  {
   "cell_type": "code",
   "execution_count": 2,
   "id": "f8586d5e-e596-4995-8363-1e344d360257",
   "metadata": {},
   "outputs": [],
   "source": [
    "# Import plotting library\n",
    "import matplotlib.pyplot as plt\n",
    "\n",
    "# Set global plot background color\n",
    "plt.rcParams[\"figure.facecolor\"] = \"w\"\n",
    "\n",
    "# Import for SVM classifier\n",
    "from sklearn.svm import SVC\n",
    "\n",
    "# Imports for dataset and model selection\n",
    "from sklearn import datasets\n",
    "from sklearn.model_selection import train_test_split\n",
    "from sklearn.metrics import ConfusionMatrixDisplay, confusion_matrix\n",
    "\n",
    "# Imports for QSVC classifier\n",
    "from qiskit import BasicAer\n",
    "from qiskit.circuit.library import ZZFeatureMap\n",
    "from qiskit.utils import QuantumInstance, algorithm_globals\n",
    "from qiskit_machine_learning.kernels import QuantumKernel\n",
    "\n",
    "# Set the random seed for QSVC\n",
    "seed = 12345\n",
    "algorithm_globals.random_seed = seed"
   ]
  },
  {
   "cell_type": "code",
   "execution_count": 25,
   "id": "7e28d696-1779-44cc-a0ee-3d16177ca2e0",
   "metadata": {},
   "outputs": [
    {
     "name": "stdout",
     "output_type": "stream",
     "text": [
      "[ 0.  0.  1.  1.  0.  0.  0.  0.  1.  1.  1.  0.  0.  1. -0.  1.  0.  0.\n",
      "  0.  0.  1.  1.  0.  0.  0.  1. -0.  0.  0.  1.  1.  1.  0.  1.  1.  0.\n",
      "  0.  0.  1.  0.  0.  0.  0.  1.  0.  0.  0.  1.  0.  1.  1.  0.  1.  0.\n",
      "  0.  1.  1.  1.  1.  1.  0.  1.  0.  0.  1.  1.  1.  0.  0.  0.  1.  0.\n",
      "  1. -0.  1.  1.  1.  1.  1.  1.  1.  0.  0.  0.  1.  1.  0.  1.  1.  0.\n",
      "  1.  0.  0.  0. -0.  1.  1.  1.  0.  1.]\n"
     ]
    }
   ],
   "source": [
    "features = np.random.rand(100, 3)\n",
    "label = np.array([np.round(sum(f)/3.0 + np.random.normal(0, .25)) for f in features])\n",
    "\n",
    "print(label)"
   ]
  },
  {
   "cell_type": "code",
   "execution_count": 52,
   "id": "e793f6b7-83c9-46a0-b78b-2d57789068a1",
   "metadata": {},
   "outputs": [
    {
     "data": {
      "text/plain": [
       "array([1, 1, 1, 0, 1, 1, 0, 0, 1, 0, 1, 0, 1, 1, 0, 1, 0, 0, 1, 1, 1, 0,\n",
       "       1, 1, 1, 0, 0, 0, 0, 0, 1, 1, 0, 1, 1, 0, 0, 1, 0, 0, 0, 0, 0, 1,\n",
       "       0, 0, 0, 1, 1, 0, 1, 0, 1, 1, 0, 0, 0, 0, 1, 0, 0, 0, 0, 1, 1, 1,\n",
       "       1, 0, 1, 1, 0, 0, 0, 1, 1, 1, 0, 1, 0, 0, 1, 0, 0, 0, 1, 1, 1, 1,\n",
       "       1, 0, 0, 0, 0, 0, 0, 1, 1, 1, 0, 0])"
      ]
     },
     "execution_count": 52,
     "metadata": {},
     "output_type": "execute_result"
    }
   ],
   "source": [
    "labels = np.array([0 if (sum(f)/3.0 + np.random.normal(0, .2)) < 0.5 else 1 for f in features])\n",
    "labels"
   ]
  },
  {
   "cell_type": "code",
   "execution_count": 81,
   "id": "90d7a204-81d2-4c8c-bb60-f77251c96d42",
   "metadata": {},
   "outputs": [],
   "source": [
    "def get_data():    \n",
    "    features = np.random.rand(100, 3)\n",
    "    labels = np.array([0 if (sum(f)/3.0 + np.random.normal(0, .1)) < 0.5 else 1 for f in features])\n",
    "    return features, labels\n",
    "\n",
    "\n",
    "def split_train_test_data(X, y):\n",
    "    X_train, X_test, y_train, y_test = train_test_split(X, y, test_size=0.25, random_state=0)\n",
    "    return X_train, X_test, y_train, y_test\n",
    "\n",
    "\n",
    "def train_qsvc(X_train, y_train):\n",
    "    feature_map = ZZFeatureMap(feature_dimension=3, reps=4, entanglement=\"linear\")\n",
    "    backend = QuantumInstance(\n",
    "        BasicAer.get_backend(\"qasm_simulator\"), shots=16, seed_simulator=seed, seed_transpiler=seed\n",
    "    )\n",
    "    kernel = QuantumKernel(feature_map=feature_map, quantum_instance=backend)\n",
    "    qsvc = SVC(kernel=kernel.evaluate)\n",
    "    qsvc.fit(X_train, y_train)\n",
    "    import pickle\n",
    "\n",
    "    # save the model to disk\n",
    "    filename = 'finalized_model.sav'\n",
    "    pickle.dump(qsvc_model, open(filename, 'wb'))\n",
    "    return qsvc\n",
    "\n",
    "\n",
    "def predict_example(example):\n",
    "    import pickle\n",
    "    filename = 'finalized_model.sav'\n",
    "    trained_model = pickle.load(open(filename, 'rb'))\n",
    "    feature_map = ZZFeatureMap(feature_dimension=3, reps=4, entanglement=\"linear\")\n",
    "    backend = QuantumInstance(\n",
    "        BasicAer.get_backend(\"qasm_simulator\"), shots=16, seed_simulator=seed, seed_transpiler=seed\n",
    "    )\n",
    "    kernel = QuantumKernel(feature_map=feature_map, quantum_instance=backend)\n",
    "    qsvc = SVC(kernel=kernel.evaluate)\n",
    "    qsvc.set_params(trained_model.load_params())\n",
    "    return loaded_model.predict(example)"
   ]
  },
  {
   "cell_type": "code",
   "execution_count": 82,
   "id": "fbf7dccf-d722-42db-840b-cda23e44756a",
   "metadata": {},
   "outputs": [],
   "source": [
    "def train_workflow():\n",
    "    X, y = get_data()\n",
    "    X_train, X_test, y_train, y_test = split_train_test_data(X=X, y=y)\n",
    "    qsvc_model = train_qsvc(X_train=X_train, y_train=y_train)\n",
    "    return X_test, y_test, qsvc_model\n",
    "    "
   ]
  },
  {
   "cell_type": "code",
   "execution_count": 83,
   "id": "8ebf7138-f064-42fe-a480-1660d558123d",
   "metadata": {},
   "outputs": [
    {
     "name": "stdout",
     "output_type": "stream",
     "text": [
      "              precision    recall  f1-score   support\n",
      "\n",
      "           0       0.64      0.75      0.69        12\n",
      "           1       0.73      0.62      0.67        13\n",
      "\n",
      "    accuracy                           0.68        25\n",
      "   macro avg       0.69      0.68      0.68        25\n",
      "weighted avg       0.69      0.68      0.68        25\n",
      "\n"
     ]
    }
   ],
   "source": [
    "X_test, y_test, qsvc_model = workflow()\n",
    "y_pred = qsvc_model.predict(X_test)\n",
    "from sklearn.metrics import classification_report\n",
    "print(classification_report(y_test, y_pred))"
   ]
  },
  {
   "cell_type": "code",
   "execution_count": 50,
   "id": "a9013918-1f0d-4b15-a21d-304144138d03",
   "metadata": {},
   "outputs": [],
   "source": [
    "import pickle\n",
    "\n",
    "# save the model to disk\n",
    "filename = 'finalized_model.sav'\n",
    "pickle.dump(qsvc_model, open(filename, 'wb'))"
   ]
  },
  {
   "cell_type": "code",
   "execution_count": 94,
   "id": "2a02fec7-8926-4e07-89a3-01666f78042e",
   "metadata": {},
   "outputs": [
    {
     "name": "stdout",
     "output_type": "stream",
     "text": [
      "0.8\n"
     ]
    }
   ],
   "source": [
    "# some time later...\n",
    " \n",
    "# load the model from disk\n",
    "loaded_model = pickle.load(open(filename, 'rb'))\n",
    "result = loaded_model.score(X_test, y_test)\n",
    "print(result)"
   ]
  },
  {
   "cell_type": "code",
   "execution_count": 95,
   "id": "0bec6e4d-10b6-4a4c-b7b0-787d097ee0a0",
   "metadata": {},
   "outputs": [
    {
     "data": {
      "text/plain": [
       "-0.1591859939469502"
      ]
     },
     "execution_count": 95,
     "metadata": {},
     "output_type": "execute_result"
    }
   ],
   "source": [
    "np.random.normal(0, .1)"
   ]
  },
  {
   "cell_type": "code",
   "execution_count": 97,
   "id": "94767c43-3046-46e0-8a30-52e3d2b36a7f",
   "metadata": {},
   "outputs": [
    {
     "name": "stdout",
     "output_type": "stream",
     "text": [
      "{'C': 1.0, 'break_ties': False, 'cache_size': 200, 'class_weight': None, 'coef0': 0.0, 'decision_function_shape': 'ovr', 'degree': 3, 'gamma': 'scale', 'kernel': <bound method QuantumKernel.evaluate of <qiskit_machine_learning.kernels.quantum_kernel.QuantumKernel object at 0x7f97d267cfa0>>, 'max_iter': -1, 'probability': False, 'random_state': None, 'shrinking': True, 'tol': 0.001, 'verbose': False}\n"
     ]
    }
   ],
   "source": [
    "print(loaded_model.get_params())"
   ]
  },
  {
   "cell_type": "code",
   "execution_count": 100,
   "id": "c8bf4d5f-7814-403a-b48d-5c4397219b70",
   "metadata": {},
   "outputs": [
    {
     "name": "stdout",
     "output_type": "stream",
     "text": [
      "{'C': 1.0, 'break_ties': False, 'cache_size': 200, 'class_weight': None, 'coef0': 0.0, 'decision_function_shape': 'ovr', 'degree': 3, 'gamma': 'scale', 'kernel': <bound method QuantumKernel.evaluate of <qiskit_machine_learning.kernels.quantum_kernel.QuantumKernel object at 0x7f97d535b2b0>>, 'max_iter': -1, 'probability': False, 'random_state': None, 'shrinking': True, 'tol': 0.001, 'verbose': False}\n",
      "Traceback \u001b[1;36m(most recent call last)\u001b[0m:\n",
      "\u001b[1;36m  Input \u001b[1;32mIn [100]\u001b[1;36m in \u001b[1;35m<cell line: 11>\u001b[1;36m\u001b[0m\n",
      "\u001b[1;33m    qsvc.set_params(trained_model.get_params())\u001b[0m\n",
      "\u001b[1;31mTypeError\u001b[0m\u001b[1;31m:\u001b[0m set_params() takes 1 positional argument but 2 were given\n",
      "\n",
      "Use %tb to get the full traceback.\n"
     ]
    },
    {
     "data": {
      "text/html": [
       "\n",
       "<style>\n",
       ".button {\n",
       "  border: none;\n",
       "  color: white;\n",
       "  padding: 4px 8px;\n",
       "  text-align: center;\n",
       "  text-decoration: none;\n",
       "  display: inline-block;\n",
       "  font-size: 12px;\n",
       "  margin: 4px 2px;\n",
       "  transition-duration: 0.2s;\n",
       "  cursor: pointer;\n",
       "}\n",
       ".iqx-button {\n",
       "  background-color: #0f62fe; \n",
       "  color: white; \n",
       "}\n",
       ".iqx-button:hover {\n",
       "  background-color: #0043ce;\n",
       "  color: white;\n",
       "}\n",
       "</style>\n",
       "<a href=\"https://stackoverflow.com/search?q=TypeError: set_params() takes 1 positional argument but 2 were given\" target='_blank'><button class='button iqx-button'>Search for solution online</button></a>\n"
      ],
      "text/plain": [
       "<IPython.core.display.HTML object>"
      ]
     },
     "metadata": {},
     "output_type": "display_data"
    }
   ],
   "source": [
    "filename = 'finalized_model.sav'\n",
    "trained_model = pickle.load(open(filename, 'rb'))\n",
    "feature_map = ZZFeatureMap(feature_dimension=3, reps=4, entanglement=\"linear\")\n",
    "backend = QuantumInstance(\n",
    "    BasicAer.get_backend(\"qasm_simulator\"), shots=16, seed_simulator=seed, seed_transpiler=seed\n",
    ")\n",
    "kernel = QuantumKernel(feature_map=feature_map, quantum_instance=backend)\n",
    "qsvc = SVC(kernel=kernel.evaluate)\n",
    "#print(qsvc.score(X_test, y_test))\n",
    "print(trained_model.get_params())\n",
    "qsvc.set_params(trained_model.get_params())\n",
    "print(qsvc.score(X_test, y_test))\n"
   ]
  },
  {
   "cell_type": "code",
   "execution_count": null,
   "id": "3ad3dff2-4ebc-4b29-a823-71f79193e7a6",
   "metadata": {},
   "outputs": [],
   "source": []
  }
 ],
 "metadata": {
  "kernelspec": {
   "display_name": "Python 3 (ipykernel)",
   "language": "python",
   "name": "python3"
  },
  "language_info": {
   "codemirror_mode": {
    "name": "ipython",
    "version": 3
   },
   "file_extension": ".py",
   "mimetype": "text/x-python",
   "name": "python",
   "nbconvert_exporter": "python",
   "pygments_lexer": "ipython3",
   "version": "3.8.13"
  },
  "widgets": {
   "application/vnd.jupyter.widget-state+json": {
    "state": {
     "13ae71b3cf35424c914039a1eb2e9ab8": {
      "model_module": "@jupyter-widgets/controls",
      "model_module_version": "1.5.0",
      "model_name": "DescriptionStyleModel",
      "state": {
       "description_width": ""
      }
     },
     "285f3967eeaf47fd98588d7bc82905e0": {
      "model_module": "@jupyter-widgets/base",
      "model_module_version": "1.2.0",
      "model_name": "LayoutModel",
      "state": {
       "width": "70px"
      }
     },
     "287837fa76db4e74a85850db2a37c3ac": {
      "model_module": "@jupyter-widgets/controls",
      "model_module_version": "1.5.0",
      "model_name": "HTMLModel",
      "state": {
       "layout": "IPY_MODEL_c1b2050e35db4212a54ae80a7d2c2942",
       "style": "IPY_MODEL_13ae71b3cf35424c914039a1eb2e9ab8",
       "value": "<h5>Backend</h5>"
      }
     },
     "33b0a99ee28f458d9f5fa0d34f9f2da7": {
      "model_module": "@jupyter-widgets/controls",
      "model_module_version": "1.5.0",
      "model_name": "HTMLModel",
      "state": {
       "layout": "IPY_MODEL_285f3967eeaf47fd98588d7bc82905e0",
       "style": "IPY_MODEL_9c0dedb819f44cb5b33b10f55daa8fa6",
       "value": "<h5>Queue</h5>"
      }
     },
     "3f71188b78054762a5d582f65b3ce96b": {
      "model_module": "@jupyter-widgets/base",
      "model_module_version": "1.2.0",
      "model_name": "LayoutModel",
      "state": {
       "grid_area": "right",
       "padding": "0px 0px 0px 0px",
       "width": "70px"
      }
     },
     "4378ad0534f445988b2540be52b07b30": {
      "model_module": "@jupyter-widgets/base",
      "model_module_version": "1.2.0",
      "model_name": "LayoutModel",
      "state": {
       "margin": "0px 0px 10px 0px"
      }
     },
     "4a97ab174aa54a29851867300efaaee8": {
      "model_module": "@jupyter-widgets/base",
      "model_module_version": "1.2.0",
      "model_name": "LayoutModel",
      "state": {
       "width": "95px"
      }
     },
     "5ec95ce5e2e94045b2edd3562e29b709": {
      "model_module": "@jupyter-widgets/controls",
      "model_module_version": "1.5.0",
      "model_name": "HTMLModel",
      "state": {
       "layout": "IPY_MODEL_6d603e4ec3924c8198e33307923aac11",
       "style": "IPY_MODEL_784e92ee744f4599909311d3959257f1",
       "value": "<h5>Job ID</h5>"
      }
     },
     "6d603e4ec3924c8198e33307923aac11": {
      "model_module": "@jupyter-widgets/base",
      "model_module_version": "1.2.0",
      "model_name": "LayoutModel",
      "state": {
       "width": "190px"
      }
     },
     "72e573dc824a4cc2aca8e18749052144": {
      "model_module": "@jupyter-widgets/base",
      "model_module_version": "1.2.0",
      "model_name": "LayoutModel",
      "state": {
       "grid_template_areas": "\n                                       \". . . . right \"\n                                        ",
       "grid_template_columns": "20% 20% 20% 20% 20%",
       "width": "100%"
      }
     },
     "784e92ee744f4599909311d3959257f1": {
      "model_module": "@jupyter-widgets/controls",
      "model_module_version": "1.5.0",
      "model_name": "DescriptionStyleModel",
      "state": {
       "description_width": ""
      }
     },
     "8fe8b1d530f84839be99f493cfb578ef": {
      "model_module": "@jupyter-widgets/controls",
      "model_module_version": "1.5.0",
      "model_name": "DescriptionStyleModel",
      "state": {
       "description_width": ""
      }
     },
     "93473ffe4620400a9a92009dffd4555d": {
      "model_module": "@jupyter-widgets/controls",
      "model_module_version": "1.5.0",
      "model_name": "GridBoxModel",
      "state": {
       "children": [
        "IPY_MODEL_da42e4d552b6437fbadde7ba37e7e91e"
       ],
       "layout": "IPY_MODEL_72e573dc824a4cc2aca8e18749052144"
      }
     },
     "9c0dedb819f44cb5b33b10f55daa8fa6": {
      "model_module": "@jupyter-widgets/controls",
      "model_module_version": "1.5.0",
      "model_name": "DescriptionStyleModel",
      "state": {
       "description_width": ""
      }
     },
     "a3d650d2813c462c834d4809f945d983": {
      "model_module": "@jupyter-widgets/base",
      "model_module_version": "1.2.0",
      "model_name": "LayoutModel",
      "state": {
       "margin": "0px 0px 0px 37px",
       "width": "600px"
      }
     },
     "a819ad4c10b14009bd7702b32c637538": {
      "model_module": "@jupyter-widgets/base",
      "model_module_version": "1.2.0",
      "model_name": "LayoutModel",
      "state": {}
     },
     "afef6a2a3e1c476eb8f3e0c8451f04ff": {
      "model_module": "@jupyter-widgets/controls",
      "model_module_version": "1.5.0",
      "model_name": "DescriptionStyleModel",
      "state": {
       "description_width": ""
      }
     },
     "bb47fdd138774ad18f42c1b7082c475a": {
      "model_module": "@jupyter-widgets/controls",
      "model_module_version": "1.5.0",
      "model_name": "HTMLModel",
      "state": {
       "layout": "IPY_MODEL_4a97ab174aa54a29851867300efaaee8",
       "style": "IPY_MODEL_bba1a5f996774b0bbd03557738c895f3",
       "value": "<h5>Status</h5>"
      }
     },
     "bba1a5f996774b0bbd03557738c895f3": {
      "model_module": "@jupyter-widgets/controls",
      "model_module_version": "1.5.0",
      "model_name": "DescriptionStyleModel",
      "state": {
       "description_width": ""
      }
     },
     "c1b2050e35db4212a54ae80a7d2c2942": {
      "model_module": "@jupyter-widgets/base",
      "model_module_version": "1.2.0",
      "model_name": "LayoutModel",
      "state": {
       "width": "145px"
      }
     },
     "d61d1b35004940db8cba2db38647e23d": {
      "model_module": "@jupyter-widgets/controls",
      "model_module_version": "1.5.0",
      "model_name": "HTMLModel",
      "state": {
       "layout": "IPY_MODEL_4378ad0534f445988b2540be52b07b30",
       "style": "IPY_MODEL_afef6a2a3e1c476eb8f3e0c8451f04ff",
       "value": "<p style='font-family: IBM Plex Sans, Arial, Helvetica, sans-serif; font-size: 20px; font-weight: medium;'>Circuit Properties</p>"
      }
     },
     "da42e4d552b6437fbadde7ba37e7e91e": {
      "model_module": "@jupyter-widgets/controls",
      "model_module_version": "1.5.0",
      "model_name": "ButtonModel",
      "state": {
       "button_style": "primary",
       "description": "Clear",
       "layout": "IPY_MODEL_3f71188b78054762a5d582f65b3ce96b",
       "style": "IPY_MODEL_f9faabb826b644db954bc8581fe53d9e"
      }
     },
     "ee334c22735843e2b4fed9964500abec": {
      "model_module": "@jupyter-widgets/controls",
      "model_module_version": "1.5.0",
      "model_name": "HTMLModel",
      "state": {
       "layout": "IPY_MODEL_a819ad4c10b14009bd7702b32c637538",
       "style": "IPY_MODEL_8fe8b1d530f84839be99f493cfb578ef",
       "value": "<h5>Message</h5>"
      }
     },
     "f084de704ef34fc19f5743d29431a1f2": {
      "model_module": "@jupyter-widgets/controls",
      "model_module_version": "1.5.0",
      "model_name": "HBoxModel",
      "state": {
       "children": [
        "IPY_MODEL_5ec95ce5e2e94045b2edd3562e29b709",
        "IPY_MODEL_287837fa76db4e74a85850db2a37c3ac",
        "IPY_MODEL_bb47fdd138774ad18f42c1b7082c475a",
        "IPY_MODEL_33b0a99ee28f458d9f5fa0d34f9f2da7",
        "IPY_MODEL_ee334c22735843e2b4fed9964500abec"
       ],
       "layout": "IPY_MODEL_a3d650d2813c462c834d4809f945d983"
      }
     },
     "f9faabb826b644db954bc8581fe53d9e": {
      "model_module": "@jupyter-widgets/controls",
      "model_module_version": "1.5.0",
      "model_name": "ButtonStyleModel",
      "state": {}
     }
    },
    "version_major": 2,
    "version_minor": 0
   }
  }
 },
 "nbformat": 4,
 "nbformat_minor": 5
}
